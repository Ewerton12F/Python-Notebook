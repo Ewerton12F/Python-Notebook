{
  "nbformat": 4,
  "nbformat_minor": 0,
  "metadata": {
    "colab": {
      "name": "PYTHON Notebook.ipynb",
      "provenance": [],
      "collapsed_sections": [
        "CxP4M3CAf6GL",
        "jJai-pwfU-pC",
        "Ye_6fFYv9ZYp",
        "cVsb7Ti7Crk4",
        "XI24K15oLpMQ",
        "upV43IJ4NdyD",
        "VqHk1jgrnuxR",
        "Yl97Cvn8CNrU",
        "_MAfmazwh7Pd",
        "2W3XpQ9jE1gu",
        "UR1viK5d1hw3",
        "yV1sSgQuzfCA",
        "-f1D1-2edxYv",
        "Jjn6s_Yh9py9",
        "rNXhyspbvMfk"
      ],
      "include_colab_link": true
    },
    "kernelspec": {
      "name": "python3",
      "display_name": "Python 3"
    }
  },
  "cells": [
    {
      "cell_type": "markdown",
      "metadata": {
        "id": "view-in-github",
        "colab_type": "text"
      },
      "source": [
        "<a href=\"https://colab.research.google.com/github/Ewerton12F/Python-Notebook/blob/master/PYTHON_Notebook.ipynb\" target=\"_parent\"><img src=\"https://colab.research.google.com/assets/colab-badge.svg\" alt=\"Open In Colab\"/></a>"
      ]
    },
    {
      "cell_type": "markdown",
      "metadata": {
        "id": "bGHjfcIsCmFj",
        "colab_type": "text"
      },
      "source": [
        "# ***Ewerton's NOTEBOOK***\n"
      ]
    },
    {
      "cell_type": "markdown",
      "metadata": {
        "id": "aUW_Etlb4HZ2",
        "colab_type": "text"
      },
      "source": [
        "Métodos são ações que podem ser aplicadas no objeto\n",
        "Atributos são as característcas dos objetos \n",
        "\n",
        "objeto.atributo\n",
        "objeto.método( )"
      ]
    },
    {
      "cell_type": "markdown",
      "metadata": {
        "id": "nopwQaNMC_KK",
        "colab_type": "text"
      },
      "source": [
        "# *Cores*\n",
        "<hr>\n"
      ]
    },
    {
      "cell_type": "code",
      "metadata": {
        "id": "w7sDX7WeJKXa",
        "colab_type": "code",
        "colab": {}
      },
      "source": [
        "for x in range(x, x):\n",
        "  for y in range(y, y):\n",
        "    for z in range(z, z):\n",
        "      cores = (f'\\033[{x};{y};{z}mA frase tem os valores x = {x}, y = {y} e z = {z}\\033[0;0;0m')\n",
        "      print(cores)"
      ],
      "execution_count": 0,
      "outputs": []
    },
    {
      "cell_type": "code",
      "metadata": {
        "id": "zt3yyOYz8DeW",
        "colab_type": "code",
        "outputId": "d6761028-15a4-4c2b-d85b-5caea0d2b20d",
        "colab": {
          "base_uri": "https://localhost:8080/",
          "height": 33
        }
      },
      "source": [
        "# Bold → ZERAR O POSTERIOR CANCELA O ANTERIOR\n",
        "x = 1 \n",
        "y = 1 # Cor da letra\n",
        "z = 1\n",
        "\n",
        "print(f'\\033[{x};{y};{z}mA frase tem os valores x = {x}, y = {y} e z = {z}\\033[0;0;0m')"
      ],
      "execution_count": 0,
      "outputs": [
        {
          "output_type": "stream",
          "text": [
            "\u001b[1;1;1mA frase tem os valores x = 1, y = 1 e z = 1\u001b[0;0;0m\n"
          ],
          "name": "stdout"
        }
      ]
    },
    {
      "cell_type": "code",
      "metadata": {
        "id": "81alIGhu7DFM",
        "colab_type": "code",
        "outputId": "1b321d74-3e9d-43c4-d48e-827c9b51048b",
        "colab": {
          "base_uri": "https://localhost:8080/",
          "height": 33
        }
      },
      "source": [
        "# Itálico → ZERAR O POSTERIOR O CANCELA\n",
        "x = 3\n",
        "y = 3 \n",
        "z = 3 \n",
        "\n",
        "print(f'\\033[{x};{y};{z}mA frase tem os valores x = {x}, y = {y} e z = {z}\\033[0;0;0m')"
      ],
      "execution_count": 0,
      "outputs": [
        {
          "output_type": "stream",
          "text": [
            "\u001b[3;3;3mA frase tem os valores x = 3, y = 3 e z = 3\u001b[0;0;0m\n"
          ],
          "name": "stdout"
        }
      ]
    },
    {
      "cell_type": "code",
      "metadata": {
        "id": "sKesSl9L6NYS",
        "colab_type": "code",
        "outputId": "f31fb34c-b50d-4288-f359-c914740088e5",
        "colab": {
          "base_uri": "https://localhost:8080/",
          "height": 33
        }
      },
      "source": [
        "# Sublinhado → ZERAR O POSTERIOR O CANCELA\n",
        "x = 4\n",
        "y = 4 \n",
        "z = 4 \n",
        "\n",
        "print(f'\\033[{x};{y};{z}mA frase tem os valores x = {x}, y = {y} e z = {z}\\033[0;0;0m')"
      ],
      "execution_count": 0,
      "outputs": [
        {
          "output_type": "stream",
          "text": [
            "\u001b[4;4;4mA frase tem os valores x = 4, y = 4 e z = 4\u001b[0;0;0m\n"
          ],
          "name": "stdout"
        }
      ]
    },
    {
      "cell_type": "code",
      "metadata": {
        "id": "rkVbPa-ZDXEn",
        "colab_type": "code",
        "outputId": "4d10f8aa-4cb0-41ac-bf6f-83fb208a46fa",
        "colab": {
          "base_uri": "https://localhost:8080/",
          "height": 33
        }
      },
      "source": [
        "# Letra Cinza\n",
        "x = 1 # Estilo da fonte\n",
        "y = 30  \n",
        "z = 3 # Estilo da fonte\n",
        "\n",
        "print(f'\\033[{x};{y};{z}mA frase tem os valores x = {x}, y = {y} e z = {z}\\033[0;0;0m')"
      ],
      "execution_count": 0,
      "outputs": [
        {
          "output_type": "stream",
          "text": [
            "\u001b[1;30;3mA frase tem os valores x = 1, y = 30 e z = 3\u001b[0;0;0m\n"
          ],
          "name": "stdout"
        }
      ]
    },
    {
      "cell_type": "code",
      "metadata": {
        "id": "tlO5ugqoDki6",
        "colab_type": "code",
        "outputId": "a93970fe-4e77-41e9-9ae1-62c063003764",
        "colab": {
          "base_uri": "https://localhost:8080/",
          "height": 33
        }
      },
      "source": [
        "# Letra Vermelho\n",
        "x = 1 \n",
        "y = 31\n",
        "z = 3 \n",
        "\n",
        "print(f'\\033[{x};{y};{z}mA frase tem os valores x = {x}, y = {y} e z = {z}\\033[0;0;0m')"
      ],
      "execution_count": 0,
      "outputs": [
        {
          "output_type": "stream",
          "text": [
            "\u001b[1;31;3mA frase tem os valores x = 1, y = 31 e z = 3\u001b[0;0;0m\n"
          ],
          "name": "stdout"
        }
      ]
    },
    {
      "cell_type": "code",
      "metadata": {
        "id": "QmVLv-thDtgL",
        "colab_type": "code",
        "outputId": "cebc60c6-70bc-4730-ae35-3b993fc1e7e7",
        "colab": {
          "base_uri": "https://localhost:8080/",
          "height": 33
        }
      },
      "source": [
        "# Letra Verde\n",
        "x = 1\n",
        "y = 32 \n",
        "z = 3\n",
        "\n",
        "print(f'\\033[{x};{y};{z}mA frase tem os valores x = {x}, y = {y} e z = {z}\\033[0;0;0m')"
      ],
      "execution_count": 0,
      "outputs": [
        {
          "output_type": "stream",
          "text": [
            "\u001b[1;32;3mA frase tem os valores x = 1, y = 32 e z = 3\u001b[0;0;0m\n"
          ],
          "name": "stdout"
        }
      ]
    },
    {
      "cell_type": "code",
      "metadata": {
        "id": "zEWFUbYHD2-X",
        "colab_type": "code",
        "outputId": "53a6b2e0-9bb6-41ab-fc8f-1a96db9d1dfa",
        "colab": {
          "base_uri": "https://localhost:8080/",
          "height": 33
        }
      },
      "source": [
        "# Letra Amarela\n",
        "x = 1\n",
        "y = 33 \n",
        "z = 3\n",
        "\n",
        "print(f'\\033[{x};{y};{z}mA frase tem os valores x = {x}, y = {y} e z = {z}\\033[0;0;0m')"
      ],
      "execution_count": 0,
      "outputs": [
        {
          "output_type": "stream",
          "text": [
            "\u001b[1;33;3mA frase tem os valores x = 1, y = 33 e z = 3\u001b[0;0;0m\n"
          ],
          "name": "stdout"
        }
      ]
    },
    {
      "cell_type": "code",
      "metadata": {
        "id": "0CukcA6aD_Cz",
        "colab_type": "code",
        "outputId": "0847d5e6-fb0f-48dd-8703-e32ce4f1503d",
        "colab": {
          "base_uri": "https://localhost:8080/",
          "height": 33
        }
      },
      "source": [
        "# Letra Lilás\n",
        "x = 1\n",
        "y = 34\n",
        "z = 3\n",
        "\n",
        "print(f'\\033[{x};{y};{z}mA frase tem os valores x = {x}, y = {y} e z = {z}\\033[0;0;0m')"
      ],
      "execution_count": 0,
      "outputs": [
        {
          "output_type": "stream",
          "text": [
            "\u001b[1;34;3mA frase tem os valores x = 1, y = 34 e z = 3\u001b[0;0;0m\n"
          ],
          "name": "stdout"
        }
      ]
    },
    {
      "cell_type": "code",
      "metadata": {
        "id": "FWDrJ6bhEP6_",
        "colab_type": "code",
        "outputId": "85999971-01b0-4d7c-bc27-6b32289eb588",
        "colab": {
          "base_uri": "https://localhost:8080/",
          "height": 33
        }
      },
      "source": [
        "# Letra Roxa \n",
        "x = 1\n",
        "y = 35\n",
        "z = 3\n",
        "\n",
        "print(f'\\033[{x};{y};{z}mA frase tem os valores x = {x}, y = {y} e z = {z}\\033[0;0;0m')"
      ],
      "execution_count": 0,
      "outputs": [
        {
          "output_type": "stream",
          "text": [
            "\u001b[1;35;3mA frase tem os valores x = 1, y = 35 e z = 3\u001b[0;0;0m\n"
          ],
          "name": "stdout"
        }
      ]
    },
    {
      "cell_type": "code",
      "metadata": {
        "id": "MgPMW5kPEVX7",
        "colab_type": "code",
        "outputId": "d60f5acf-dd06-433c-a7f7-13c63f6ede7b",
        "colab": {
          "base_uri": "https://localhost:8080/",
          "height": 33
        }
      },
      "source": [
        "# Letra Azul\n",
        "x = 1\n",
        "y = 36\n",
        "z = 3\n",
        "\n",
        "print(f'\\033[{x};{y};{z}mA frase tem os valores x = {x}, y = {y} e z = {z}\\033[0;0;0m')"
      ],
      "execution_count": 0,
      "outputs": [
        {
          "output_type": "stream",
          "text": [
            "\u001b[1;36;3mA frase tem os valores x = 1, y = 36 e z = 3\u001b[0;0;0m\n"
          ],
          "name": "stdout"
        }
      ]
    },
    {
      "cell_type": "code",
      "metadata": {
        "id": "61NZSJm5EfSX",
        "colab_type": "code",
        "outputId": "96578fe4-75eb-495b-ddbd-4a0eb8cd7827",
        "colab": {
          "base_uri": "https://localhost:8080/",
          "height": 33
        }
      },
      "source": [
        "# Letra Braca\n",
        "x = 1\n",
        "y = 37\n",
        "z = 3\n",
        "\n",
        "print(f'\\033[{x};{y};{z}mA frase tem os valores x = {x}, y = {y} e z = {z}\\033[0;0;0m')"
      ],
      "execution_count": 0,
      "outputs": [
        {
          "output_type": "stream",
          "text": [
            "\u001b[1;37;3mA frase tem os valores x = 1, y = 37 e z = 3\u001b[0;0;0m\n"
          ],
          "name": "stdout"
        }
      ]
    },
    {
      "cell_type": "code",
      "metadata": {
        "id": "nBaW47fgEnRQ",
        "colab_type": "code",
        "outputId": "e9254456-346b-4598-f787-8a217c5e77dd",
        "colab": {
          "base_uri": "https://localhost:8080/",
          "height": 33
        }
      },
      "source": [
        "# Background Cinza  \n",
        "x = 3\n",
        "y = 1\n",
        "z = 40\n",
        "\n",
        "print(f'\\033[{x};{y};{z}mA frase tem os valores x = {x}, y = {y} e z = {z}\\033[0;0;0m')"
      ],
      "execution_count": 0,
      "outputs": [
        {
          "output_type": "stream",
          "text": [
            "\u001b[3;1;40mA frase tem os valores x = 3, y = 1 e z = 40\u001b[0;0;0m\n"
          ],
          "name": "stdout"
        }
      ]
    },
    {
      "cell_type": "code",
      "metadata": {
        "id": "2wz-rMzkKDQc",
        "colab_type": "code",
        "outputId": "5e33392a-0456-439c-f14b-03750679f4fb",
        "colab": {
          "base_uri": "https://localhost:8080/",
          "height": 33
        }
      },
      "source": [
        "# Background Vermelho\n",
        "x = 3\n",
        "y = 1\n",
        "z = 41\n",
        "\n",
        "print(f'\\033[{x};{y};{z}mA frase tem os valores x = {x}, y = {y} e z = {z}\\033[0;0;0m')"
      ],
      "execution_count": 0,
      "outputs": [
        {
          "output_type": "stream",
          "text": [
            "\u001b[3;1;41mA frase tem os valores x = 3, y = 1 e z = 41\u001b[0;0;0m\n"
          ],
          "name": "stdout"
        }
      ]
    },
    {
      "cell_type": "code",
      "metadata": {
        "id": "FPlMRymWKKPj",
        "colab_type": "code",
        "outputId": "0bfd4e36-220b-4dfd-9cd1-15d6bfe2f2d8",
        "colab": {
          "base_uri": "https://localhost:8080/",
          "height": 33
        }
      },
      "source": [
        "# Background Verde\n",
        "x = 3\n",
        "y = 1\n",
        "z = 42\n",
        "\n",
        "print(f'\\033[{x};{y};{z}mA frase tem os valores x = {x}, y = {y} e z = {z}\\033[0;0;0m')"
      ],
      "execution_count": 0,
      "outputs": [
        {
          "output_type": "stream",
          "text": [
            "\u001b[3;1;42mA frase tem os valores x = 3, y = 1 e z = 42\u001b[0;0;0m\n"
          ],
          "name": "stdout"
        }
      ]
    },
    {
      "cell_type": "code",
      "metadata": {
        "id": "YtwJLUvdKNrr",
        "colab_type": "code",
        "outputId": "20187623-05b4-403a-a670-1a89e04268fc",
        "colab": {
          "base_uri": "https://localhost:8080/",
          "height": 33
        }
      },
      "source": [
        "# Background Amarelo\n",
        "x = 3\n",
        "y = 30\n",
        "z = 43\n",
        "\n",
        "print(f'\\033[{x};{y};{z}mA frase tem os valores x = {x}, y = {y} e z = {z}\\033[0;0;0m')"
      ],
      "execution_count": 0,
      "outputs": [
        {
          "output_type": "stream",
          "text": [
            "\u001b[3;30;43mA frase tem os valores x = 3, y = 30 e z = 43\u001b[0;0;0m\n"
          ],
          "name": "stdout"
        }
      ]
    },
    {
      "cell_type": "code",
      "metadata": {
        "id": "IY6ellNAKV56",
        "colab_type": "code",
        "outputId": "1867498d-e065-4e8c-da73-5be208b8150e",
        "colab": {
          "base_uri": "https://localhost:8080/",
          "height": 33
        }
      },
      "source": [
        "# Background Lilás\n",
        "x = 3\n",
        "y = 30\n",
        "z = 44\n",
        "\n",
        "print(f'\\033[{x};{y};{z}mA frase tem os valores x = {x}, y = {y} e z = {z}\\033[0;0;0m')"
      ],
      "execution_count": 0,
      "outputs": [
        {
          "output_type": "stream",
          "text": [
            "\u001b[3;30;44mA frase tem os valores x = 3, y = 30 e z = 44\u001b[0;0;0m\n"
          ],
          "name": "stdout"
        }
      ]
    },
    {
      "cell_type": "code",
      "metadata": {
        "id": "u1Dmh_8OKtVU",
        "colab_type": "code",
        "outputId": "fac25676-134b-448c-b02a-24e10d45e028",
        "colab": {
          "base_uri": "https://localhost:8080/",
          "height": 33
        }
      },
      "source": [
        "# Background Roxo\n",
        "x = 3\n",
        "y = 1\n",
        "z = 45\n",
        "\n",
        "print(f'\\033[{x};{y};{z}mA frase tem os valores x = {x}, y = {y} e z = {z}\\033[0;0;0m')"
      ],
      "execution_count": 0,
      "outputs": [
        {
          "output_type": "stream",
          "text": [
            "\u001b[3;1;45mA frase tem os valores x = 3, y = 1 e z = 45\u001b[0;0;0m\n"
          ],
          "name": "stdout"
        }
      ]
    },
    {
      "cell_type": "code",
      "metadata": {
        "id": "Dy5pKUHVK1wN",
        "colab_type": "code",
        "outputId": "059d8ab9-3ca1-4b9b-cbda-eb3a0e6e1c53",
        "colab": {
          "base_uri": "https://localhost:8080/",
          "height": 33
        }
      },
      "source": [
        "# Background Azul\n",
        "x = 3\n",
        "y = 30\n",
        "z = 46\n",
        "\n",
        "print(f'\\033[{x};{y};{z}mA frase tem os valores x = {x}, y = {y} e z = {z}\\033[0;0;0m')"
      ],
      "execution_count": 0,
      "outputs": [
        {
          "output_type": "stream",
          "text": [
            "\u001b[3;30;46mA frase tem os valores x = 3, y = 30 e z = 46\u001b[0;0;0m\n"
          ],
          "name": "stdout"
        }
      ]
    },
    {
      "cell_type": "code",
      "metadata": {
        "id": "MnBhEdGjK9KN",
        "colab_type": "code",
        "outputId": "f0550a9b-5951-4e93-9020-9cc8003fa5a9",
        "colab": {
          "base_uri": "https://localhost:8080/",
          "height": 33
        }
      },
      "source": [
        "# Background Branco\n",
        "x = 3\n",
        "y = 30\n",
        "z = 47\n",
        "\n",
        "print(f'\\033[{x};{y};{z}mA frase tem os valores x = {x}, y = {y} e z = {z}\\033[0;0;0m')"
      ],
      "execution_count": 0,
      "outputs": [
        {
          "output_type": "stream",
          "text": [
            "\u001b[3;30;47mA frase tem os valores x = 3, y = 30 e z = 47\u001b[0;0;0m\n"
          ],
          "name": "stdout"
        }
      ]
    },
    {
      "cell_type": "markdown",
      "metadata": {
        "id": "CxP4M3CAf6GL",
        "colab_type": "text"
      },
      "source": [
        "# *Conversão da entrada de dados*\n",
        "<hr>\n",
        "\n",
        "*A função input sempre retorna valores do tipo string, ou seja, não importa se digitamos apenas números, o resultado sempre é string. Para resolver esse\n",
        "pequeno problema, vamos utilizar a função **int** para converter o valor retornado em um número inteiro, e a função **float** para convertê-lo em número decimal ou de ponto flutuante.*"
      ]
    },
    {
      "cell_type": "code",
      "metadata": {
        "id": "ycDHESy1vW6N",
        "colab_type": "code",
        "outputId": "af1d27c0-d27a-450b-a331-35c924a3d807",
        "colab": {
          "base_uri": "https://localhost:8080/",
          "height": 33
        }
      },
      "source": [
        "print(f'{\"EWERTON\":^113}')"
      ],
      "execution_count": 0,
      "outputs": [
        {
          "output_type": "stream",
          "text": [
            "                                                     EWERTON                                                     \n"
          ],
          "name": "stdout"
        }
      ]
    },
    {
      "cell_type": "code",
      "metadata": {
        "id": "WXTHeOuWISB7",
        "colab_type": "code",
        "outputId": "f2e1d6e7-3363-408b-94e0-f6f9047eee9a",
        "colab": {
          "base_uri": "https://localhost:8080/",
          "height": 52
        }
      },
      "source": [
        "nome = input('Seu nome: ')\n",
        "print(f'Seu nome é {nome.capitalize():-^11}')"
      ],
      "execution_count": 0,
      "outputs": [
        {
          "output_type": "stream",
          "text": [
            "Seu nome: EWERTON\n",
            "Seu nome é --Ewerton--\n"
          ],
          "name": "stdout"
        }
      ]
    },
    {
      "cell_type": "code",
      "metadata": {
        "id": "WB91ai5z1pHa",
        "colab_type": "code",
        "outputId": "6288e69e-ef67-4785-91cb-9f03ea4a2db6",
        "colab": {
          "base_uri": "https://localhost:8080/",
          "height": 87
        }
      },
      "source": [
        "message = 'I\\'m looking for someone to share a adventure.'\n",
        "print(message)\n",
        "movie_quote = \"\"\"One of my favorite lines from The Godfather is:\n",
        "\"I'm going to make him an offer he can't refuse.\"\n",
        "Do you know who said this?\"\"\"\n",
        "print(movie_quote)"
      ],
      "execution_count": 0,
      "outputs": [
        {
          "output_type": "stream",
          "text": [
            "I'm looking for someone to share a adventure.\n",
            "One of my favorite lines from The Godfather is:\n",
            "\"I'm going to make him an offer he can't refuse.\"\n",
            "Do you know who said this?\n"
          ],
          "name": "stdout"
        }
      ]
    },
    {
      "cell_type": "code",
      "metadata": {
        "id": "VVjzT80sOFMG",
        "colab_type": "code",
        "outputId": "7d61ab26-621f-4ba5-f305-cf59dae42e44",
        "colab": {
          "base_uri": "https://localhost:8080/",
          "height": 34
        }
      },
      "source": [
        "negativo = 1\n",
        "negativo += 1\n",
        "\n",
        "print(f'{negativo}')"
      ],
      "execution_count": 0,
      "outputs": [
        {
          "output_type": "stream",
          "text": [
            "2\n"
          ],
          "name": "stdout"
        }
      ]
    },
    {
      "cell_type": "code",
      "metadata": {
        "id": "s1pB3mGjpUyJ",
        "colab_type": "code",
        "outputId": "787df1f7-6535-4059-a77a-4780f68e8f41",
        "colab": {
          "base_uri": "https://localhost:8080/",
          "height": 34
        }
      },
      "source": [
        "3*0.1"
      ],
      "execution_count": 0,
      "outputs": [
        {
          "output_type": "execute_result",
          "data": {
            "text/plain": [
              "0.30000000000000004"
            ]
          },
          "metadata": {
            "tags": []
          },
          "execution_count": 1
        }
      ]
    },
    {
      "cell_type": "code",
      "metadata": {
        "id": "SLW3ebX8hblq",
        "colab_type": "code",
        "outputId": "b64086c0-97c9-46cd-f9ed-69d56b104437",
        "colab": {
          "base_uri": "https://localhost:8080/",
          "height": 35
        }
      },
      "source": [
        "len('s')"
      ],
      "execution_count": 0,
      "outputs": [
        {
          "output_type": "execute_result",
          "data": {
            "text/plain": [
              "1"
            ]
          },
          "metadata": {
            "tags": []
          },
          "execution_count": 1
        }
      ]
    },
    {
      "cell_type": "code",
      "metadata": {
        "id": "T5ZHh5mH19Yp",
        "colab_type": "code",
        "outputId": "654812a3-0a62-4872-af40-a2b3630fbdd1",
        "colab": {
          "base_uri": "https://localhost:8080/",
          "height": 68
        }
      },
      "source": [
        "nome = input(\"Digite seu nome: \")\n",
        "print(f\"Você digitou {nome}\")\n",
        "print(f\"Olâ, {nome}!\")"
      ],
      "execution_count": 0,
      "outputs": [
        {
          "output_type": "stream",
          "text": [
            "Digite seu nome:Ewerton\n",
            "Você digitou Ewerton\n",
            "Olâ, Ewerton!\n"
          ],
          "name": "stdout"
        }
      ]
    },
    {
      "cell_type": "code",
      "metadata": {
        "id": "7_12fy8aZiUt",
        "colab_type": "code",
        "outputId": "6c603532-7177-4170-c52b-2077cfc5e1a6",
        "colab": {
          "base_uri": "https://localhost:8080/",
          "height": 51
        }
      },
      "source": [
        "x = int(input(\"Digite um número: \"))\n",
        "print(f\"O número digitado é: {x}\") "
      ],
      "execution_count": 0,
      "outputs": [
        {
          "output_type": "stream",
          "text": [
            "Digite um número: 5\n",
            "O número digitado é: 5\n"
          ],
          "name": "stdout"
        }
      ]
    },
    {
      "cell_type": "code",
      "metadata": {
        "id": "jyfBoZJ0bYfz",
        "colab_type": "code",
        "outputId": "d7dd072a-03de-4c69-d4f1-019e8099af4d",
        "colab": {
          "base_uri": "https://localhost:8080/",
          "height": 34
        }
      },
      "source": [
        "nome = \"João\" \n",
        "idade = 22\n",
        "grana = 51.34 \n",
        "\n",
        "f\"{nome} tem {idade} anos e R${grana} no bolso.\" \n"
      ],
      "execution_count": 0,
      "outputs": [
        {
          "output_type": "execute_result",
          "data": {
            "text/plain": [
              "'João tem 22 anos e R$51.34 no bolso.'"
            ]
          },
          "metadata": {
            "tags": []
          },
          "execution_count": 1
        }
      ]
    },
    {
      "cell_type": "code",
      "metadata": {
        "id": "FN-alZ8yL64F",
        "colab_type": "code",
        "outputId": "1de99c29-452d-4e02-dc62-8d0d177a8b07",
        "colab": {
          "base_uri": "https://localhost:8080/",
          "height": 52
        }
      },
      "source": [
        "num = int(input('Digite o número: '))\n",
        "suces = num + 1\n",
        "antes = num - 1\n",
        "print(f'O sucessor é {suces} e o antecessor é {antes}.')"
      ],
      "execution_count": 0,
      "outputs": [
        {
          "output_type": "stream",
          "text": [
            "Digite o número: 5\n",
            "O sucessor é 6 e o antecessor é 4.\n"
          ],
          "name": "stdout"
        }
      ]
    },
    {
      "cell_type": "markdown",
      "metadata": {
        "id": "rMJBqjrHr80w",
        "colab_type": "text"
      },
      "source": [
        "<h4>Operador - Operação - Símbolo matemático</h4>\n",
        "\n",
        "* == igualdade ==\n",
        "* _> maior que >\n",
        "* < menor que <\n",
        "* != diferente \n",
        "* _>= maior ou igual\n",
        "* <= menor ou igual; \n",
        "\n"
      ]
    },
    {
      "cell_type": "markdown",
      "metadata": {
        "id": "rTyE_AQcF1Yi",
        "colab_type": "text"
      },
      "source": [
        "<h4>Ordem da precedência</h4>\n",
        "\n",
        "1. ()\n",
        "2. **\n",
        "3. _ * / // %\n",
        "4. _ + -\n",
        "\n",
        "*   4**3\n",
        "*   pow(4,3)\n",
        "*   81**(1/2)\n",
        "\n",
        "*Pode também obter o resto da divisão de dois números usando o símbolo %:*"
      ]
    },
    {
      "cell_type": "code",
      "metadata": {
        "id": "MsLmowRm3mPk",
        "colab_type": "code",
        "outputId": "83ac62ba-e97a-4b59-afaa-06d3ecf40378",
        "colab": {
          "base_uri": "https://localhost:8080/",
          "height": 34
        }
      },
      "source": [
        "10 % 3"
      ],
      "execution_count": 0,
      "outputs": [
        {
          "output_type": "execute_result",
          "data": {
            "text/plain": [
              "1"
            ]
          },
          "metadata": {
            "tags": []
          },
          "execution_count": 1
        }
      ]
    },
    {
      "cell_type": "code",
      "metadata": {
        "id": "Q5lNHAYL3w9f",
        "colab_type": "code",
        "outputId": "6561b8be-3f14-4f75-bc0c-a7234579d444",
        "colab": {
          "base_uri": "https://localhost:8080/",
          "height": 34
        }
      },
      "source": [
        "16 % 7"
      ],
      "execution_count": 0,
      "outputs": [
        {
          "output_type": "execute_result",
          "data": {
            "text/plain": [
              "2"
            ]
          },
          "metadata": {
            "tags": []
          },
          "execution_count": 2
        }
      ]
    },
    {
      "cell_type": "code",
      "metadata": {
        "id": "35Nqzffq30K_",
        "colab_type": "code",
        "outputId": "1867d45c-ed76-402a-cd2b-42a5e45b06e9",
        "colab": {
          "base_uri": "https://localhost:8080/",
          "height": 34
        }
      },
      "source": [
        "63 % 8"
      ],
      "execution_count": 0,
      "outputs": [
        {
          "output_type": "execute_result",
          "data": {
            "text/plain": [
              "7"
            ]
          },
          "metadata": {
            "tags": []
          },
          "execution_count": 3
        }
      ]
    },
    {
      "cell_type": "code",
      "metadata": {
        "id": "dHa8G7E2aKgj",
        "colab_type": "code",
        "outputId": "8a5d263e-3d23-4fb9-d78f-70adb17acf04",
        "colab": {
          "base_uri": "https://localhost:8080/",
          "height": 68
        }
      },
      "source": [
        "anos = int(input(\"Anos de serviço: \"))\n",
        "valor_por_ano = float(input(\"Valor por ano: \"))\n",
        "bônus = anos * valor_por_ano\n",
        "print(f\"Bônus de R$ {bônus:5.2f}\") "
      ],
      "execution_count": 0,
      "outputs": [
        {
          "output_type": "stream",
          "text": [
            "Anos de serviço: 10\n",
            "Valor por ano: 20\n",
            "Bônus de R$ 200.00\n"
          ],
          "name": "stdout"
        }
      ]
    },
    {
      "cell_type": "code",
      "metadata": {
        "id": "EAe4EL2FMe0S",
        "colab_type": "code",
        "outputId": "7e7e3e0f-a868-4eb7-f762-71eadb2c1bee",
        "colab": {
          "base_uri": "https://localhost:8080/",
          "height": 52
        }
      },
      "source": [
        "num = int(input('Informe o número: '))\n",
        "dobro = num * 2\n",
        "triplo = num * 3\n",
        "raiz = num ** (1/2)\n",
        "\n",
        "print(f'O resultado do dobro é {dobro}, o triplo é {triplo} e a raiz é {raiz}.')"
      ],
      "execution_count": 0,
      "outputs": [
        {
          "output_type": "stream",
          "text": [
            "Informe o número: 25\n",
            "O resultado do dobro é 50, o triplo é 75 e a raiz é 5.0.\n"
          ],
          "name": "stdout"
        }
      ]
    },
    {
      "cell_type": "code",
      "metadata": {
        "id": "BPLMdGBdOFI7",
        "colab_type": "code",
        "outputId": "018e01b8-5a48-4741-e9b9-45ff9e3ccf96",
        "colab": {
          "base_uri": "https://localhost:8080/",
          "height": 52
        }
      },
      "source": [
        "real = float(input('Informe o valor que você quer converter: '))\n",
        "dolar = real / 4.50\n",
        "print(f'O valor convertido em dólar é: US${dolar}')"
      ],
      "execution_count": 0,
      "outputs": [
        {
          "output_type": "stream",
          "text": [
            "Informe o valor que você quer converter: 5\n",
            "O valor convertido em dólar é: US$1.1111111111111112\n"
          ],
          "name": "stdout"
        }
      ]
    },
    {
      "cell_type": "code",
      "metadata": {
        "id": "XONas6PLQr60",
        "colab_type": "code",
        "outputId": "3a0eb35f-5e3e-4784-ed1d-59901260cf12",
        "colab": {
          "base_uri": "https://localhost:8080/",
          "height": 70
        }
      },
      "source": [
        "alt = float(input('Informe a altura: '))\n",
        "larg = float(input('Informe a largura: '))\n",
        "\n",
        "area = alt * larg\n",
        "tinta = area / 2 \n",
        "\n",
        "print(f'A quantidade de tinta necessária é {tinta}l')"
      ],
      "execution_count": 0,
      "outputs": [
        {
          "output_type": "stream",
          "text": [
            "Informe a altura: 10\n",
            "Informe a largura: 20\n",
            "A quantidade de tinta necessária é 100.0L\n"
          ],
          "name": "stdout"
        }
      ]
    },
    {
      "cell_type": "code",
      "metadata": {
        "id": "ZogqEc8TR0Vh",
        "colab_type": "code",
        "outputId": "fc62b1dd-7487-45f5-c555-70a76cb1b5b6",
        "colab": {
          "base_uri": "https://localhost:8080/",
          "height": 52
        }
      },
      "source": [
        "preco = float(input('Informe o valor do produto: '))\n",
        "desc = preco - (preco * 5 / 100)\n",
        "\n",
        "print(f'O valor final com desconto é: {desc}')"
      ],
      "execution_count": 0,
      "outputs": [
        {
          "output_type": "stream",
          "text": [
            "Informe o valor do produto: 100\n",
            "O valor final com desconto é: 95.0\n"
          ],
          "name": "stdout"
        }
      ]
    },
    {
      "cell_type": "markdown",
      "metadata": {
        "id": "414nNso-V4kJ",
        "colab_type": "text"
      },
      "source": [
        "<h4>import math</h4>\n",
        "\n",
        "\n",
        "\n",
        "* ceil\n",
        "* floor\n",
        "* trunc\n",
        "* pow\n",
        "* sqrt\n",
        "* factorial\n",
        "\n",
        "import math\n",
        "\n",
        "from math import sqrt\n"
      ]
    },
    {
      "cell_type": "code",
      "metadata": {
        "id": "zwxC0p5LUoJY",
        "colab_type": "code",
        "outputId": "bd2e505c-91d8-4763-b4ee-ad1234698335",
        "colab": {
          "base_uri": "https://localhost:8080/",
          "height": 51
        }
      },
      "source": [
        "import math\n",
        "num = int(input('Digite um número: '))\n",
        "raiz = math.sqrt(num)\n",
        "print(f'A raiz de {num} é igual a {math.ceil(raiz)}.')"
      ],
      "execution_count": 0,
      "outputs": [
        {
          "output_type": "stream",
          "text": [
            "Digite um número: 81\n",
            "A raiz de 81 é igual a 9.\n"
          ],
          "name": "stdout"
        }
      ]
    },
    {
      "cell_type": "markdown",
      "metadata": {
        "id": "O70l138xWAwW",
        "colab_type": "text"
      },
      "source": [
        "<h1>Exercícios - Introdução à programação com Python - Variáveis e entrada de dados\n",
        "</h1>"
      ]
    },
    {
      "cell_type": "code",
      "metadata": {
        "id": "lKjulm7LhHqV",
        "colab_type": "code",
        "outputId": "76a7e1d1-2549-4760-f932-613c494f6a92",
        "colab": {
          "base_uri": "https://localhost:8080/",
          "height": 68
        }
      },
      "source": [
        "#Exercício_3.7\n",
        "numero_1 = int(input(\"Digite o primeiro número: \"))\n",
        "numero_2 = int(input(\"Digite o segundo número: \"))\n",
        "soma = numero_1 + numero_2\n",
        "print(f\"A soma dos número é: {soma}\")"
      ],
      "execution_count": 0,
      "outputs": [
        {
          "output_type": "stream",
          "text": [
            "Digíte o primeiro número: 1\n",
            "Digíte o segundo número: 2\n",
            "A soma dos número é: 3\n"
          ],
          "name": "stdout"
        }
      ]
    },
    {
      "cell_type": "code",
      "metadata": {
        "id": "uoH0M3criByN",
        "colab_type": "code",
        "outputId": "714d9878-7d56-4710-d2b4-8731fcbbef52",
        "colab": {
          "base_uri": "https://localhost:8080/",
          "height": 51
        }
      },
      "source": [
        "#Exercício_3.8\n",
        "metro = int(input('Digite o número em metro: '))\n",
        "milimetro = metro * 1000\n",
        "print(f'O valor convertido de metros para milímetros é: {milimetro}mm')"
      ],
      "execution_count": 0,
      "outputs": [
        {
          "output_type": "stream",
          "text": [
            "Digite o número em metro: 2\n",
            "O valor convertido de metros para milímetros é: 2000mm\n"
          ],
          "name": "stdout"
        }
      ]
    },
    {
      "cell_type": "code",
      "metadata": {
        "id": "WGcTbFSdj0XN",
        "colab_type": "code",
        "outputId": "23b9d22a-addf-4a11-9561-5d220a31fe3b",
        "colab": {
          "base_uri": "https://localhost:8080/",
          "height": 122
        }
      },
      "source": [
        "#Exercício_3.9\n",
        "dia = int(input('Informe a quantidade de dias: '))\n",
        "hora = int(input('Informe a quantidade de horas: '))\n",
        "minuto = int(input('Informe a quantidade de minutos: '))\n",
        "segundo = int(input('Informe a quantidade de segundos: '))\n",
        "\n",
        "dia_s = dia * 86400\n",
        "hora_s = hora * 3600\n",
        "minuto_s = minuto * 60\n",
        "\n",
        "total_seg = dia_s + hora_s + minuto_s + segundo\n",
        "\n",
        "print(f'A quantidade de segundos somados e convertidos com base nas quantidades de dias, horas, minutos e segundos informados são: {total_seg}')"
      ],
      "execution_count": 0,
      "outputs": [
        {
          "output_type": "stream",
          "text": [
            "Informe a quantidade de dias: 1\n",
            "Informe a quantidade de horas: 1\n",
            "Informe a quantidade de minutos: 1\n",
            "Informe a quantidade de segundos: 60\n",
            "A quantidade de segundos somados e convertidos com base nas quantidades de dias, horas, minutos e segundos informados são: 90120\n"
          ],
          "name": "stdout"
        }
      ]
    },
    {
      "cell_type": "code",
      "metadata": {
        "id": "nBIoRmjSopp6",
        "colab_type": "code",
        "outputId": "582fb95f-5736-42c5-dad9-4407c5a2948f",
        "colab": {
          "base_uri": "https://localhost:8080/",
          "height": 66
        }
      },
      "source": [
        "#Exercício_3.10\n",
        "salario = int(input('Informe o salário: '))\n",
        "porcentagem = int(input('Informe a porcentagem de aumento do salário: '))\n",
        "\n",
        "novo_sal = salario + (salario * porcentagem / 100)\n",
        "\n",
        "print(f'O novo salário é: {novo_sal}')"
      ],
      "execution_count": 0,
      "outputs": [
        {
          "output_type": "stream",
          "text": [
            "Informe o salário: 900\n",
            "Informe a porcentagem de aumento do salário: 10\n",
            "O novo salário é: 990.0\n"
          ],
          "name": "stdout"
        }
      ]
    },
    {
      "cell_type": "code",
      "metadata": {
        "id": "Suibh3Wpq7xV",
        "colab_type": "code",
        "outputId": "b2472271-960f-42cd-ddcc-8ab14fb00f5d",
        "colab": {
          "base_uri": "https://localhost:8080/",
          "height": 66
        }
      },
      "source": [
        "#Exercício_3.11\n",
        "mercadoria = int(input('Informe o valor da mercadoria: '))\n",
        "percent_desc = int(input('Informe o desconto: '))\n",
        "\n",
        "merc_desc = mercadoria - (mercadoria * percent_desc / 100)\n",
        "\n",
        "print(f'O valor da mercadoria é {mercadoria}, o percentual de desconto é {percent_desc}%, e o preço final é {merc_desc}')"
      ],
      "execution_count": 0,
      "outputs": [
        {
          "output_type": "stream",
          "text": [
            "Informe o valor da mercadoria: 1000\n",
            "Informe o desconto: 10\n",
            "O valor da mercadoria é 1000, o percentual de desconto é 10%, e o preço final é 900.0\n"
          ],
          "name": "stdout"
        }
      ]
    },
    {
      "cell_type": "code",
      "metadata": {
        "id": "t9szc0RhsX4M",
        "colab_type": "code",
        "outputId": "ea9934cd-ab78-402c-d9ea-4a22e925d4de",
        "colab": {
          "base_uri": "https://localhost:8080/",
          "height": 68
        }
      },
      "source": [
        "#Exercício_3.12\n",
        "distancia = int(input('Informe a distância em km: '))\n",
        "velocidade = int(input('Informe a velocidade média em km/h: '))\n",
        "\n",
        "tempo = distancia / velocidade\n",
        "\n",
        "print(f'O tempo da viagem será {tempo:.0f} horas')"
      ],
      "execution_count": 0,
      "outputs": [
        {
          "output_type": "stream",
          "text": [
            "Informe a distância em km: 1000\n",
            "Informe a velocidade média em km/h: 10\n",
            "O tempo da viagem será 100 horas\n"
          ],
          "name": "stdout"
        }
      ]
    },
    {
      "cell_type": "code",
      "metadata": {
        "id": "diibWKrOv6fA",
        "colab_type": "code",
        "outputId": "8c6e9ddb-96ed-48f3-da37-f6f4a215bc36",
        "colab": {
          "base_uri": "https://localhost:8080/",
          "height": 52
        }
      },
      "source": [
        "#Exercício_3.13\n",
        "celsius = int(input('Informe a temperatura em Celsius: '))\n",
        "fahrenheit = (9 * celsius / 5) + 32\n",
        "print(f'A temperatura convertida de Celsius para Fahrenheit é: {fahrenheit}')"
      ],
      "execution_count": 0,
      "outputs": [
        {
          "output_type": "stream",
          "text": [
            "Informe a temperatura em Celsius: 32\n",
            "A temperatura convertida de Celsius para Fahrenheit é: 89.6\n"
          ],
          "name": "stdout"
        }
      ]
    },
    {
      "cell_type": "code",
      "metadata": {
        "id": "E_E6NCrh5iff",
        "colab_type": "code",
        "outputId": "a720277d-0264-4e16-db54-5d41a644f68f",
        "colab": {
          "base_uri": "https://localhost:8080/",
          "height": 68
        }
      },
      "source": [
        "#Exercício_3.14\n",
        "km_per = float(input('Informe a distância percorrida: '))\n",
        "num_dias = float(input('Informe o número de dias: '))\n",
        "km = km_per * 0.15\n",
        "dias = num_dias * 60\n",
        "soma = km + dias\n",
        "print(f'O valor a ser pago será: R${soma:.2f}')"
      ],
      "execution_count": 0,
      "outputs": [
        {
          "output_type": "stream",
          "text": [
            "Informe a distância percorrida: 30\n",
            "Informe o número de dias: 10\n",
            "O valor a ser pago será: R$604.50\n"
          ],
          "name": "stdout"
        }
      ]
    },
    {
      "cell_type": "code",
      "metadata": {
        "id": "iNSvckP7wJZj",
        "colab_type": "code",
        "colab": {}
      },
      "source": [
        "q_cig = float(input('Quantos cigarros você fuma por dia? '))\n",
        "a_cig = float(input('Por quantos anos você fuma? '))\n",
        "# A quantidade de cigarros será multiplicada por 10, o resultado deverá ser convertido em horas e essas horas, em dias\n",
        "minuto = 10 * q_cig\n",
        "hora = minuto / 60\n",
        "dia = hora / 24\n",
        "ano = dia / 365\n",
        "an \n",
        "\n",
        "anos = quant * a_cig"
      ],
      "execution_count": 0,
      "outputs": []
    },
    {
      "cell_type": "markdown",
      "metadata": {
        "id": "GrnfFNVp69Z9",
        "colab_type": "text"
      },
      "source": [
        "<hr><hr>"
      ]
    },
    {
      "cell_type": "markdown",
      "metadata": {
        "id": "jJai-pwfU-pC",
        "colab_type": "text"
      },
      "source": [
        "# *Condição - if*\n",
        "<hr>\n",
        "\n",
        "*As condições servem para selecionar quando uma parte do programa deve ser simplesmente ignorada. Em Python, a estrutura de decisão é o if.*"
      ]
    },
    {
      "cell_type": "code",
      "metadata": {
        "id": "C-VXAtK4S817",
        "colab_type": "code",
        "outputId": "d07202c8-79d2-43db-d37d-32916e304158",
        "colab": {
          "base_uri": "https://localhost:8080/",
          "height": 70
        }
      },
      "source": [
        "#simplificado\n",
        "\n",
        "tempo = int(input('Quantos anos tem seu carro:'))\n",
        "print('carro novo' if tempo <= 3 else 'carro velho')\n",
        "print(f'\\033[1;31m---FIM---')"
      ],
      "execution_count": 0,
      "outputs": [
        {
          "output_type": "stream",
          "text": [
            "Quantos anos tem seu carro:5\n",
            "carro velho\n",
            "\u001b[1;31m---FIM---\n"
          ],
          "name": "stdout"
        }
      ]
    },
    {
      "cell_type": "code",
      "metadata": {
        "id": "f7ev-NM9Vq8P",
        "colab_type": "code",
        "outputId": "d413b750-c613-47e6-ebe0-df6493353acd",
        "colab": {
          "base_uri": "https://localhost:8080/",
          "height": 70
        }
      },
      "source": [
        "# Programa 4.1 - Lê dois valores e imprime qual é o maior\n",
        "\n",
        "a = int(input('Primeiro valor: '))\n",
        "b = int(input('Segundo valor: '))\n",
        "\n",
        "if a > b: \n",
        "  print('O primeiro valor é o maior!')\n",
        "if b > a: \n",
        "  print('O segundo valor é o maior!') \n",
        "if a == b:\n",
        "  print('Os números são iguais!')"
      ],
      "execution_count": 0,
      "outputs": [
        {
          "output_type": "stream",
          "text": [
            "Primeiro valor: 1\n",
            "Segundo valor: 1\n",
            "Os números são iguai!\n"
          ],
          "name": "stdout"
        }
      ]
    },
    {
      "cell_type": "code",
      "metadata": {
        "id": "PJxBt5piAMTF",
        "colab_type": "code",
        "outputId": "e4d5cb53-107f-4544-dcc8-4b9cc50fd8f1",
        "colab": {
          "base_uri": "https://localhost:8080/",
          "height": 52
        }
      },
      "source": [
        "# Programa 4.2 - Carro novo ou velho, dependendo da idade\n",
        "\n",
        "idade = int(input('Digite a idade do seu carro: '))\n",
        "if idade <= 3:\n",
        "  print('Seu carro é novo')\n",
        "if idade > 3:\n",
        "  print('Seu carro é velho')"
      ],
      "execution_count": 0,
      "outputs": [
        {
          "output_type": "stream",
          "text": [
            "Digite a idade do seu carro: 3\n",
            "Seu carro é novo\n"
          ],
          "name": "stdout"
        }
      ]
    },
    {
      "cell_type": "code",
      "metadata": {
        "id": "U8Dnk-JLfPrX",
        "colab_type": "code",
        "outputId": "716eea3d-f7cc-4f6b-b497-f511bb8cea27",
        "colab": {
          "base_uri": "https://localhost:8080/",
          "height": 52
        }
      },
      "source": [
        "# Programa 4.3 - Cálculo do Imposto de Renda\n",
        "\n",
        "salario = float(input('Digite o salário para cálculo do imposto: '))\n",
        "base = salario\n",
        "imposto = 0\n",
        "if base > 3000:\n",
        "  imposto = imposto + ((base - 3000) * 0.35)\n",
        "  base = 3000\n",
        "if base > 1000:\n",
        "  imposto = imposto + ((base - 1000) * 0.20)\n",
        "print(f'Salário: R${salario:6.2f} Imposto a pagar: R${imposto:6.2f}')"
      ],
      "execution_count": 0,
      "outputs": [
        {
          "output_type": "stream",
          "text": [
            "Digite o salário para cálculo do imposto: 5000\n",
            "Salário: R$5000.00 Imposto a pagar: R$1100.00\n"
          ],
          "name": "stdout"
        }
      ]
    },
    {
      "cell_type": "markdown",
      "metadata": {
        "id": "5dWabqslZajK",
        "colab_type": "text"
      },
      "source": [
        "<h1>Exercícios - Introdução à programação com Python - Condições (if)</h1>"
      ]
    },
    {
      "cell_type": "code",
      "metadata": {
        "id": "J0hKj4fMaFS4",
        "colab_type": "code",
        "outputId": "da9932db-9e1d-498a-bd8d-2056adfd5197",
        "colab": {
          "base_uri": "https://localhost:8080/",
          "height": 52
        }
      },
      "source": [
        "# Exercício_4.2\n",
        "\n",
        "veloc = int(input('Informe a velocidade: '))\n",
        "\n",
        "if veloc > 80:\n",
        "  ultrap = veloc - 80\n",
        "  multa = ultrap * 5\n",
        "  print(f'Você ultrapassou a velocidade permitida em {ultrap}km e a multa é R${multa}')\n",
        "if veloc <= 80:\n",
        "  print(f'Você está no limite da velocidade!')"
      ],
      "execution_count": 0,
      "outputs": [
        {
          "output_type": "stream",
          "text": [
            "Informe a velocidade: 85\n",
            "Você ultrapassou a velocidade permitida em 5km e a multa é R$25\n"
          ],
          "name": "stdout"
        }
      ]
    },
    {
      "cell_type": "code",
      "metadata": {
        "id": "ZTeDcIdolU2E",
        "colab_type": "code",
        "outputId": "1b18cdc5-151e-43cc-c459-26b68e8d206f",
        "colab": {
          "base_uri": "https://localhost:8080/",
          "height": 87
        }
      },
      "source": [
        "# Exercício_4.3\n",
        "\n",
        "n1 = int(input('Informe o 1º número: '))\n",
        "n2 = int(input('Informe o 2º número: '))\n",
        "n3 = int(input('Informe o 3º número: '))\n",
        "\n",
        "if n1 > n2:\n",
        "  maior = n1\n",
        "if n1 > n3:\n",
        "  maior = n1\n",
        "\n",
        "if n2 > n1:\n",
        "  maior = n2\n",
        "if n2 > n3:\n",
        "  maior = n2\n",
        "  \n",
        "if n3 > n1:\n",
        "  maior = n3\n",
        "if n3 > n2:\n",
        "  maior = n3\n",
        "\n",
        "#\n",
        "\n",
        "if n1 < n2:\n",
        "  menor = n1\n",
        "if n1 < n3:\n",
        "  menor = n1\n",
        "\n",
        "if n2 < n1:\n",
        "  menor = n2\n",
        "if n2 < n3:\n",
        "  menor = n2\n",
        "  \n",
        "if n3 < n1:\n",
        "  menor = n3\n",
        "if n3 < n2:\n",
        "  menor = n3\n",
        "\n",
        "print(f'O número {maior} é o maior e o número {menor} é o menor.')"
      ],
      "execution_count": 0,
      "outputs": [
        {
          "output_type": "stream",
          "text": [
            "Informe o 1º número: 1\n",
            "Informe o 2º número: 2\n",
            "Informe o 3º número: 3\n",
            "O número 3 é o maior e o número 2 é o menor.\n"
          ],
          "name": "stdout"
        }
      ]
    },
    {
      "cell_type": "code",
      "metadata": {
        "id": "PXydGZi8pEpw",
        "colab_type": "code",
        "outputId": "85471af6-6cce-4515-c748-88298052c250",
        "colab": {
          "base_uri": "https://localhost:8080/",
          "height": 52
        }
      },
      "source": [
        "# Exercício_4.4\n",
        "\n",
        "salario = float(input('Informe o salário: '))\n",
        "\n",
        "if salario > 1250:\n",
        "  sal_maior = salario + (salario * 0.1)\n",
        "  print(f'O salário é maior que R$1.250,00. O novo salário será de R${sal_maior:6.2f}')\n",
        "if salario < 1250:\n",
        "  sal_menor = salario + (salario * 0.15)\n",
        "  print(f'O salário é menor que R$1.250,00. O novo salário será de R${sal_menor:6.2f}')"
      ],
      "execution_count": 0,
      "outputs": [
        {
          "output_type": "stream",
          "text": [
            "Informe o salário: 1000\n",
            "O salário é menor que R$1.250,00. O novo salário será de R$1150.00\n"
          ],
          "name": "stdout"
        }
      ]
    },
    {
      "cell_type": "markdown",
      "metadata": {
        "id": "rRYMoloK81Ii",
        "colab_type": "text"
      },
      "source": [
        "<hr>\n",
        "<hr>"
      ]
    },
    {
      "cell_type": "markdown",
      "metadata": {
        "id": "Ye_6fFYv9ZYp",
        "colab_type": "text"
      },
      "source": [
        "# *Condição - else*\n",
        "<hr>\n",
        "\n",
        "*Outra forma de if para simplificar os programas é a cláusula else, que serve para especificar o que fazer caso o resultado da avaliação da condição seja falso, sem precisarmos de um novo if.*"
      ]
    },
    {
      "cell_type": "code",
      "metadata": {
        "id": "pzTVp5fg9nNs",
        "colab_type": "code",
        "outputId": "c2165856-b19b-4a37-8229-4ea999aa5244",
        "colab": {
          "base_uri": "https://localhost:8080/",
          "height": 52
        }
      },
      "source": [
        "# Programa 4.4 - Carro novo ou velho, dependendo da idade com else\n",
        "\n",
        "idade = int(input('Digite a idade de seu carro: '))\n",
        "if idade <= 3:\n",
        "  print('Seu carro é novo')\n",
        "else:\n",
        "  print('Seu carro é velho')"
      ],
      "execution_count": 0,
      "outputs": [
        {
          "output_type": "stream",
          "text": [
            "Digite a idade de seu carro: 3\n",
            "Seu carro é novo\n"
          ],
          "name": "stdout"
        }
      ]
    },
    {
      "cell_type": "markdown",
      "metadata": {
        "id": "y49Mpo6u_5wu",
        "colab_type": "text"
      },
      "source": [
        "<h1>Exercícios - Introdução à programação com Python - Condições (else)<h1>"
      ]
    },
    {
      "cell_type": "code",
      "metadata": {
        "id": "rhWZjNqN_9hB",
        "colab_type": "code",
        "outputId": "d2ae9161-0b04-44c4-8717-6f061a9ff1c6",
        "colab": {
          "base_uri": "https://localhost:8080/",
          "height": 52
        }
      },
      "source": [
        "# Exercício 4.6\n",
        "\n",
        "distancia = int(input('Informe a distância em km que deseja percorrer: '))\n",
        "\n",
        "if distancia <= 200:\n",
        "  passagem = distancia * 0.5\n",
        "  print(f'A passagem será R$ {passagem}')\n",
        "else:\n",
        "  passagem = distancia * 0.45\n",
        "  print(f'A passagem será R$ {passagem}')"
      ],
      "execution_count": 0,
      "outputs": [
        {
          "output_type": "stream",
          "text": [
            "Informe a distância em km que deseja percorrer: 200\n",
            "A passagem será R$ 100.0\n"
          ],
          "name": "stdout"
        }
      ]
    },
    {
      "cell_type": "markdown",
      "metadata": {
        "id": "cVsb7Ti7Crk4",
        "colab_type": "text"
      },
      "source": [
        "# *Condição - Estruturas aninhadas*\n",
        "<hr>\n",
        "\n",
        "*Muitas vezes, precisaremos aninhar vários if para obter o comportamento desejado do programa. Aninhar, nesse caso, é utilizar um if dentro de outro.* "
      ]
    },
    {
      "cell_type": "code",
      "metadata": {
        "id": "R3s4ii1MDERj",
        "colab_type": "code",
        "outputId": "713248be-f1c5-4c64-9f15-e5627c43e6aa",
        "colab": {
          "base_uri": "https://localhost:8080/",
          "height": 52
        }
      },
      "source": [
        "# Programa 4.5 - Conta de telefone com três faixas de preço\n",
        "\n",
        "minutos = int(input('Quantos minutos você utilizou este mês: '))\n",
        "if minutos < 200:\n",
        "  preco = 0.20\n",
        "else:\n",
        "  if minutos < 400:\n",
        "    preco = 0.18\n",
        "  else:\n",
        "    preco = 0.15\n",
        "print(f'Você vai pagar este mês: R$ {minutos * preco:4.2f}')"
      ],
      "execution_count": 0,
      "outputs": [
        {
          "output_type": "stream",
          "text": [
            "Quantos minutos você utilizou este mês: 352\n",
            "Você vai pagar este mês: R$ 63.36\n"
          ],
          "name": "stdout"
        }
      ]
    },
    {
      "cell_type": "code",
      "metadata": {
        "id": "XSN_6_3PFR9V",
        "colab_type": "code",
        "outputId": "5cfd5a6c-0d74-435f-e928-667509339c14",
        "colab": {
          "base_uri": "https://localhost:8080/",
          "height": 52
        }
      },
      "source": [
        "# Programa 4.6 - Categoria x preço\n",
        "\n",
        "categoria = int(input('Digite a categoria do produto: '))\n",
        "\n",
        "if categoria == 1:\n",
        "  preco = 10\n",
        "else:\n",
        "  if categoria == 2:\n",
        "    preco = 18\n",
        "  else:\n",
        "    if categoria == 3:\n",
        "      preco = 23\n",
        "    else:\n",
        "      if categoria == 4:\n",
        "        preco = 26\n",
        "      else:\n",
        "        if categoria == 5:\n",
        "          preco = 31    \n",
        "        else:\n",
        "          print('Categoria inválida, digite um valor entre 1 e 51')\n",
        "\n",
        "print(f'A categoria selecionada do produto é {categoria:-^3} e o preço é R${preco:6.2f}.')"
      ],
      "execution_count": 0,
      "outputs": [
        {
          "output_type": "stream",
          "text": [
            "Digite a categoria do produto: 2\n",
            "A categoria selecionada do produto é -2- e o preço é R$ 18.00.\n"
          ],
          "name": "stdout"
        }
      ]
    },
    {
      "cell_type": "markdown",
      "metadata": {
        "id": "lGoU1V_89a8D",
        "colab_type": "text"
      },
      "source": [
        "<hr>\n",
        "<hr>\n"
      ]
    },
    {
      "cell_type": "markdown",
      "metadata": {
        "id": "XI24K15oLpMQ",
        "colab_type": "text"
      },
      "source": [
        "# *Condição - elif*\n",
        "<hr>\n",
        "\n",
        "*A cláusula elif substitui um par else if, mas sem criar outro nível de estrutura, evitando problemas de deslocamentos desnecessários à direita.* "
      ]
    },
    {
      "cell_type": "code",
      "metadata": {
        "id": "QDOX57USL__R",
        "colab_type": "code",
        "outputId": "0d35dae9-89d1-4a68-d3cc-2ae7df96548f",
        "colab": {
          "base_uri": "https://localhost:8080/",
          "height": 52
        }
      },
      "source": [
        "# Programa 4.7 - Categoria x preço, usando elif\n",
        "\n",
        "categoria = int(input('Digite a categoria do produto: '))\n",
        "\n",
        "if categoria == 1:\n",
        "  preco = 10\n",
        "elif categoria == 2:\n",
        "  preco = 18\n",
        "elif categoria == 3:\n",
        "  preco = 23\n",
        "elif categoria == 4:\n",
        "  preco = 26\n",
        "elif categoria == 5:\n",
        "  preco = 31\n",
        "else:\n",
        "  print('Categoria inválida, digite um valor entre 1 e 5!')\n",
        "  preco = 0\n",
        "print(f'O preço do produto é: R${preco:6.2f}')"
      ],
      "execution_count": 0,
      "outputs": [
        {
          "output_type": "stream",
          "text": [
            "Digite a categoria do produto: 2\n",
            "O preço do produto é: R$ 18.00\n"
          ],
          "name": "stdout"
        }
      ]
    },
    {
      "cell_type": "markdown",
      "metadata": {
        "id": "tZM7RWoOM_D5",
        "colab_type": "text"
      },
      "source": [
        "<h1>Exercícios - Introdução à programação com Python - Condições (elif)</h1>"
      ]
    },
    {
      "cell_type": "code",
      "metadata": {
        "id": "izbRJunTNMXG",
        "colab_type": "code",
        "outputId": "e8d36e90-6c13-40b7-c9cf-dc655cacce18",
        "colab": {
          "base_uri": "https://localhost:8080/",
          "height": 87
        }
      },
      "source": [
        "# Exercício 4.8\n",
        "\n",
        "numero_1 = int(input('Informe o primeiro número: '))\n",
        "numero_2 = int(input('Informe o segundo número: '))\n",
        "operacao = str(input('Informe a operação de sua escolha: '))\n",
        "\n",
        "if operacao == 'positivo':\n",
        "  resultado = numero_1 + numero_2\n",
        "elif operacao == 'negativo':\n",
        "  resultado = numero_1 - numero_2\n",
        "elif operacao == 'multiplicação':\n",
        "  resultado = numero_1 * numero_2\n",
        "elif operacao == 'divisão':\n",
        "  resultado = numero_1 / numero_2\n",
        "else:\n",
        "  print('Operação inválida!')\n",
        "\n",
        "print(f'A operação escolhida foi {operacao} e o resultado do calculo entre os dois números é: {resultado}')"
      ],
      "execution_count": 0,
      "outputs": [
        {
          "output_type": "stream",
          "text": [
            "Informe o primeiro número: 5\n",
            "Informe o segundo número: 6\n",
            "Informe a operação de sua escolha: divisão\n",
            "A operação escolhida foi divisão e o resultado do calculo entre os dois números é: 0.8333333333333334\n"
          ],
          "name": "stdout"
        }
      ]
    },
    {
      "cell_type": "code",
      "metadata": {
        "id": "SP1wtmopR4IM",
        "colab_type": "code",
        "outputId": "b82587c7-2617-43ad-ddc2-7480c0b3a689",
        "colab": {
          "base_uri": "https://localhost:8080/",
          "height": 87
        }
      },
      "source": [
        "# Exercício 4.9\n",
        "\n",
        "valor_casa = float(input('Informe o valor da casa: '))\n",
        "salario = float(input('Informe o salário: '))\n",
        "anos_pagar = int(input('Informe a quantidade de anos a pagar: '))\n",
        "\n",
        "meses = anos_pagar * 12\n",
        "parcela = valor_casa / meses\n",
        "\n",
        "limite_sal = salario - (salario * 0.7)\n",
        "\n",
        "if parcela <= limite_sal:\n",
        "  print(f'O valor da parcela será R${parcela:6.2}')\n",
        "else:\n",
        "  print('O valor da prestação não pode ser superior a 30% do salário')"
      ],
      "execution_count": 0,
      "outputs": [
        {
          "output_type": "stream",
          "text": [
            "Informe o valor da casa: 10000\n",
            "Informe o salário: 1000\n",
            "Informe a quantidade de anos a pagar: 10\n",
            "O valor da parcela será R$8.3e+01\n"
          ],
          "name": "stdout"
        }
      ]
    },
    {
      "cell_type": "code",
      "metadata": {
        "id": "rjfiW5acW_gx",
        "colab_type": "code",
        "outputId": "66d2366b-1519-47d4-f58a-8decc27034dd",
        "colab": {
          "base_uri": "https://localhost:8080/",
          "height": 70
        }
      },
      "source": [
        "# Exercício 4.10\n",
        "\n",
        "quant_kwh = float(input('Informe a quantidade de kWh consumida: '))\n",
        "instalacao = str(input('Informe o tipo de instalação (R para residências, I para indústrias e C para comércios): '))\n",
        "\n",
        "preco = 0\n",
        "\n",
        "if instalacao == 'R':\n",
        "  if quant_kwh <= 500:\n",
        "    preco += 0.40\n",
        "  else:\n",
        "    preco += 0.65\n",
        "elif instalacao == 'C':\n",
        "  if quant_kwh <= 1000:\n",
        "    preco += 0.55\n",
        "  else:\n",
        "    preco += 0.60\n",
        "elif instalacao == 'I':\n",
        "  if quant_kwh <= 5000:\n",
        "    preco += 0.55\n",
        "  else:\n",
        "    preco += 0.60\n",
        "\n",
        "print(f'O valor a pagar será R${quant_kwh * preco:6.2f}')"
      ],
      "execution_count": 0,
      "outputs": [
        {
          "output_type": "stream",
          "text": [
            "Informe a quantidade de kWh consumida: 83\n",
            "Informe o tipo de instalação (R para residências, I para indústrias e C para comércios): R\n",
            "O valor a pagar será R$ 33.20\n"
          ],
          "name": "stdout"
        }
      ]
    },
    {
      "cell_type": "markdown",
      "metadata": {
        "id": "QA6VqKNcM7T0",
        "colab_type": "text"
      },
      "source": [
        "<hr>\n",
        "<hr>"
      ]
    },
    {
      "cell_type": "markdown",
      "metadata": {
        "id": "upV43IJ4NdyD",
        "colab_type": "text"
      },
      "source": [
        "# *Estrutura de Repetição - while*\n",
        "<hr>\n",
        "\n",
        "*O while repete um bloco enquanto a condição for verdadeira. Seu formato é apresentado a seguir, em que **condição** é uma expressão lógica, e **bloco** representa as linhas de programa a repetir enquanto o resultado da condição for verdadeiro.*"
      ]
    },
    {
      "cell_type": "code",
      "metadata": {
        "id": "Sb4bNQCBOG6S",
        "colab_type": "code",
        "outputId": "e72ea7c2-1a89-4cf4-f469-450afe4c98fb",
        "colab": {
          "base_uri": "https://localhost:8080/",
          "height": 70
        }
      },
      "source": [
        "x = 1\n",
        "while x <= 3:\n",
        "  print(x)\n",
        "  x = x + 1"
      ],
      "execution_count": 0,
      "outputs": [
        {
          "output_type": "stream",
          "text": [
            "1\n",
            "2\n",
            "3\n"
          ],
          "name": "stdout"
        }
      ]
    },
    {
      "cell_type": "code",
      "metadata": {
        "id": "d8rCsilwzsPP",
        "colab_type": "code",
        "outputId": "51753eaa-54ed-4ae0-8375-c43fde75c6b1",
        "colab": {
          "base_uri": "https://localhost:8080/",
          "height": 33
        }
      },
      "source": [
        "x = 0\n",
        "while x <= 10:\n",
        "  print(x, end='-')\n",
        "  x += 1"
      ],
      "execution_count": 0,
      "outputs": [
        {
          "output_type": "stream",
          "text": [
            "0-1-2-3-4-5-6-7-8-9-10-"
          ],
          "name": "stdout"
        }
      ]
    },
    {
      "cell_type": "code",
      "metadata": {
        "id": "oZVDh_J6lzoo",
        "colab_type": "code",
        "outputId": "c983f0dd-f6c2-4e0d-d657-471184291703",
        "colab": {
          "base_uri": "https://localhost:8080/",
          "height": 158
        }
      },
      "source": [
        "# Programa 6.6 - Adição de elementos à lista\n",
        "L = []\n",
        "while True:\n",
        "  n = int(input('Digite um número (0 sai): '))\n",
        "  if n == 0:\n",
        "    break\n",
        "  L.append(n)\n",
        "x = 0\n",
        "while x < len(L):\n",
        "  print(L[x], end=' ')\n",
        "  x += 1 "
      ],
      "execution_count": 0,
      "outputs": [
        {
          "output_type": "stream",
          "text": [
            "Digite um número (0 sai): 1\n",
            "Digite um número (0 sai): 2\n",
            "Digite um número (0 sai): 3\n",
            "Digite um número (0 sai): 4\n",
            "Digite um número (0 sai): 5\n",
            "Digite um número (0 sai): 6\n",
            "Digite um número (0 sai): 0\n",
            "1 2 3 4 5 6 "
          ],
          "name": "stdout"
        }
      ]
    },
    {
      "cell_type": "markdown",
      "metadata": {
        "id": "7wGQo9ZFl6JM",
        "colab_type": "text"
      },
      "source": [
        "<h1>Exercícios - Introdução à programação com Python - Estrutura de Repetição - while</h1>"
      ]
    },
    {
      "cell_type": "code",
      "metadata": {
        "id": "1XPoBwrmmbOw",
        "colab_type": "code",
        "colab": {}
      },
      "source": [
        "# Exercício 5.1\n",
        "\n",
        "x = 1\n",
        "while x <= 100:\n",
        "  print(x)\n",
        "  x = x + 1"
      ],
      "execution_count": 0,
      "outputs": []
    },
    {
      "cell_type": "code",
      "metadata": {
        "id": "T7rrMDkgm3yL",
        "colab_type": "code",
        "colab": {}
      },
      "source": [
        "# Exercício 5.2\n",
        "\n",
        "x = 50\n",
        "while x <= 100:\n",
        "  print(x)\n",
        "  x = x + 1"
      ],
      "execution_count": 0,
      "outputs": []
    },
    {
      "cell_type": "code",
      "metadata": {
        "id": "ge_KPaC_m_pp",
        "colab_type": "code",
        "outputId": "d018de8b-5073-4ccb-dae6-86df0ca4e989",
        "colab": {
          "base_uri": "https://localhost:8080/",
          "height": 200
        }
      },
      "source": [
        "# Exercício 5.3\n",
        "\n",
        "x = 10\n",
        "while x >= 1:\n",
        "  print(x)\n",
        "  x = x - 1\n",
        "print('Lift Off!')"
      ],
      "execution_count": 0,
      "outputs": [
        {
          "output_type": "stream",
          "text": [
            "10\n",
            "9\n",
            "8\n",
            "7\n",
            "6\n",
            "5\n",
            "4\n",
            "3\n",
            "2\n",
            "1\n",
            "Lift Off!\n"
          ],
          "name": "stdout"
        }
      ]
    },
    {
      "cell_type": "markdown",
      "metadata": {
        "id": "AU4JL4mh_vaU",
        "colab_type": "text"
      },
      "source": [
        "<hr>\n",
        "<hr>\n"
      ]
    },
    {
      "cell_type": "markdown",
      "metadata": {
        "id": "VqHk1jgrnuxR",
        "colab_type": "text"
      },
      "source": [
        "# *Contadores - (while)*\n",
        "<hr>\n",
        "\n",
        "*Um contador é uma variável utilizada para contar o número de ocorrências de um determinado evento; nesse caso, o número de repetições do **while**, que satisfaz às necessidades de nosso programa.*"
      ]
    },
    {
      "cell_type": "code",
      "metadata": {
        "id": "ZQTgkLPg8-WX",
        "colab_type": "code",
        "outputId": "9fc1ab45-9ca9-48f5-ba76-b829bfd4c00b",
        "colab": {
          "base_uri": "https://localhost:8080/",
          "height": 85
        }
      },
      "source": [
        "m1 = 'Escreva o '\n",
        "m2 = 'º número: '\n",
        "n = 1\n",
        "\n",
        "while n <= 4:\n",
        "  input(f'{m1}{n}{m2}')\n",
        "  n += 1"
      ],
      "execution_count": 0,
      "outputs": [
        {
          "output_type": "stream",
          "text": [
            "Escreva o 1º número: 1\n",
            "Escreva o 2º número: 2\n",
            "Escreva o 3º número: 3\n",
            "Escreva o 4º número: \n"
          ],
          "name": "stdout"
        }
      ]
    },
    {
      "cell_type": "code",
      "metadata": {
        "id": "v4sz0VEr1MRM",
        "colab_type": "code",
        "outputId": "4a54a2b0-9501-4341-d572-a65205ba7944",
        "colab": {
          "base_uri": "https://localhost:8080/",
          "height": 33
        }
      },
      "source": [
        "# Imprimir apenas os números pares (uso do continue)\n",
        "\n",
        "x = 10\n",
        "while x > 0: # Em Python, (0 == False) retorna True\n",
        "  x -= 1\n",
        "  if x % 2 != 0:\n",
        "    continue # Significa: Volte o ponteiro de execução para a primeira instrução do laço\n",
        "  \n",
        "  print(x, end=' ')"
      ],
      "execution_count": 0,
      "outputs": [
        {
          "output_type": "stream",
          "text": [
            "8 6 4 2 0 "
          ],
          "name": "stdout"
        }
      ]
    },
    {
      "cell_type": "code",
      "metadata": {
        "id": "TPI3cK3Qn7I8",
        "colab_type": "code",
        "outputId": "95b0a3fb-f563-41cf-b285-ddf1b8884742",
        "colab": {
          "base_uri": "https://localhost:8080/",
          "height": 51
        }
      },
      "source": [
        "fim = int(input('Digite o último número a imprimir: '))\n",
        "x = 1\n",
        "while x <= fim:\n",
        "  print(x, end = ' ')\n",
        "  x = x + 1  # Atualiza-se o valor de x com x + 1, ou seja, com o próximo valor inteiro. \n",
        "             # Estamos contando quando realizamos esse tipo de operação dentro de uma repetição, \n",
        "             # Logo, diremos que x é um contador."
      ],
      "execution_count": 0,
      "outputs": [
        {
          "output_type": "stream",
          "text": [
            "Digite o último número a imprimir: 10\n",
            "1 2 3 4 5 6 7 8 9 10 "
          ],
          "name": "stdout"
        }
      ]
    },
    {
      "cell_type": "code",
      "metadata": {
        "id": "AavU0WcFrpcK",
        "colab_type": "code",
        "colab": {}
      },
      "source": [
        "fim = int(input('Digite o último número a imprimir: '))\n",
        "x = 0\n",
        "while x <= fim:\n",
        "  if x % 2 == 0:\n",
        "    print(x)\n",
        "  x = x + 1\n",
        "  # ou\n",
        "  # print(x)\n",
        "  # x = x + 2"
      ],
      "execution_count": 0,
      "outputs": []
    },
    {
      "cell_type": "code",
      "metadata": {
        "id": "RW-865kQv8xu",
        "colab_type": "code",
        "outputId": "9af87851-724f-43ea-c9b0-5d2f869bab83",
        "colab": {
          "base_uri": "https://localhost:8080/",
          "height": 204
        }
      },
      "source": [
        "n = int(input('Tabuada de: '))\n",
        "x = 1\n",
        "while x <= 10:\n",
        "  print(n + x)\n",
        "  x = x + 1"
      ],
      "execution_count": 0,
      "outputs": [
        {
          "output_type": "stream",
          "text": [
            "Tabuada de: 2\n",
            "3\n",
            "4\n",
            "5\n",
            "6\n",
            "7\n",
            "8\n",
            "9\n",
            "10\n",
            "11\n",
            "12\n"
          ],
          "name": "stdout"
        }
      ]
    },
    {
      "cell_type": "code",
      "metadata": {
        "id": "_FON_3ZegQ_3",
        "colab_type": "code",
        "outputId": "0df502ef-9aae-44f0-c13f-f477e4fe7b14",
        "colab": {
          "base_uri": "https://localhost:8080/",
          "height": 68
        }
      },
      "source": [
        "#potência\n",
        "\n",
        "n1 = int(input('Informe o 1º número: '))\n",
        "n2 = int(input('Informe o 2º número: '))\n",
        "x = 1\n",
        "\n",
        "while x <= n1:\n",
        "  n2 = n2 + n2\n",
        "  print(n2)\n",
        "  x = x + 1"
      ],
      "execution_count": 0,
      "outputs": [
        {
          "output_type": "stream",
          "text": [
            "Informe o 1º número: 3\n",
            "Informe o 2º número: 7\n",
            "56\n"
          ],
          "name": "stdout"
        }
      ]
    },
    {
      "cell_type": "code",
      "metadata": {
        "id": "pZOtgoTqe9tt",
        "colab_type": "code",
        "outputId": "8b90d8f2-095d-48fb-ad94-d05d1bf4ed96",
        "colab": {
          "base_uri": "https://localhost:8080/",
          "height": 116
        }
      },
      "source": [
        "n1 = int(input('Informe o 1º número: '))\n",
        "n2 = int(input('Informe o 2º número: '))\n",
        "x = 1\n",
        "\n",
        "while x <= n1:\n",
        "  n2 = n2 + n2\n",
        "  \n",
        "  print(n2)\n",
        "  x = x + 1\n"
      ],
      "execution_count": 0,
      "outputs": [
        {
          "output_type": "stream",
          "text": [
            "Informe o 1º número: 5\n",
            "Informe o 2º número: 4\n",
            "8\n",
            "16\n",
            "32\n",
            "64\n"
          ],
          "name": "stdout"
        }
      ]
    },
    {
      "cell_type": "code",
      "metadata": {
        "id": "BaI1wAXcce-e",
        "colab_type": "code",
        "colab": {}
      },
      "source": [
        "pontos = 0\n",
        "questao = 1\n",
        "\n",
        "while questao <= 3:\n",
        "  resposta = input(f'Resposta da questão {questao}:')\n",
        "  if questao == 1 and (resposta == 'b'):\n",
        "    pontos = pontos + 1\n",
        "  if questao == 2 and (resposta == 'a'):\n",
        "    pontos = pontos + 1\n",
        "  if questao == 3 and (resposta == 'd'):\n",
        "    pontos = pontos + 1\n",
        "  questao = questao + 1\n",
        "print(f'O aluno fez {pontos} pontos(s)')"
      ],
      "execution_count": 0,
      "outputs": []
    },
    {
      "cell_type": "markdown",
      "metadata": {
        "id": "GDSPjGpMtE0f",
        "colab_type": "text"
      },
      "source": [
        "<h1>Exercícios - Introdução à programação com Python - Contadores - (while)</h1>"
      ]
    },
    {
      "cell_type": "code",
      "metadata": {
        "id": "vvXGXMZYtJkJ",
        "colab_type": "code",
        "outputId": "b6253de1-6a75-445f-955d-f8691c947637",
        "colab": {
          "base_uri": "https://localhost:8080/",
          "height": 70
        }
      },
      "source": [
        "# Exercício 5.4\n",
        "\n",
        "fim = int(input('Digite o último número a imprimir: '))\n",
        "x = 1\n",
        "while x <= fim:\n",
        "  if x % 2 != 0:\n",
        "    print(x, end=' ')\n",
        "  x = x + 2"
      ],
      "execution_count": 0,
      "outputs": [
        {
          "output_type": "stream",
          "text": [
            "Digite o último número a imprimir: 100\n",
            "1 3 5 7 9 11 13 15 17 19 21 23 25 27 29 31 33 35 37 39 41 43 45 47 49 51 53 55 57 59 61 63 65 67 69 71 73 75 77 79 81 83 85 87 89 91 93 95 97 99 "
          ],
          "name": "stdout"
        }
      ]
    },
    {
      "cell_type": "code",
      "metadata": {
        "id": "QWUoV64wuJEs",
        "colab_type": "code",
        "outputId": "e72a70e3-6e27-4e5a-d459-fde21e61614b",
        "colab": {
          "base_uri": "https://localhost:8080/",
          "height": 66
        }
      },
      "source": [
        "# Exercício 5.5\n",
        "\n",
        "x = 1\n",
        "while x in range(10):\n",
        "  if x % 3 == 0:\n",
        "    print(x)\n",
        "  x = x + 1"
      ],
      "execution_count": 0,
      "outputs": [
        {
          "output_type": "stream",
          "text": [
            "3\n",
            "6\n",
            "9\n"
          ],
          "name": "stdout"
        }
      ]
    },
    {
      "cell_type": "code",
      "metadata": {
        "id": "FLsDFWj3wQhZ",
        "colab_type": "code",
        "outputId": "864811b5-9414-4155-e744-febd8440032b",
        "colab": {
          "base_uri": "https://localhost:8080/",
          "height": 204
        }
      },
      "source": [
        "# Exercício 5.6\n",
        "\n",
        "n = int(input('Tabuada de: '))\n",
        "x = 1\n",
        "while x <= 10:\n",
        "  print(f'{x} x {n} = {n * x}')\n",
        "  x = x + 1"
      ],
      "execution_count": 0,
      "outputs": [
        {
          "output_type": "stream",
          "text": [
            "Tabuada de: 2\n",
            "1 x 2 = 2\n",
            "2 x 2 = 4\n",
            "3 x 2 = 6\n",
            "4 x 2 = 8\n",
            "5 x 2 = 10\n",
            "6 x 2 = 12\n",
            "7 x 2 = 14\n",
            "8 x 2 = 16\n",
            "9 x 2 = 18\n",
            "10 x 2 = 20\n"
          ],
          "name": "stdout"
        }
      ]
    },
    {
      "cell_type": "code",
      "metadata": {
        "id": "qCP4aCAcyygQ",
        "colab_type": "code",
        "outputId": "bb19da25-438f-4f90-c6ae-7136ce4659a3",
        "colab": {
          "base_uri": "https://localhost:8080/",
          "height": 238
        }
      },
      "source": [
        "# Exercício 5.7\n",
        "\n",
        "n = int(input('Tabuada de: '))\n",
        "i = int(input('Informe o início da tabuada: '))\n",
        "f = int(input('Informe o fim da tabuada: '))\n",
        "x = i\n",
        "\n",
        "while x >= i and x <= f:\n",
        "  print(f'{x:2.0f} x {n} = {n * x}')\n",
        "  x = x + 1"
      ],
      "execution_count": 0,
      "outputs": [
        {
          "output_type": "stream",
          "text": [
            "Tabuada de: 2\n",
            "Informe o início da tabuada: 1\n",
            "Informe o fim da tabuada: 10\n",
            " 1 x 2 = 2\n",
            " 2 x 2 = 4\n",
            " 3 x 2 = 6\n",
            " 4 x 2 = 8\n",
            " 5 x 2 = 10\n",
            " 6 x 2 = 12\n",
            " 7 x 2 = 14\n",
            " 8 x 2 = 16\n",
            " 9 x 2 = 18\n",
            "10 x 2 = 20\n"
          ],
          "name": "stdout"
        }
      ]
    },
    {
      "cell_type": "code",
      "metadata": {
        "id": "pDEe9XJ802Os",
        "colab_type": "code",
        "outputId": "a330781b-cab2-4045-b094-301b23198e2d",
        "colab": {
          "base_uri": "https://localhost:8080/",
          "height": 153
        }
      },
      "source": [
        "# Exercício 5.8\n",
        "# Escreva um programa que leia dois números. Imprima o resultado da multiplicação do primeiro pelo segundo. \n",
        "# Utilize apenas os operadores de soma e subtração para calcular o resultado\n",
        "\n",
        "n1 = int(input('Informe o 1º número: '))\n",
        "n2 = int(input('Informe o 2º número: '))\n",
        "x = 0\n",
        "\n",
        "while x <= n1:\n",
        "  n2 = n2 + n2\n",
        "  \n",
        "  print(n22)\n",
        "  x = x + 1\n",
        "\n",
        "# 5 x 4 = 5 + 5 + 5 + 5 = 4 + 4 + 4 + 4 + 4"
      ],
      "execution_count": 0,
      "outputs": [
        {
          "output_type": "stream",
          "text": [
            "Informe o 1º número: 5\n",
            "Informe o 2º número: 2\n",
            "0\n",
            "0\n",
            "0\n",
            "0\n",
            "0\n",
            "0\n"
          ],
          "name": "stdout"
        }
      ]
    },
    {
      "cell_type": "code",
      "metadata": {
        "id": "DJrC088EZwo0",
        "colab_type": "code",
        "colab": {}
      },
      "source": [
        "# Exercício 5.9"
      ],
      "execution_count": 0,
      "outputs": []
    },
    {
      "cell_type": "code",
      "metadata": {
        "id": "bahJK_nYQI8L",
        "colab_type": "code",
        "colab": {}
      },
      "source": [
        "# Exercício 5.10\n",
        "\n",
        "pontos = 0\n",
        "questao = 1\n",
        "\n",
        "while questao <= 3:\n",
        "  resposta = input(f'Resposta da questão {questao}:')\n",
        "  if questao == 1 and (resposta == 'b' or resposta == 'B'):\n",
        "    pontos = pontos + 1\n",
        "  if questao == 2 and (resposta == 'a' or resposta == 'A'):\n",
        "    pontos = pontos + 1\n",
        "  if questao == 3 and (resposta == 'd' or resposta == 'D'):\n",
        "    pontos = pontos + 1\n",
        "  questao = questao + 1\n",
        "print(f'O aluno fez {pontos} pontos(s)')"
      ],
      "execution_count": 0,
      "outputs": []
    },
    {
      "cell_type": "markdown",
      "metadata": {
        "id": "XlnaIqI5D4Cj",
        "colab_type": "text"
      },
      "source": [
        "<hr>\n",
        "<hr>"
      ]
    },
    {
      "cell_type": "markdown",
      "metadata": {
        "id": "Yl97Cvn8CNrU",
        "colab_type": "text"
      },
      "source": [
        "# *Acumuladores - (while)*\n",
        "<hr>\n",
        "\n",
        "*A diferença entre um cotador e um acumulador é que nos contadores o valor adicionado é constante e nos acumuladores, variável.*"
      ]
    },
    {
      "cell_type": "code",
      "metadata": {
        "id": "pp9Z7mb7CFZK",
        "colab_type": "code",
        "outputId": "0c81722c-bcbe-4ccc-9491-048554f61d7f",
        "colab": {
          "base_uri": "https://localhost:8080/",
          "height": 204
        }
      },
      "source": [
        "n = 1 # ACUMULADOR\n",
        "soma = 0 # CONTADOR\n",
        "while n <= 10:\n",
        "  x = int(input(f'Digite o {n} número: '))\n",
        "  soma = soma + x\n",
        "  n = n + 1\n",
        "print(f'Soma: {soma}')"
      ],
      "execution_count": 0,
      "outputs": [
        {
          "output_type": "stream",
          "text": [
            "Digite o 1 número: 1\n",
            "Digite o 2 número: 2\n",
            "Digite o 3 número: 3\n",
            "Digite o 4 número: 4\n",
            "Digite o 5 número: 5\n",
            "Digite o 6 número: 6\n",
            "Digite o 7 número: 7\n",
            "Digite o 8 número: 8\n",
            "Digite o 9 número: 9\n",
            "Digite o 10 número: 10\n",
            "Soma: 55\n"
          ],
          "name": "stdout"
        }
      ]
    },
    {
      "cell_type": "code",
      "metadata": {
        "id": "i1BKu2sqEDd7",
        "colab_type": "code",
        "outputId": "10612df9-1e59-4453-a041-42070a544424",
        "colab": {
          "base_uri": "https://localhost:8080/",
          "height": 85
        }
      },
      "source": [
        "acumulador = int(input('Informe quantas notas são: '))\n",
        "x = 1\n",
        "soma = 0\n",
        "while x <= acumulador:\n",
        "  n = int(input(f'Digite o {x}º número: '))\n",
        "  soma = soma + n\n",
        "  x = x + 1\n",
        "print(f'Média: {soma / acumulador:5.2f}')"
      ],
      "execution_count": 0,
      "outputs": [
        {
          "output_type": "stream",
          "text": [
            "Informe quantas notas são: 2\n",
            "Digite o 1º número: 10\n",
            "Digite o 2º número: 10\n",
            "Média: 10.00\n"
          ],
          "name": "stdout"
        }
      ]
    },
    {
      "cell_type": "markdown",
      "metadata": {
        "id": "knTiSREWFr6f",
        "colab_type": "text"
      },
      "source": [
        "<h1>Exercícios - Introdução à programação com Python - Acumuladores - (while)</h1>"
      ]
    },
    {
      "cell_type": "code",
      "metadata": {
        "id": "xq_65SxnFwWi",
        "colab_type": "code",
        "outputId": "2ff1f46e-a3f8-4d32-c6c9-1d4f4be73a24",
        "colab": {
          "base_uri": "https://localhost:8080/",
          "height": 170
        }
      },
      "source": [
        "# Exercício 5.11\n",
        "\n",
        "deposito = float(input('Informe o depósito inicial: '))\n",
        "juros = int(input('Infome a taxa de juros: '))\n",
        "x = 1\n",
        "mes = 0\n",
        "total_mes = 0\n",
        "\n",
        "while x <= 24:\n",
        "  mes = x\n",
        "  total = deposito + (deposito * (juros / 100))\n",
        "  total_mes += total\n",
        "  if mes == 1:\n",
        "    mes = 'janeiro'\n",
        "    print(f'O total do mês de {mes} é: {total}.')\n",
        "  elif mes == 2:\n",
        "    mes = 'fevereiro'\n",
        "    print(f'O total do mês de {mes} é: {total_mes}')\n",
        "  elif mes == 3:\n",
        "    mes = 'março'\n",
        "    print(f'O total do mês de {mes} é: {total_mes}')\n",
        "  elif mes == 4:\n",
        "    mes = 'abril'\n",
        "    print(f'O total do mês de {mes} é: {total_mes}')\n",
        "  elif mes == 5:\n",
        "    mes = 'maio'\n",
        "    print(f'O total do mês de {mes} é: {total_mes}')\n",
        "  elif mes == 6:\n",
        "    mes = 'julho'\n",
        "    print(f'O total do mês de {mes} é: {total_mes}')\n",
        "  elif mes == 7:\n",
        "    mes = 'junho'\n",
        "    print(f'O total do mês de {mes} é: {total_mes}')\n",
        "  x += 1"
      ],
      "execution_count": 0,
      "outputs": [
        {
          "output_type": "stream",
          "text": [
            "Informe o depósito inicial: 1000\n",
            "Infome a taxa de juros: 25\n",
            "O total do mês de janeiro é: 1250.0.\n",
            "O total do mês de fevereiro é: 2500.0\n",
            "O total do mês de março é: 3750.0\n",
            "O total do mês de abril é: 5000.0\n",
            "O total do mês de maio é: 6250.0\n",
            "O total do mês de julho é: 7500.0\n",
            "O total do mês de junho é: 8750.0\n"
          ],
          "name": "stdout"
        }
      ]
    },
    {
      "cell_type": "code",
      "metadata": {
        "id": "UF6_eM1cfn15",
        "colab_type": "code",
        "outputId": "158042eb-aa19-401b-dedb-b4804a44d347",
        "colab": {
          "base_uri": "https://localhost:8080/",
          "height": 459
        }
      },
      "source": [
        "# Exercício 5.11\n",
        "\n",
        "deposito = float(input('Informe o depósito inicial: '))\n",
        "juros = int(input('Infome a taxa de juros: '))\n",
        "x = 1\n",
        "mes = 0\n",
        "\n",
        "while x <= 24:\n",
        "  mes = x\n",
        "  total = deposito + (deposito * (juros / 100))\n",
        "  print(f'O total do {mes}º mês é: R${total_mes:.2f}.')\n",
        "  x += 1"
      ],
      "execution_count": 0,
      "outputs": [
        {
          "output_type": "stream",
          "text": [
            "Informe o depósito inicial: 1000\n",
            "Infome a taxa de juros: 25\n",
            "O total do 1º mês é: R$15625.00.\n",
            "O total do 2º mês é: R$15625.00.\n",
            "O total do 3º mês é: R$15625.00.\n",
            "O total do 4º mês é: R$15625.00.\n",
            "O total do 5º mês é: R$15625.00.\n",
            "O total do 6º mês é: R$15625.00.\n",
            "O total do 7º mês é: R$15625.00.\n",
            "O total do 8º mês é: R$15625.00.\n",
            "O total do 9º mês é: R$15625.00.\n",
            "O total do 10º mês é: R$15625.00.\n",
            "O total do 11º mês é: R$15625.00.\n",
            "O total do 12º mês é: R$15625.00.\n",
            "O total do 13º mês é: R$15625.00.\n",
            "O total do 14º mês é: R$15625.00.\n",
            "O total do 15º mês é: R$15625.00.\n",
            "O total do 16º mês é: R$15625.00.\n",
            "O total do 17º mês é: R$15625.00.\n",
            "O total do 18º mês é: R$15625.00.\n",
            "O total do 19º mês é: R$15625.00.\n",
            "O total do 20º mês é: R$15625.00.\n",
            "O total do 21º mês é: R$15625.00.\n",
            "O total do 22º mês é: R$15625.00.\n",
            "O total do 23º mês é: R$15625.00.\n",
            "O total do 24º mês é: R$15625.00.\n"
          ],
          "name": "stdout"
        }
      ]
    },
    {
      "cell_type": "code",
      "metadata": {
        "id": "B8YetN8Jw91M",
        "colab_type": "code",
        "colab": {}
      },
      "source": [
        "# Exercício 5.12\n",
        "\n",
        "deposito = float(input('Informe o depósito inicial: '))\n",
        "juros = int(input('Infome a taxa de juros: '))\n",
        "deposito_mensal = 0\n",
        "x = 1\n",
        "mes = 0\n",
        "\n",
        "while x <= 24:\n",
        "  mes = x\n",
        "  total = deposito + (deposito * (juros / 100))\n",
        "  print(f'O total do {mes}º mês é: R${deposito_mensal + total:.2f}.')\n",
        "  deposito_mensal = float(input('Informe o valor depositado mensalmente: '))\n",
        "  total_mes = total + (total + (total / 100))\n",
        "  x += 1"
      ],
      "execution_count": 0,
      "outputs": []
    },
    {
      "cell_type": "code",
      "metadata": {
        "id": "LirULK42hps_",
        "colab_type": "code",
        "colab": {}
      },
      "source": [
        "# Exercício 5.13"
      ],
      "execution_count": 0,
      "outputs": []
    },
    {
      "cell_type": "markdown",
      "metadata": {
        "id": "KjD-xBT8Ed9K",
        "colab_type": "text"
      },
      "source": [
        "<hr>\n",
        "<hr>\n"
      ]
    },
    {
      "cell_type": "markdown",
      "metadata": {
        "id": "_MAfmazwh7Pd",
        "colab_type": "text"
      },
      "source": [
        "# *Interrompendo a repetição*\n",
        "<hr>\n"
      ]
    },
    {
      "cell_type": "code",
      "metadata": {
        "id": "g7ZXuBvSh62t",
        "colab_type": "code",
        "colab": {}
      },
      "source": [
        "s = 0\n",
        "\n",
        "while True:\n",
        "  v = int(input('Digite um número a somar ou 0 para sair: '))\n",
        "  if v == 0:\n",
        "    break\n",
        "  s += v\n",
        "print(s)"
      ],
      "execution_count": 0,
      "outputs": []
    },
    {
      "cell_type": "code",
      "metadata": {
        "id": "9K1Ddif4_u50",
        "colab_type": "code",
        "outputId": "8d006b5b-b478-4179-bb09-cde01e4675f4",
        "colab": {
          "base_uri": "https://localhost:8080/",
          "height": 50
        }
      },
      "source": [
        "# Programa 5.1 - Contagem de células\n",
        "\n",
        "valor = float(input('Digite o valor a pagar: '))\n",
        "cedulas = 0.0\n",
        "atual = 100\n",
        "apagar = valor\n",
        "\n",
        "while True:\n",
        "  if atual <= apagar:\n",
        "    apagar -= atual\n",
        "    cedulas += 1\n",
        "  \n",
        "  else:\n",
        "    print(f'{cedulas} cédula(s) de R${atual:.2f}')\n",
        "    if apagar == 0:\n",
        "      break\n",
        "    if atual == 100:\n",
        "      atual = 50\n",
        "    elif atual == 50:\n",
        "      atual = 20\n",
        "    elif atual == 20:\n",
        "      atual = 10\n",
        "    elif atual == 10:\n",
        "      atual = 5\n",
        "    elif atual == 5:\n",
        "      atual = 1\n",
        "    elif atual == 1:\n",
        "      atual = 0.50\n",
        "    elif atual == 0.50:\n",
        "      atual = 0.25\n",
        "    elif atual == 0.25:\n",
        "      atual = 0.10\n",
        "    elif atual == 0.10:\n",
        "      atual = 0.05\n",
        "    elif atual == 0.05:\n",
        "      atual = 0.01\n",
        "    cedulas = 0"
      ],
      "execution_count": 0,
      "outputs": [
        {
          "output_type": "stream",
          "text": [
            "Digite o valor a pagar: 500\n",
            "5.0 cédula(s) de R$100.00\n"
          ],
          "name": "stdout"
        }
      ]
    },
    {
      "cell_type": "markdown",
      "metadata": {
        "id": "8vP0SFdDkwBc",
        "colab_type": "text"
      },
      "source": [
        "<h1>Exercícios - Introdução à programação com Python - Interrompendo a repetição</h1>"
      ]
    },
    {
      "cell_type": "code",
      "metadata": {
        "id": "_4YfIi9Zk4-6",
        "colab_type": "code",
        "outputId": "81499bee-c7d1-4d30-a5ba-12be5fb65069",
        "colab": {
          "base_uri": "https://localhost:8080/",
          "height": 136
        }
      },
      "source": [
        "# Exercício 5.14\n",
        "\n",
        "x = 0\n",
        "s = 0\n",
        "\n",
        "while True:\n",
        "  num = int(input('Digite um número a somar ou 0 para sair: '))\n",
        "  if num == 0:\n",
        "    print('Você saiu!')\n",
        "    break\n",
        "  s += num\n",
        "  x += 1\n",
        "  print(f'A quantidade de números digitados foi {x} e a média aritimética é {s / x}.')"
      ],
      "execution_count": 0,
      "outputs": [
        {
          "output_type": "stream",
          "text": [
            "Digite um número a somar ou 0 para sair: 10\n",
            "A quantidade de números digitados foi 1 e a média aritimética é 10.0.\n",
            "Digite um número a somar ou 0 para sair: 12\n",
            "A quantidade de números digitados foi 2 e a média aritimética é 11.0.\n",
            "Digite um número a somar ou 0 para sair: 5\n",
            "A quantidade de números digitados foi 3 e a média aritimética é 9.0.\n",
            "Digite um número a somar ou 0 para sair: 0\n"
          ],
          "name": "stdout"
        }
      ]
    },
    {
      "cell_type": "code",
      "metadata": {
        "id": "2HBPh1Pt4D29",
        "colab_type": "code",
        "outputId": "ccfed3ab-17f3-4691-a8d7-76cb27a9815e",
        "colab": {
          "base_uri": "https://localhost:8080/",
          "height": 187
        }
      },
      "source": [
        "# Exercício 5.15\n",
        "\n",
        "p = 0\n",
        "s = 0\n",
        "s2 = 0\n",
        "x = 0\n",
        "\n",
        "while True:\n",
        "  c = int(input('Informe o código: '))\n",
        "  \n",
        "  if c == 0:\n",
        "    print('Sair')\n",
        "    break\n",
        "    \n",
        "  elif c != 1 and c != 2 and c != 3 and c != 5 and c != 9:\n",
        "    print('Código inválido!')\n",
        "\n",
        "  else:\n",
        "    q = int(input('Informe a quantidade: '))\n",
        "    if c == 1:\n",
        "      p = 0.50\n",
        "    elif c == 2:\n",
        "      p = 1 \n",
        "    elif c == 3:\n",
        "      p = 4\n",
        "    elif c == 5:\n",
        "      p = 7\n",
        "    elif c == 9:\n",
        "      p = 8\n",
        "    s = q * p\n",
        "    s2 += s\n",
        "  print(f'O total de compras foi de R${s2:.2f}')"
      ],
      "execution_count": 0,
      "outputs": [
        {
          "output_type": "stream",
          "text": [
            "Informe o código: 1\n",
            "Informe a quantidade: 3\n",
            "O total de compras foi de R$1.50\n",
            "Informe o código: 6\n",
            "Código inválido!\n",
            "O total de compras foi de R$1.50\n",
            "Informe o código: 9\n",
            "Informe a quantidade: 6\n",
            "O total de compras foi de R$49.50\n",
            "Informe o código: 0\n"
          ],
          "name": "stdout"
        }
      ]
    },
    {
      "cell_type": "markdown",
      "metadata": {
        "id": "5CTpt_w-Ehw8",
        "colab_type": "text"
      },
      "source": [
        "***Exercícios 5.16 até 5.20 estão no programa 5.1***\n",
        "\n"
      ]
    },
    {
      "cell_type": "markdown",
      "metadata": {
        "id": "L18-CxyiGhi7",
        "colab_type": "text"
      },
      "source": [
        "<hr>\n",
        "<hr>"
      ]
    },
    {
      "cell_type": "markdown",
      "metadata": {
        "id": "2W3XpQ9jE1gu",
        "colab_type": "text"
      },
      "source": [
        "# *Repetições aninhadas*\n",
        "<hr>\n",
        "\n",
        "*Pode-se combinar vários while de forma a obter resultados mais interessantes, como a repetição com incremento de duas variáveis. Imagine imprimir as tabuadas de multiplicação de 1 a 10.* "
      ]
    },
    {
      "cell_type": "code",
      "metadata": {
        "id": "n4vcobHMEyE0",
        "colab_type": "code",
        "colab": {}
      },
      "source": [
        "tabuada = 1\n",
        "\n",
        "while tabuada <= 10: #1 Primeiro while criado para repetir seu bloco enquanto o valor de *tabuada* for menor ou igual a 10.\n",
        "  n = 1 #2 Inicialização da variável *n* dentro do primeiro while.\n",
        "  while n <= 10: #3  Esse while executará suas repetições dentro do primeiro, ou seja, o ponto de execução passa de 4 para 3 enquanto a condição for verdadeira.\n",
        "    print(f'{tabuada} x {n} = {tabuada * n}')\n",
        "    n += 1 #4 Quando *n* valer 11, a condição em 3 resultará falsa, e a execução do programa continuará a partir da linha 5.\n",
        "  tabuada += 1 #5 Em 5 incrementamos o valor de tabuada e voltamos a 1, onde será verificada a condição do primeiro while.\n",
        "  #  Como resulta verdadeiro, voltaremos a executar 2, reinicializando a variável *nú* com o valor 1. 2 é muito importante para que possamos novamente executar o segundo while, responsável por imprimir a tabuada na tela. "
      ],
      "execution_count": 0,
      "outputs": []
    },
    {
      "cell_type": "code",
      "metadata": {
        "id": "_aqLK5-DVkpH",
        "colab_type": "code",
        "colab": {}
      },
      "source": [
        "# Mesmo problema, mas sem utilizar repetições aninhadas:\n",
        "\n",
        "t = 1\n",
        "n = 1\n",
        "\n",
        "while t <= 10:\n",
        "  print(f'{t} x {n} = {t * n}')\n",
        "  n += 1\n",
        "  if n == 11:\n",
        "    n = 1\n",
        "    t += 1"
      ],
      "execution_count": 0,
      "outputs": []
    },
    {
      "cell_type": "markdown",
      "metadata": {
        "id": "EE5L00eTHJdZ",
        "colab_type": "text"
      },
      "source": [
        "<hr>\n",
        "<hr>"
      ]
    },
    {
      "cell_type": "markdown",
      "metadata": {
        "id": "UR1viK5d1hw3",
        "colab_type": "text"
      },
      "source": [
        "# *F-Strings*\n",
        "<hr>\n",
        "\n",
        "*Com essa sintaxe, é possível substituir o valor de uma variável ou expressão dentro de uma string.*"
      ]
    },
    {
      "cell_type": "code",
      "metadata": {
        "id": "GoABeQbs80Ix",
        "colab_type": "code",
        "outputId": "83db7437-635f-4df3-db8b-d665ec33f9e5",
        "colab": {
          "base_uri": "https://localhost:8080/",
          "height": 34
        }
      },
      "source": [
        "frase = 'Curso em Vídeo Python'\n",
        "frase[9]"
      ],
      "execution_count": 0,
      "outputs": [
        {
          "output_type": "execute_result",
          "data": {
            "text/plain": [
              "'V'"
            ]
          },
          "metadata": {
            "tags": []
          },
          "execution_count": 2
        }
      ]
    },
    {
      "cell_type": "code",
      "metadata": {
        "id": "jW5HknR79NDa",
        "colab_type": "code",
        "outputId": "753e6c50-29c1-483c-8dbd-978ec21127ff",
        "colab": {
          "base_uri": "https://localhost:8080/",
          "height": 34
        }
      },
      "source": [
        "frase[9:13]"
      ],
      "execution_count": 0,
      "outputs": [
        {
          "output_type": "execute_result",
          "data": {
            "text/plain": [
              "'Víde'"
            ]
          },
          "metadata": {
            "tags": []
          },
          "execution_count": 4
        }
      ]
    },
    {
      "cell_type": "code",
      "metadata": {
        "id": "y4Rvm6Ym950W",
        "colab_type": "code",
        "outputId": "1e7254c3-b2fd-4c80-f0a3-d27f8b1d5a79",
        "colab": {
          "base_uri": "https://localhost:8080/",
          "height": 34
        }
      },
      "source": [
        "frase[9:21]"
      ],
      "execution_count": 0,
      "outputs": [
        {
          "output_type": "execute_result",
          "data": {
            "text/plain": [
              "'Vídeo Python'"
            ]
          },
          "metadata": {
            "tags": []
          },
          "execution_count": 5
        }
      ]
    },
    {
      "cell_type": "code",
      "metadata": {
        "id": "tKBpYLr3-Edt",
        "colab_type": "code",
        "outputId": "49bb4556-f93b-4e8b-c2ab-b76c05f3d870",
        "colab": {
          "base_uri": "https://localhost:8080/",
          "height": 34
        }
      },
      "source": [
        "frase[9:21:2]"
      ],
      "execution_count": 0,
      "outputs": [
        {
          "output_type": "execute_result",
          "data": {
            "text/plain": [
              "'VdoPto'"
            ]
          },
          "metadata": {
            "tags": []
          },
          "execution_count": 6
        }
      ]
    },
    {
      "cell_type": "code",
      "metadata": {
        "id": "fgqaIql5-YRV",
        "colab_type": "code",
        "outputId": "a30d424a-91e8-4e7d-d84e-378775ae06ab",
        "colab": {
          "base_uri": "https://localhost:8080/",
          "height": 34
        }
      },
      "source": [
        "frase[:5]"
      ],
      "execution_count": 0,
      "outputs": [
        {
          "output_type": "execute_result",
          "data": {
            "text/plain": [
              "'Curso'"
            ]
          },
          "metadata": {
            "tags": []
          },
          "execution_count": 7
        }
      ]
    },
    {
      "cell_type": "code",
      "metadata": {
        "id": "cYkbHcZg-kKr",
        "colab_type": "code",
        "outputId": "7c71a3ed-896b-4614-b470-aeddde851fd5",
        "colab": {
          "base_uri": "https://localhost:8080/",
          "height": 34
        }
      },
      "source": [
        "frase[15:]"
      ],
      "execution_count": 0,
      "outputs": [
        {
          "output_type": "execute_result",
          "data": {
            "text/plain": [
              "'Python'"
            ]
          },
          "metadata": {
            "tags": []
          },
          "execution_count": 3
        }
      ]
    },
    {
      "cell_type": "code",
      "metadata": {
        "id": "Lnpf8xsR_bHO",
        "colab_type": "code",
        "outputId": "25bb9eac-5d70-41fa-ed99-204372339e85",
        "colab": {
          "base_uri": "https://localhost:8080/",
          "height": 34
        }
      },
      "source": [
        "frase[9::3]"
      ],
      "execution_count": 0,
      "outputs": [
        {
          "output_type": "execute_result",
          "data": {
            "text/plain": [
              "'VePh'"
            ]
          },
          "metadata": {
            "tags": []
          },
          "execution_count": 10
        }
      ]
    },
    {
      "cell_type": "code",
      "metadata": {
        "id": "0j2byGwC_g5r",
        "colab_type": "code",
        "outputId": "05ae7235-79d1-4d94-f689-393a8e0cd3be",
        "colab": {
          "base_uri": "https://localhost:8080/",
          "height": 34
        }
      },
      "source": [
        "len(frase)"
      ],
      "execution_count": 0,
      "outputs": [
        {
          "output_type": "execute_result",
          "data": {
            "text/plain": [
              "21"
            ]
          },
          "metadata": {
            "tags": []
          },
          "execution_count": 11
        }
      ]
    },
    {
      "cell_type": "code",
      "metadata": {
        "id": "syN9PoNm_meG",
        "colab_type": "code",
        "outputId": "2485fc33-bb47-4cbc-9f00-81e5483ba52d",
        "colab": {
          "base_uri": "https://localhost:8080/",
          "height": 34
        }
      },
      "source": [
        "frase.count('o')"
      ],
      "execution_count": 0,
      "outputs": [
        {
          "output_type": "execute_result",
          "data": {
            "text/plain": [
              "3"
            ]
          },
          "metadata": {
            "tags": []
          },
          "execution_count": 12
        }
      ]
    },
    {
      "cell_type": "code",
      "metadata": {
        "id": "1fINH9UZ_uPx",
        "colab_type": "code",
        "outputId": "f49ca10c-c18b-4a58-f180-b555b8670e7c",
        "colab": {
          "base_uri": "https://localhost:8080/",
          "height": 34
        }
      },
      "source": [
        "frase.count('o', 0, 13)"
      ],
      "execution_count": 0,
      "outputs": [
        {
          "output_type": "execute_result",
          "data": {
            "text/plain": [
              "1"
            ]
          },
          "metadata": {
            "tags": []
          },
          "execution_count": 13
        }
      ]
    },
    {
      "cell_type": "code",
      "metadata": {
        "id": "KYycFabh_7n6",
        "colab_type": "code",
        "outputId": "2c601f2b-d14d-4356-f89e-5c19d351af85",
        "colab": {
          "base_uri": "https://localhost:8080/",
          "height": 34
        }
      },
      "source": [
        "frase.find('deo')"
      ],
      "execution_count": 0,
      "outputs": [
        {
          "output_type": "execute_result",
          "data": {
            "text/plain": [
              "11"
            ]
          },
          "metadata": {
            "tags": []
          },
          "execution_count": 14
        }
      ]
    },
    {
      "cell_type": "code",
      "metadata": {
        "id": "rG-nxDKfAKos",
        "colab_type": "code",
        "outputId": "0c90b959-0351-491f-c4e8-f307dd0328db",
        "colab": {
          "base_uri": "https://localhost:8080/",
          "height": 34
        }
      },
      "source": [
        "frase.find('Android')"
      ],
      "execution_count": 0,
      "outputs": [
        {
          "output_type": "execute_result",
          "data": {
            "text/plain": [
              "-1"
            ]
          },
          "metadata": {
            "tags": []
          },
          "execution_count": 15
        }
      ]
    },
    {
      "cell_type": "code",
      "metadata": {
        "id": "a6UrZasqATen",
        "colab_type": "code",
        "outputId": "79475f90-f618-47bb-b3a0-15fc85099f96",
        "colab": {
          "base_uri": "https://localhost:8080/",
          "height": 34
        }
      },
      "source": [
        "'Curso' in frase"
      ],
      "execution_count": 0,
      "outputs": [
        {
          "output_type": "execute_result",
          "data": {
            "text/plain": [
              "True"
            ]
          },
          "metadata": {
            "tags": []
          },
          "execution_count": 16
        }
      ]
    },
    {
      "cell_type": "code",
      "metadata": {
        "id": "GH_0maVtAinb",
        "colab_type": "code",
        "outputId": "b26e7455-19b6-4fd5-cc3e-e0b9a09c41db",
        "colab": {
          "base_uri": "https://localhost:8080/",
          "height": 34
        }
      },
      "source": [
        "frase.replace('Python', 'Android')"
      ],
      "execution_count": 0,
      "outputs": [
        {
          "output_type": "execute_result",
          "data": {
            "text/plain": [
              "'Curso em Vídeo Android'"
            ]
          },
          "metadata": {
            "tags": []
          },
          "execution_count": 17
        }
      ]
    },
    {
      "cell_type": "code",
      "metadata": {
        "id": "R8tIvTZdAwJL",
        "colab_type": "code",
        "outputId": "2073b1bc-0a31-440b-abbe-3b0a2a3011fd",
        "colab": {
          "base_uri": "https://localhost:8080/",
          "height": 34
        }
      },
      "source": [
        "frase.upper()"
      ],
      "execution_count": 0,
      "outputs": [
        {
          "output_type": "execute_result",
          "data": {
            "text/plain": [
              "'CURSO EM VÍDEO PYTHON'"
            ]
          },
          "metadata": {
            "tags": []
          },
          "execution_count": 18
        }
      ]
    },
    {
      "cell_type": "code",
      "metadata": {
        "id": "L9PgEgk_A1kT",
        "colab_type": "code",
        "outputId": "98ef549c-6372-4f6a-f49d-f7f063f016dd",
        "colab": {
          "base_uri": "https://localhost:8080/",
          "height": 34
        }
      },
      "source": [
        "frase.lower()"
      ],
      "execution_count": 0,
      "outputs": [
        {
          "output_type": "execute_result",
          "data": {
            "text/plain": [
              "'curso em vídeo python'"
            ]
          },
          "metadata": {
            "tags": []
          },
          "execution_count": 19
        }
      ]
    },
    {
      "cell_type": "code",
      "metadata": {
        "id": "cMAdeeOjA701",
        "colab_type": "code",
        "outputId": "5a69d171-da0d-4e35-c665-1154bbe02c47",
        "colab": {
          "base_uri": "https://localhost:8080/",
          "height": 34
        }
      },
      "source": [
        "frase.capitalize()"
      ],
      "execution_count": 0,
      "outputs": [
        {
          "output_type": "execute_result",
          "data": {
            "text/plain": [
              "'Curso em vídeo python'"
            ]
          },
          "metadata": {
            "tags": []
          },
          "execution_count": 20
        }
      ]
    },
    {
      "cell_type": "code",
      "metadata": {
        "id": "FpPzStMzA_h9",
        "colab_type": "code",
        "outputId": "3a591b0b-c33e-4a58-c7dd-a739b71b8546",
        "colab": {
          "base_uri": "https://localhost:8080/",
          "height": 34
        }
      },
      "source": [
        "frase.title()"
      ],
      "execution_count": 0,
      "outputs": [
        {
          "output_type": "execute_result",
          "data": {
            "text/plain": [
              "'Curso Em Vídeo Python'"
            ]
          },
          "metadata": {
            "tags": []
          },
          "execution_count": 21
        }
      ]
    },
    {
      "cell_type": "code",
      "metadata": {
        "id": "SggZ0rhnBIyx",
        "colab_type": "code",
        "outputId": "d60a94aa-28e2-47d7-d7aa-497da4d9c4f8",
        "colab": {
          "base_uri": "https://localhost:8080/",
          "height": 34
        }
      },
      "source": [
        "frase = '   Aprenda Python  '\n",
        "print(frase)"
      ],
      "execution_count": 0,
      "outputs": [
        {
          "output_type": "stream",
          "text": [
            "   Aprenda Python  \n"
          ],
          "name": "stdout"
        }
      ]
    },
    {
      "cell_type": "code",
      "metadata": {
        "id": "BkCA4YOJBVfP",
        "colab_type": "code",
        "outputId": "f9069065-7493-4d12-a42e-6950a32b8a9e",
        "colab": {
          "base_uri": "https://localhost:8080/",
          "height": 34
        }
      },
      "source": [
        "frase.strip()"
      ],
      "execution_count": 0,
      "outputs": [
        {
          "output_type": "execute_result",
          "data": {
            "text/plain": [
              "'Aprenda Python'"
            ]
          },
          "metadata": {
            "tags": []
          },
          "execution_count": 24
        }
      ]
    },
    {
      "cell_type": "code",
      "metadata": {
        "id": "aCkbOzA0Ba3_",
        "colab_type": "code",
        "outputId": "054db758-7108-4842-923d-164cdd72c418",
        "colab": {
          "base_uri": "https://localhost:8080/",
          "height": 34
        }
      },
      "source": [
        "frase.rstrip()"
      ],
      "execution_count": 0,
      "outputs": [
        {
          "output_type": "execute_result",
          "data": {
            "text/plain": [
              "'   Aprenda Python'"
            ]
          },
          "metadata": {
            "tags": []
          },
          "execution_count": 25
        }
      ]
    },
    {
      "cell_type": "code",
      "metadata": {
        "id": "E9HM_B7UBoxE",
        "colab_type": "code",
        "outputId": "854f4fc9-4647-42c6-ffcc-770cc2803587",
        "colab": {
          "base_uri": "https://localhost:8080/",
          "height": 34
        }
      },
      "source": [
        "frase.lstrip()"
      ],
      "execution_count": 0,
      "outputs": [
        {
          "output_type": "execute_result",
          "data": {
            "text/plain": [
              "'Aprenda Python  '"
            ]
          },
          "metadata": {
            "tags": []
          },
          "execution_count": 26
        }
      ]
    },
    {
      "cell_type": "code",
      "metadata": {
        "id": "wQyxpudxBzws",
        "colab_type": "code",
        "outputId": "79c74fde-9596-4f19-b6d9-6f5aafbd668a",
        "colab": {
          "base_uri": "https://localhost:8080/",
          "height": 34
        }
      },
      "source": [
        "frase = 'Curso em Vídeo Python'\n",
        "print(frase)"
      ],
      "execution_count": 0,
      "outputs": [
        {
          "output_type": "stream",
          "text": [
            "Curso em Vídeo Python\n"
          ],
          "name": "stdout"
        }
      ]
    },
    {
      "cell_type": "code",
      "metadata": {
        "id": "IBYyYsbUB-YI",
        "colab_type": "code",
        "outputId": "e27a222b-615d-48ad-aec3-38eb41dce7d0",
        "colab": {
          "base_uri": "https://localhost:8080/",
          "height": 34
        }
      },
      "source": [
        "frase.split()"
      ],
      "execution_count": 0,
      "outputs": [
        {
          "output_type": "execute_result",
          "data": {
            "text/plain": [
              "['Curso', 'em', 'Vídeo', 'Python']"
            ]
          },
          "metadata": {
            "tags": []
          },
          "execution_count": 29
        }
      ]
    },
    {
      "cell_type": "code",
      "metadata": {
        "id": "spKP6G5UDqa-",
        "colab_type": "code",
        "outputId": "4ea680af-67dd-48ea-8970-cdbb2ee4a02e",
        "colab": {
          "base_uri": "https://localhost:8080/",
          "height": 34
        }
      },
      "source": [
        "frase = ['Curso', 'em', 'Vídeo', 'Python']\n",
        "print(frase)"
      ],
      "execution_count": 0,
      "outputs": [
        {
          "output_type": "stream",
          "text": [
            "['Curso', 'em', 'Vídeo', 'Python']\n"
          ],
          "name": "stdout"
        }
      ]
    },
    {
      "cell_type": "code",
      "metadata": {
        "id": "5kjhXaouDeXM",
        "colab_type": "code",
        "outputId": "764f1b83-dcf4-4d3d-f1d3-23186b2e3056",
        "colab": {
          "base_uri": "https://localhost:8080/",
          "height": 34
        }
      },
      "source": [
        "'-'.join(frase)"
      ],
      "execution_count": 0,
      "outputs": [
        {
          "output_type": "execute_result",
          "data": {
            "text/plain": [
              "'Curso-em-Vídeo-Python'"
            ]
          },
          "metadata": {
            "tags": []
          },
          "execution_count": 32
        }
      ]
    },
    {
      "cell_type": "code",
      "metadata": {
        "id": "Mm8c56lKE2vK",
        "colab_type": "code",
        "outputId": "42f81e3c-cbed-44b0-f2b9-4f38773005cb",
        "colab": {
          "base_uri": "https://localhost:8080/",
          "height": 34
        }
      },
      "source": [
        "frase = 'Curso em Vídeo Python'\n",
        "print(frase.upper().count('O'))"
      ],
      "execution_count": 0,
      "outputs": [
        {
          "output_type": "stream",
          "text": [
            "3\n"
          ],
          "name": "stdout"
        }
      ]
    },
    {
      "cell_type": "code",
      "metadata": {
        "id": "hJVqOU3rFqxN",
        "colab_type": "code",
        "outputId": "d0a3cbe0-cb4a-46ab-dc7b-aeefd6b7ac3e",
        "colab": {
          "base_uri": "https://localhost:8080/",
          "height": 34
        }
      },
      "source": [
        "frase = 'Curso em Vídeo Python'\n",
        "print(len(frase.strip()))"
      ],
      "execution_count": 0,
      "outputs": [
        {
          "output_type": "stream",
          "text": [
            "21\n"
          ],
          "name": "stdout"
        }
      ]
    },
    {
      "cell_type": "code",
      "metadata": {
        "id": "4go0HedoF7wK",
        "colab_type": "code",
        "outputId": "eba0a0ba-6322-4fdc-fc43-d42faed77f63",
        "colab": {
          "base_uri": "https://localhost:8080/",
          "height": 34
        }
      },
      "source": [
        "frase = 'Curso em Vídeo Python'\n",
        "print(len(frase.replace('Python', 'Android'))) # O conteúdo muda apenas nessa instância."
      ],
      "execution_count": 0,
      "outputs": [
        {
          "output_type": "stream",
          "text": [
            "22\n"
          ],
          "name": "stdout"
        }
      ]
    },
    {
      "cell_type": "code",
      "metadata": {
        "id": "Y80L5SSgHVOL",
        "colab_type": "code",
        "outputId": "bf1529b9-1041-47d7-ac8d-c03f990290b3",
        "colab": {
          "base_uri": "https://localhost:8080/",
          "height": 34
        }
      },
      "source": [
        "frase = 'Curso em Vídeo Python'\n",
        "frase = frase.replace('Python', 'Android')\n",
        "print(frase)"
      ],
      "execution_count": 0,
      "outputs": [
        {
          "output_type": "stream",
          "text": [
            "Curso em Vídeo Android\n"
          ],
          "name": "stdout"
        }
      ]
    },
    {
      "cell_type": "code",
      "metadata": {
        "id": "FQiXG4pjHx4B",
        "colab_type": "code",
        "outputId": "128045a2-9d20-464e-8886-e097a71d623b",
        "colab": {
          "base_uri": "https://localhost:8080/",
          "height": 34
        }
      },
      "source": [
        "frase = 'Curso em Vídeo Python'\n",
        "print('Curso' in frase)"
      ],
      "execution_count": 0,
      "outputs": [
        {
          "output_type": "stream",
          "text": [
            "True\n"
          ],
          "name": "stdout"
        }
      ]
    },
    {
      "cell_type": "code",
      "metadata": {
        "id": "JVogiH83H_ng",
        "colab_type": "code",
        "outputId": "d2fe50ae-00d4-4261-c76b-53fc5a96a9d4",
        "colab": {
          "base_uri": "https://localhost:8080/",
          "height": 34
        }
      },
      "source": [
        "frase = 'Curso em Vídeo Python'\n",
        "print(frase.find('Vídeo'))"
      ],
      "execution_count": 0,
      "outputs": [
        {
          "output_type": "stream",
          "text": [
            "9\n"
          ],
          "name": "stdout"
        }
      ]
    },
    {
      "cell_type": "code",
      "metadata": {
        "id": "Jw4xBrwjIXO8",
        "colab_type": "code",
        "outputId": "99ebcd23-1780-48d4-b29b-902aca7f5846",
        "colab": {
          "base_uri": "https://localhost:8080/",
          "height": 34
        }
      },
      "source": [
        "frase = 'Curso em Vídeo Python'\n",
        "print(frase.lower().find('vídeo'))"
      ],
      "execution_count": 0,
      "outputs": [
        {
          "output_type": "stream",
          "text": [
            "9\n"
          ],
          "name": "stdout"
        }
      ]
    },
    {
      "cell_type": "code",
      "metadata": {
        "id": "GuhqRt-AIqaB",
        "colab_type": "code",
        "outputId": "b871759a-4144-4395-ff0c-38ae5ebcf8ba",
        "colab": {
          "base_uri": "https://localhost:8080/",
          "height": 34
        }
      },
      "source": [
        "frase = 'Curso em Vídeo Python'\n",
        "print(frase.split())"
      ],
      "execution_count": 0,
      "outputs": [
        {
          "output_type": "stream",
          "text": [
            "['Curso', 'em', 'Vídeo', 'Python']\n"
          ],
          "name": "stdout"
        }
      ]
    },
    {
      "cell_type": "code",
      "metadata": {
        "id": "tjx3GoMZJEJw",
        "colab_type": "code",
        "outputId": "2b65c9e7-ed97-4b6f-ce43-b16e1f496591",
        "colab": {
          "base_uri": "https://localhost:8080/",
          "height": 34
        }
      },
      "source": [
        "frase = 'Curso em Vídeo Python'\n",
        "dividido = frase.split()\n",
        "print(dividido[2][3])"
      ],
      "execution_count": 0,
      "outputs": [
        {
          "output_type": "stream",
          "text": [
            "e\n"
          ],
          "name": "stdout"
        }
      ]
    },
    {
      "cell_type": "code",
      "metadata": {
        "id": "R5o1ppbH1wX7",
        "colab_type": "code",
        "outputId": "74bf79f8-64f7-4a35-954c-82e2a29c71ee",
        "colab": {
          "base_uri": "https://localhost:8080/",
          "height": 34
        }
      },
      "source": [
        "a = 'mundo'\n",
        "print(f'Alô {a}')"
      ],
      "execution_count": 0,
      "outputs": [
        {
          "output_type": "stream",
          "text": [
            "Alô mundo\n"
          ],
          "name": "stdout"
        }
      ]
    },
    {
      "cell_type": "code",
      "metadata": {
        "id": "46RzLePMxHGA",
        "colab_type": "code",
        "outputId": "4d79a26c-3cd5-410e-8772-e52e6c047286",
        "colab": {
          "base_uri": "https://localhost:8080/",
          "height": 34
        }
      },
      "source": [
        "preco = 5.20\n",
        "f'Preço: R${preco:_^10.2f}!'"
      ],
      "execution_count": 0,
      "outputs": [
        {
          "output_type": "execute_result",
          "data": {
            "text/plain": [
              "'Preço: R$___5.20___!'"
            ]
          },
          "metadata": {
            "tags": []
          },
          "execution_count": 3
        }
      ]
    },
    {
      "cell_type": "code",
      "metadata": {
        "id": "vc3WzDx1xqoA",
        "colab_type": "code",
        "outputId": "04db5c7a-1c3a-439b-eff8-123b78a22d92",
        "colab": {
          "base_uri": "https://localhost:8080/",
          "height": 34
        }
      },
      "source": [
        "# Funções dentro da f-string: \n",
        "x = 5.1\n",
        "f'Inteiro: {int(x)}'"
      ],
      "execution_count": 0,
      "outputs": [
        {
          "output_type": "execute_result",
          "data": {
            "text/plain": [
              "'Inteiro: 5'"
            ]
          },
          "metadata": {
            "tags": []
          },
          "execution_count": 4
        }
      ]
    },
    {
      "cell_type": "code",
      "metadata": {
        "id": "8V9F82qVx1ZU",
        "colab_type": "code",
        "outputId": "b00c742f-cb9d-4296-dc41-5bcc66658402",
        "colab": {
          "base_uri": "https://localhost:8080/",
          "height": 34
        }
      },
      "source": [
        "f'Preço: R${preco * 10:5.2f}!'"
      ],
      "execution_count": 0,
      "outputs": [
        {
          "output_type": "execute_result",
          "data": {
            "text/plain": [
              "'Preço: R$52.00!'"
            ]
          },
          "metadata": {
            "tags": []
          },
          "execution_count": 5
        }
      ]
    },
    {
      "cell_type": "code",
      "metadata": {
        "id": "aYvgmC2oySkB",
        "colab_type": "code",
        "outputId": "56957d40-bf61-4c64-c5ca-c9a1b5e66d25",
        "colab": {
          "base_uri": "https://localhost:8080/",
          "height": 68
        }
      },
      "source": [
        "a = 'primeira linha\\nsegunda linha\\nterceira linha'\n",
        "print(a)"
      ],
      "execution_count": 0,
      "outputs": [
        {
          "output_type": "stream",
          "text": [
            "primeira linha\n",
            "segunda linha\n",
            "terceira linha\n"
          ],
          "name": "stdout"
        }
      ]
    },
    {
      "cell_type": "markdown",
      "metadata": {
        "id": "CEn5epc8Jyp3",
        "colab_type": "text"
      },
      "source": [
        "<hr>\n",
        "<hr>"
      ]
    },
    {
      "cell_type": "markdown",
      "metadata": {
        "id": "yV1sSgQuzfCA",
        "colab_type": "text"
      },
      "source": [
        "# *Listas*\n",
        "<hr>"
      ]
    },
    {
      "cell_type": "code",
      "metadata": {
        "id": "haJI_q8ih1nR",
        "colab_type": "code",
        "colab": {}
      },
      "source": [
        "lista = []"
      ],
      "execution_count": 0,
      "outputs": []
    },
    {
      "cell_type": "code",
      "metadata": {
        "id": "lqdRbraUsW09",
        "colab_type": "code",
        "outputId": "5132f3b7-6205-4cde-ba1e-540ec4846627",
        "colab": {
          "base_uri": "https://localhost:8080/",
          "height": 50
        }
      },
      "source": [
        "num = [2, 5, 9, 1]\n",
        "num[2] = 3\n",
        "num.append(7)\n",
        "num.sort(reverse = True)\n",
        "num.insert(2, 2)\n",
        "if 5 in num:\n",
        "  num.remove(5)\n",
        "else:\n",
        "  print('Não achei o número 5.')\n",
        "print(num)\n",
        "print(f'Essa lista tem {len(num)} elementos.')"
      ],
      "execution_count": 0,
      "outputs": [
        {
          "output_type": "stream",
          "text": [
            "[7, 2, 3, 2, 1]\n",
            "Essa lista tem 5 elementos.\n"
          ],
          "name": "stdout"
        }
      ]
    },
    {
      "cell_type": "code",
      "metadata": {
        "id": "eRPWUvDBt9pR",
        "colab_type": "code",
        "outputId": "5ed54956-e8db-4935-e685-ce46f984b851",
        "colab": {
          "base_uri": "https://localhost:8080/",
          "height": 83
        }
      },
      "source": [
        "valores = []\n",
        "valores.append(5)\n",
        "valores.append(9)\n",
        "valores.append(4)\n",
        "\n",
        "for c, v in enumerate(valores):\n",
        "  print(f'Na posição {c} encontrei o valor {v}!')\n",
        "print('Fim')"
      ],
      "execution_count": 0,
      "outputs": [
        {
          "output_type": "stream",
          "text": [
            "Na posição 0 encontrei o valor 5\n",
            "Na posição 1 encontrei o valor 9\n",
            "Na posição 2 encontrei o valor 4\n",
            "Fim\n"
          ],
          "name": "stdout"
        }
      ]
    },
    {
      "cell_type": "code",
      "metadata": {
        "id": "r0V4enZRv17Z",
        "colab_type": "code",
        "outputId": "0f5458a5-170c-478d-accc-9b9a41b96f67",
        "colab": {
          "base_uri": "https://localhost:8080/",
          "height": 200
        }
      },
      "source": [
        "valores = list()\n",
        "\n",
        "for count in range(0, 5):\n",
        "  valores.append(int(input('Digite um valor: ')))\n",
        "\n",
        "for c, v in enumerate(valores):\n",
        "  print(f'Na posição {c} encontrei o valor {v}!')\n",
        "print('Fim')"
      ],
      "execution_count": 0,
      "outputs": [
        {
          "output_type": "stream",
          "text": [
            "Digite um valor: 6\n",
            "Digite um valor: 8\n",
            "Digite um valor: 4\n",
            "Digite um valor: 2\n",
            "Digite um valor: 1\n",
            "Na posição 0 encontrei o valor 6!\n",
            "Na posição 1 encontrei o valor 8!\n",
            "Na posição 2 encontrei o valor 4!\n",
            "Na posição 3 encontrei o valor 2!\n",
            "Na posição 4 encontrei o valor 1!\n",
            "Fim\n"
          ],
          "name": "stdout"
        }
      ]
    },
    {
      "cell_type": "code",
      "metadata": {
        "id": "ga0NJYrV0AQj",
        "colab_type": "code",
        "outputId": "29148d81-87ad-4493-cd85-2ecef54c945f",
        "colab": {
          "base_uri": "https://localhost:8080/",
          "height": 50
        }
      },
      "source": [
        "a = [2, 3, 4, 7]\n",
        "b = a[:]\n",
        "b[2] = 8\n",
        "print(f'Lista A: {a}')\n",
        "print(f'Lista B: {b}')"
      ],
      "execution_count": 0,
      "outputs": [
        {
          "output_type": "stream",
          "text": [
            "Lista A: [2, 3, 4, 7]\n",
            "Lista B: [2, 3, 8, 7]\n"
          ],
          "name": "stdout"
        }
      ]
    },
    {
      "cell_type": "code",
      "metadata": {
        "id": "cmwtVuvAfrnE",
        "colab_type": "code",
        "colab": {}
      },
      "source": [
        "# Essa linha cria uma lista chamada L com zero elemento, ou seja, uma lista vazia. \n",
        "L = []\n",
        "# Os colchetes ([]) após o símbolo de igualdade servem para indicar que L é uma lista."
      ],
      "execution_count": 0,
      "outputs": []
    },
    {
      "cell_type": "code",
      "metadata": {
        "id": "EMabD-6xgNLE",
        "colab_type": "code",
        "outputId": "2644fd0b-a42e-47a9-8f51-b200cc081bd5",
        "colab": {
          "base_uri": "https://localhost:8080/",
          "height": 34
        }
      },
      "source": [
        "z = [15, 8, 9]\n",
        "z[0]"
      ],
      "execution_count": 0,
      "outputs": [
        {
          "output_type": "execute_result",
          "data": {
            "text/plain": [
              "15"
            ]
          },
          "metadata": {
            "tags": []
          },
          "execution_count": 1
        }
      ]
    },
    {
      "cell_type": "code",
      "metadata": {
        "id": "GJCFwD7egolB",
        "colab_type": "code",
        "outputId": "6d553612-684a-472a-b85c-f23ae17f87b7",
        "colab": {
          "base_uri": "https://localhost:8080/",
          "height": 34
        }
      },
      "source": [
        "z[0] = 7\n",
        "z[0]"
      ],
      "execution_count": 0,
      "outputs": [
        {
          "output_type": "execute_result",
          "data": {
            "text/plain": [
              "7"
            ]
          },
          "metadata": {
            "tags": []
          },
          "execution_count": 2
        }
      ]
    },
    {
      "cell_type": "code",
      "metadata": {
        "id": "0EigiEgbgx8b",
        "colab_type": "code",
        "outputId": "eadebed5-fdb3-4620-9088-a1624257dd74",
        "colab": {
          "base_uri": "https://localhost:8080/",
          "height": 34
        }
      },
      "source": [
        "z"
      ],
      "execution_count": 0,
      "outputs": [
        {
          "output_type": "execute_result",
          "data": {
            "text/plain": [
              "[7, 8, 9]"
            ]
          },
          "metadata": {
            "tags": []
          },
          "execution_count": 3
        }
      ]
    },
    {
      "cell_type": "code",
      "metadata": {
        "id": "lt_bWZYrg87d",
        "colab_type": "code",
        "colab": {}
      },
      "source": [
        "# Programa 6.1 - Cálculo da média\n",
        "\n",
        "notas = [6, 7, 5, 8, 9]\n",
        "soma = 8\n",
        "x = 0\n",
        "while x < 5:\n",
        "  soma += notas[x]\n",
        "  x += 1\n",
        "print(f'Média: {soma / x:5.2f}')"
      ],
      "execution_count": 0,
      "outputs": []
    },
    {
      "cell_type": "code",
      "metadata": {
        "id": "klxq7L7XjFHZ",
        "colab_type": "code",
        "outputId": "8a572b17-9d81-4d0b-a8ea-cfe9f1650b1b",
        "colab": {
          "base_uri": "https://localhost:8080/",
          "height": 204
        }
      },
      "source": [
        "# Programa 6.2 - Cálculo da média com notas digitadas\n",
        "\n",
        "notas = [0, 0, 0, 0, 0]\n",
        "soma = 0\n",
        "x = 0\n",
        "\n",
        "while x < 5:\n",
        "  notas[x] = float(input(f'Nota {x}: '))\n",
        "  soma += notas[x]\n",
        "  x += 1\n",
        "x = 0\n",
        "while x < 5:\n",
        "  print(f'Nota {x}: {notas[x]:6.2f}')\n",
        "  x += 1\n",
        "print(f'Média: {soma / x:5.2f}')"
      ],
      "execution_count": 0,
      "outputs": [
        {
          "output_type": "stream",
          "text": [
            "Nota 0: 5\n",
            "Nota 1: 5\n",
            "Nota 2: 59\n",
            "Nota 3: 6\n",
            "Nota 4: 4\n",
            "Nota 0:   5.00\n",
            "Nota 1:   5.00\n",
            "Nota 2:  59.00\n",
            "Nota 3:   6.00\n",
            "Nota 4:   4.00\n",
            "Média: 15.80\n"
          ],
          "name": "stdout"
        }
      ]
    },
    {
      "cell_type": "markdown",
      "metadata": {
        "id": "5qy_PfDfmBX2",
        "colab_type": "text"
      },
      "source": [
        "<h1>Exercícios - Introdução à programação com Python - Listas, dicionários, tuplas e conjuntos</h1>"
      ]
    },
    {
      "cell_type": "code",
      "metadata": {
        "id": "mu7m0hUOmAh-",
        "colab_type": "code",
        "outputId": "62486520-ee00-4ee0-cf5b-7bca636d1280",
        "colab": {
          "base_uri": "https://localhost:8080/",
          "height": 255
        }
      },
      "source": [
        "# Exercício 6.1 \n",
        "\n",
        "notas = [0, 0, 0, 0, 0, 0, 0]\n",
        "soma = 0\n",
        "x = 0\n",
        "\n",
        "while x < 7:\n",
        "  notas[x] = float(input(f'Nota {x + 1}: '))\n",
        "  soma += notas[x]\n",
        "  x += 1\n",
        "x = 1\n",
        "while x < 7:\n",
        "  print(f'Notas {x}: {notas[x]:6.2f}')\n",
        "  x += 1\n",
        "print(f'Média: {soma / x:5.2f}')"
      ],
      "execution_count": 0,
      "outputs": [
        {
          "output_type": "stream",
          "text": [
            "Nota 1: 9\n",
            "Nota 2: 9\n",
            "Nota 3: 9\n",
            "Nota 4: 9\n",
            "Nota 5: 9\n",
            "Nota 6: 9\n",
            "Nota 7: 9\n",
            "Notas 1:   9.00\n",
            "Notas 2:   9.00\n",
            "Notas 3:   9.00\n",
            "Notas 4:   9.00\n",
            "Notas 5:   9.00\n",
            "Notas 6:   9.00\n",
            "Média:  9.00\n"
          ],
          "name": "stdout"
        }
      ]
    },
    {
      "cell_type": "markdown",
      "metadata": {
        "id": "3u51j0qhLfVo",
        "colab_type": "text"
      },
      "source": [
        "<hr>\n",
        "<hr>"
      ]
    },
    {
      "cell_type": "markdown",
      "metadata": {
        "id": "xzSx2X3LqS1T",
        "colab_type": "text"
      },
      "source": [
        "<h3>Trabalhando com índices</h3>"
      ]
    },
    {
      "cell_type": "code",
      "metadata": {
        "id": "RXs0LEOGqSJC",
        "colab_type": "code",
        "outputId": "ab3a840b-9a45-45ad-f742-7fdeb3967937",
        "colab": {
          "base_uri": "https://localhost:8080/",
          "height": 289
        }
      },
      "source": [
        "# Programa 6.3 - Apresentação de números\n",
        "\n",
        "numeros = [0, 0, 0, 0, 0]\n",
        "x = 0\n",
        "while x < 5:\n",
        "  numeros[x] = int(input(f'Número {x + 1}: '))\n",
        "  x += 1\n",
        "while True:\n",
        "  escolhido = int(input('Que posição você quer imprimir (0 para sair): '))\n",
        "  if escolhido == 0:\n",
        "    break\n",
        "  print(f'Você escolheu o número: {numeros[escolhido - 1]}')"
      ],
      "execution_count": 0,
      "outputs": [
        {
          "output_type": "stream",
          "text": [
            "Número 1: 12\n",
            "Número 2: 15\n",
            "Número 3: 5\n",
            "Número 4: 7\n",
            "Número 5: 9\n",
            "Que posição você quer imprimir (0 para sair): 1\n",
            "Você escolheu o número: 12\n",
            "Que posição você quer imprimir (0 para sair): 2\n",
            "Você escolheu o número: 15\n",
            "Que posição você quer imprimir (0 para sair): 3\n",
            "Você escolheu o número: 5\n",
            "Que posição você quer imprimir (0 para sair): 4\n",
            "Você escolheu o número: 7\n",
            "Que posição você quer imprimir (0 para sair): 5\n",
            "Você escolheu o número: 9\n",
            "Que posição você quer imprimir (0 para sair): 0\n"
          ],
          "name": "stdout"
        }
      ]
    },
    {
      "cell_type": "markdown",
      "metadata": {
        "id": "KbLbVRKcVMr0",
        "colab_type": "text"
      },
      "source": [
        "<hr>\n",
        "<hr>"
      ]
    },
    {
      "cell_type": "markdown",
      "metadata": {
        "id": "7-jZzVtu29Uy",
        "colab_type": "text"
      },
      "source": [
        "<h3>Cópia e fatiamento de listas</h3>\n",
        "\n",
        "*Para criar uma cópia independente de uma lista, utiliza-se outra sintaxe. Ver o resultado das operações:*"
      ]
    },
    {
      "cell_type": "code",
      "metadata": {
        "id": "9xQXDJh528f4",
        "colab_type": "code",
        "outputId": "e1eccb4e-1cba-408c-a689-4c36eec42039",
        "colab": {
          "base_uri": "https://localhost:8080/",
          "height": 34
        }
      },
      "source": [
        "L = [1, 2, 3, 4, 5]\n",
        "V = L[:] #Ao escrever L[:], está se referindo a uma nova cópia de L.\n",
        "V[0] = 6\n",
        "L"
      ],
      "execution_count": 0,
      "outputs": [
        {
          "output_type": "execute_result",
          "data": {
            "text/plain": [
              "[1, 2, 3, 4, 5]"
            ]
          },
          "metadata": {
            "tags": []
          },
          "execution_count": 3
        }
      ]
    },
    {
      "cell_type": "code",
      "metadata": {
        "id": "SwACubBR3luG",
        "colab_type": "code",
        "outputId": "92c9c09c-aa7f-4ad7-bb6e-3937da602333",
        "colab": {
          "base_uri": "https://localhost:8080/",
          "height": 34
        }
      },
      "source": [
        "V"
      ],
      "execution_count": 0,
      "outputs": [
        {
          "output_type": "execute_result",
          "data": {
            "text/plain": [
              "[6, 2, 3, 4, 5]"
            ]
          },
          "metadata": {
            "tags": []
          },
          "execution_count": 23
        }
      ]
    },
    {
      "cell_type": "code",
      "metadata": {
        "id": "EMFX4wAt351a",
        "colab_type": "code",
        "outputId": "3fb2890c-6e74-4a5d-8bb1-6b93f0a258d6",
        "colab": {
          "base_uri": "https://localhost:8080/",
          "height": 34
        }
      },
      "source": [
        "L = [1, 2, 3, 4, 5]\n",
        "L[0:-1]"
      ],
      "execution_count": 0,
      "outputs": [
        {
          "output_type": "execute_result",
          "data": {
            "text/plain": [
              "[1, 2, 3, 4]"
            ]
          },
          "metadata": {
            "tags": []
          },
          "execution_count": 25
        }
      ]
    },
    {
      "cell_type": "code",
      "metadata": {
        "id": "sgAdqHR_4JtV",
        "colab_type": "code",
        "outputId": "00c6562f-4ec6-4693-ad4b-690e7c3f6dba",
        "colab": {
          "base_uri": "https://localhost:8080/",
          "height": 34
        }
      },
      "source": [
        "L[1:3]"
      ],
      "execution_count": 0,
      "outputs": [
        {
          "output_type": "execute_result",
          "data": {
            "text/plain": [
              "[2, 3]"
            ]
          },
          "metadata": {
            "tags": []
          },
          "execution_count": 26
        }
      ]
    },
    {
      "cell_type": "code",
      "metadata": {
        "id": "uCe2Nt1b4MXw",
        "colab_type": "code",
        "outputId": "f8a53838-ad86-4254-af11-04197471ca6b",
        "colab": {
          "base_uri": "https://localhost:8080/",
          "height": 34
        }
      },
      "source": [
        "L[1:4]"
      ],
      "execution_count": 0,
      "outputs": [
        {
          "output_type": "execute_result",
          "data": {
            "text/plain": [
              "[2, 3, 4]"
            ]
          },
          "metadata": {
            "tags": []
          },
          "execution_count": 27
        }
      ]
    },
    {
      "cell_type": "markdown",
      "metadata": {
        "id": "0GK5zLJdVOZW",
        "colab_type": "text"
      },
      "source": [
        "<hr>\n",
        "<hr>"
      ]
    },
    {
      "cell_type": "markdown",
      "metadata": {
        "id": "4amCbUTd4fP7",
        "colab_type": "text"
      },
      "source": [
        "<h3> Tamanho de listas </h3>"
      ]
    },
    {
      "cell_type": "code",
      "metadata": {
        "id": "D9xcvzRF5ldL",
        "colab_type": "code",
        "outputId": "24fad7f0-acb6-4070-efe1-4f07224c7247",
        "colab": {
          "base_uri": "https://localhost:8080/",
          "height": 33
        }
      },
      "source": [
        "L = [12, 9, 5]\n",
        "len(L)"
      ],
      "execution_count": 0,
      "outputs": [
        {
          "output_type": "execute_result",
          "data": {
            "text/plain": [
              "3"
            ]
          },
          "metadata": {
            "tags": []
          },
          "execution_count": 1
        }
      ]
    },
    {
      "cell_type": "code",
      "metadata": {
        "id": "uoCQEjHr5xb_",
        "colab_type": "code",
        "outputId": "4221bd1b-2de3-48c8-f6a4-a0f7765438cf",
        "colab": {
          "base_uri": "https://localhost:8080/",
          "height": 68
        }
      },
      "source": [
        "# Peograma 6.4 - Repetição com tamanho fixo da lista\n",
        "\n",
        "L = [1, 2, 3]\n",
        "x = 0\n",
        "while x < 3:\n",
        "  print(L[x])\n",
        "  x += 1"
      ],
      "execution_count": 0,
      "outputs": [
        {
          "output_type": "stream",
          "text": [
            "1\n",
            "2\n",
            "3\n"
          ],
          "name": "stdout"
        }
      ]
    },
    {
      "cell_type": "code",
      "metadata": {
        "id": "tgX_Pc1Z6Qhv",
        "colab_type": "code",
        "outputId": "853dee5e-ca60-4307-e746-0f2053f1dfbc",
        "colab": {
          "base_uri": "https://localhost:8080/",
          "height": 68
        }
      },
      "source": [
        "# Programa 6.5 - Repetição com tamanho da lista usando len\n",
        "\n",
        "L = [1, 2, 3]\n",
        "x = 0\n",
        "while x < len(L): # len retorna a quantidade de elementos na lista e os índices começam a ser numerados de O (zero). \n",
        "                  # Assim, os índices válidos de uma lista (L) variam de 0 até o valor de len(L) - 1. \n",
        "  print(L[x])\n",
        "  x += 1"
      ],
      "execution_count": 0,
      "outputs": [
        {
          "output_type": "stream",
          "text": [
            "1\n",
            "2\n",
            "3\n"
          ],
          "name": "stdout"
        }
      ]
    },
    {
      "cell_type": "markdown",
      "metadata": {
        "id": "quoze6dKVhcM",
        "colab_type": "text"
      },
      "source": [
        "<hr>\n",
        "<hr>"
      ]
    },
    {
      "cell_type": "markdown",
      "metadata": {
        "id": "0vSHRmFO8IJZ",
        "colab_type": "text"
      },
      "source": [
        "<h3> Adição de elementos <h3>\n",
        "\n",
        "\n",
        "*Uma das principais vantagens de se trabalhar com listas é poder adicionar novos elementos durante a execução do programa. Para adicionar um elemento ao fim da lista, utiliza-se o método **append**. Em Python, chama-se um método escrevendo o nome dele após o nome do objeto. Como listas são objetos, sendo\n",
        "L a lista, tem-se **L.append(valor_a_ser_adicionado)**.<br><br>\n",
        "→ Métodos são recursos de orientação a objetos, suportados e muito usados em Python. Pode-se imaginar um método como uma função do objeto. Quando invocado, ele já sabe a que objeto estamos nos referindo, pois o informamos à esquerda do ponto.*"
      ]
    },
    {
      "cell_type": "code",
      "metadata": {
        "id": "aEOtTQus8M4a",
        "colab_type": "code",
        "outputId": "4d671bb9-866b-4540-9605-c7197d036371",
        "colab": {
          "base_uri": "https://localhost:8080/",
          "height": 34
        }
      },
      "source": [
        "L = []\n",
        "L.append('a')\n",
        "L"
      ],
      "execution_count": 0,
      "outputs": [
        {
          "output_type": "execute_result",
          "data": {
            "text/plain": [
              "['a']"
            ]
          },
          "metadata": {
            "tags": []
          },
          "execution_count": 1
        }
      ]
    },
    {
      "cell_type": "code",
      "metadata": {
        "id": "3Go0lXm1_NuV",
        "colab_type": "code",
        "outputId": "06b657b7-f04c-4b82-da5e-a76aeabde117",
        "colab": {
          "base_uri": "https://localhost:8080/",
          "height": 34
        }
      },
      "source": [
        "L.append('b')\n",
        "L"
      ],
      "execution_count": 0,
      "outputs": [
        {
          "output_type": "execute_result",
          "data": {
            "text/plain": [
              "['a', 'b']"
            ]
          },
          "metadata": {
            "tags": []
          },
          "execution_count": 2
        }
      ]
    },
    {
      "cell_type": "code",
      "metadata": {
        "id": "d_n6qHqF_YaD",
        "colab_type": "code",
        "outputId": "4de202ed-654f-4039-deb5-3f289e6a9f47",
        "colab": {
          "base_uri": "https://localhost:8080/",
          "height": 34
        }
      },
      "source": [
        "L.append('c')\n",
        "L"
      ],
      "execution_count": 0,
      "outputs": [
        {
          "output_type": "execute_result",
          "data": {
            "text/plain": [
              "['a', 'b', 'c', 'c', 'c']"
            ]
          },
          "metadata": {
            "tags": []
          },
          "execution_count": 5
        }
      ]
    },
    {
      "cell_type": "code",
      "metadata": {
        "id": "Et85oi4Q_haW",
        "colab_type": "code",
        "outputId": "9c038c54-4479-4f6c-ba22-360598fbfcfc",
        "colab": {
          "base_uri": "https://localhost:8080/",
          "height": 34
        }
      },
      "source": [
        "len(L)"
      ],
      "execution_count": 0,
      "outputs": [
        {
          "output_type": "execute_result",
          "data": {
            "text/plain": [
              "5"
            ]
          },
          "metadata": {
            "tags": []
          },
          "execution_count": 6
        }
      ]
    },
    {
      "cell_type": "code",
      "metadata": {
        "id": "lD-H0ohl_lhA",
        "colab_type": "code",
        "outputId": "a5b636d4-7cc6-470a-964e-ee8ba0267439",
        "colab": {
          "base_uri": "https://localhost:8080/",
          "height": 216
        }
      },
      "source": [
        "# Programa 6.6 - Adição de elementos à lista\n",
        "\n",
        "L = []\n",
        "while True:\n",
        "  n = int(input('Digite um número (0 sai): '))\n",
        "  if n == 0:\n",
        "    print('Sair!')\n",
        "    break\n",
        "  L.append(n)\n",
        "x = 0\n",
        "while x < len(L):\n",
        "  print(L[x])\n",
        "  x += 1"
      ],
      "execution_count": 0,
      "outputs": [
        {
          "output_type": "stream",
          "text": [
            "Digite um número (0 sai): 1\n",
            "Digite um número (0 sai): 2\n",
            "Digite um número (0 sai): 3\n",
            "Digite um número (0 sai): 4\n",
            "Digite um número (0 sai): 5\n",
            "Digite um número (0 sai): 0\n",
            "Sair!\n",
            "1\n",
            "2\n",
            "3\n",
            "4\n",
            "5\n"
          ],
          "name": "stdout"
        }
      ]
    },
    {
      "cell_type": "code",
      "metadata": {
        "id": "3s-zyHq_BWoa",
        "colab_type": "code",
        "outputId": "c4315e4a-45f8-45d5-d466-78ed0754fc99",
        "colab": {
          "base_uri": "https://localhost:8080/",
          "height": 34
        }
      },
      "source": [
        "L = []\n",
        "L = L + [1]\n",
        "L"
      ],
      "execution_count": 0,
      "outputs": [
        {
          "output_type": "execute_result",
          "data": {
            "text/plain": [
              "[1]"
            ]
          },
          "metadata": {
            "tags": []
          },
          "execution_count": 9
        }
      ]
    },
    {
      "cell_type": "code",
      "metadata": {
        "id": "o7qJnAlCBgXM",
        "colab_type": "code",
        "outputId": "3cf51d7d-d5c7-45bc-a48b-e3306d6a4a63",
        "colab": {
          "base_uri": "https://localhost:8080/",
          "height": 34
        }
      },
      "source": [
        "L += [2]\n",
        "L"
      ],
      "execution_count": 0,
      "outputs": [
        {
          "output_type": "execute_result",
          "data": {
            "text/plain": [
              "[1, 2]"
            ]
          },
          "metadata": {
            "tags": []
          },
          "execution_count": 10
        }
      ]
    },
    {
      "cell_type": "code",
      "metadata": {
        "id": "bvh7YPGoBk5H",
        "colab_type": "code",
        "outputId": "e88e9078-fa42-4d74-9a11-021e6296d822",
        "colab": {
          "base_uri": "https://localhost:8080/",
          "height": 34
        }
      },
      "source": [
        "L += [3, 4, 5]\n",
        "L"
      ],
      "execution_count": 0,
      "outputs": [
        {
          "output_type": "execute_result",
          "data": {
            "text/plain": [
              "[1, 2, 3, 4, 5]"
            ]
          },
          "metadata": {
            "tags": []
          },
          "execution_count": 11
        }
      ]
    },
    {
      "cell_type": "markdown",
      "metadata": {
        "id": "r3cghwoxCbpO",
        "colab_type": "text"
      },
      "source": [
        "*Quando se adiciona apenas um elemento, tanto **L.append(1)** quanto **L + [1]** produzem o mesmo resultado. Perceba que em **L + [1]** escrevemos o elemento a adicionar dentro de uma lista **([1])**, e que, em **append**, apenas 1. Isso porque, quando se adiciona uma lista a outra, o interpretador executa um método chamado **extend**, que adiciona os elementos de uma lista a outra:*"
      ]
    },
    {
      "cell_type": "code",
      "metadata": {
        "id": "CO1Uot5wDCKX",
        "colab_type": "code",
        "outputId": "dd4b0464-8dfa-4bed-a704-c57e80d7f807",
        "colab": {
          "base_uri": "https://localhost:8080/",
          "height": 34
        }
      },
      "source": [
        "L = ['a']\n",
        "L.append('b')\n",
        "L"
      ],
      "execution_count": 0,
      "outputs": [
        {
          "output_type": "execute_result",
          "data": {
            "text/plain": [
              "['a', 'b']"
            ]
          },
          "metadata": {
            "tags": []
          },
          "execution_count": 12
        }
      ]
    },
    {
      "cell_type": "code",
      "metadata": {
        "id": "hWrlKWkeDKdR",
        "colab_type": "code",
        "outputId": "2533b6b3-9836-46d9-cd20-7e826a948a5a",
        "colab": {
          "base_uri": "https://localhost:8080/",
          "height": 34
        }
      },
      "source": [
        "L.extend(['c'])\n",
        "L"
      ],
      "execution_count": 0,
      "outputs": [
        {
          "output_type": "execute_result",
          "data": {
            "text/plain": [
              "['a', 'b', ['c'], 'c']"
            ]
          },
          "metadata": {
            "tags": []
          },
          "execution_count": 14
        }
      ]
    },
    {
      "cell_type": "code",
      "metadata": {
        "id": "3vxt3-AFHYd9",
        "colab_type": "code",
        "outputId": "819c7557-f961-4b13-e120-1156d58617fa",
        "colab": {
          "base_uri": "https://localhost:8080/",
          "height": 34
        }
      },
      "source": [
        "L.append(['d', 'e'])\n",
        "L"
      ],
      "execution_count": 0,
      "outputs": [
        {
          "output_type": "execute_result",
          "data": {
            "text/plain": [
              "['a', 'b', ['c'], 'c', ['d', 'e']]"
            ]
          },
          "metadata": {
            "tags": []
          },
          "execution_count": 15
        }
      ]
    },
    {
      "cell_type": "code",
      "metadata": {
        "id": "D3VvY3fyHfxW",
        "colab_type": "code",
        "outputId": "fa38576e-2622-401c-a23f-42915456513d",
        "colab": {
          "base_uri": "https://localhost:8080/",
          "height": 34
        }
      },
      "source": [
        "L.extend(['f', 'g', 'h'])\n",
        "L"
      ],
      "execution_count": 0,
      "outputs": [
        {
          "output_type": "execute_result",
          "data": {
            "text/plain": [
              "['a', 'b', ['c'], 'c', ['d', 'e'], 'f', 'g', 'h']"
            ]
          },
          "metadata": {
            "tags": []
          },
          "execution_count": 16
        }
      ]
    },
    {
      "cell_type": "markdown",
      "metadata": {
        "id": "1LVfOipTHxho",
        "colab_type": "text"
      },
      "source": [
        "*O método **extend** sequer aceita parâmetros que não sejam listas. Se utilizar o método **append** com uma lista como parâmetro, em vez de adicionar os elementos no fim da lista, **append** adicionará a lista inteira, mas como apenas um novo elemento. Teremos então listas dentro de listas:*"
      ]
    },
    {
      "cell_type": "code",
      "metadata": {
        "id": "0X6XMMpjJO2y",
        "colab_type": "code",
        "outputId": "882c3384-d037-45d1-9480-5e7f9fbf7f82",
        "colab": {
          "base_uri": "https://localhost:8080/",
          "height": 33
        }
      },
      "source": [
        "L = ['a']\n",
        "L.append(['b'])\n",
        "L.append(['c', 'd'])\n",
        "len(L)"
      ],
      "execution_count": 0,
      "outputs": [
        {
          "output_type": "execute_result",
          "data": {
            "text/plain": [
              "3"
            ]
          },
          "metadata": {
            "tags": []
          },
          "execution_count": 2
        }
      ]
    },
    {
      "cell_type": "code",
      "metadata": {
        "id": "TJ2XLn4FLg8L",
        "colab_type": "code",
        "outputId": "5ae853d5-1544-4c8a-b41e-68935213bd19",
        "colab": {
          "base_uri": "https://localhost:8080/",
          "height": 34
        }
      },
      "source": [
        "L[1]"
      ],
      "execution_count": 0,
      "outputs": [
        {
          "output_type": "execute_result",
          "data": {
            "text/plain": [
              "['b']"
            ]
          },
          "metadata": {
            "tags": []
          },
          "execution_count": 18
        }
      ]
    },
    {
      "cell_type": "code",
      "metadata": {
        "id": "eol-xHrrLjUh",
        "colab_type": "code",
        "outputId": "d3f3f16c-72e0-4976-954a-62eef9ea4ee4",
        "colab": {
          "base_uri": "https://localhost:8080/",
          "height": 34
        }
      },
      "source": [
        "L[2]"
      ],
      "execution_count": 0,
      "outputs": [
        {
          "output_type": "execute_result",
          "data": {
            "text/plain": [
              "['c', 'd']"
            ]
          },
          "metadata": {
            "tags": []
          },
          "execution_count": 19
        }
      ]
    },
    {
      "cell_type": "code",
      "metadata": {
        "id": "4od4BprJLlCZ",
        "colab_type": "code",
        "outputId": "4d1850bf-7d1f-4ca0-9b87-43fe65de142f",
        "colab": {
          "base_uri": "https://localhost:8080/",
          "height": 34
        }
      },
      "source": [
        "len(L[2])"
      ],
      "execution_count": 0,
      "outputs": [
        {
          "output_type": "execute_result",
          "data": {
            "text/plain": [
              "2"
            ]
          },
          "metadata": {
            "tags": []
          },
          "execution_count": 20
        }
      ]
    },
    {
      "cell_type": "code",
      "metadata": {
        "id": "-fVEzjujLux1",
        "colab_type": "code",
        "outputId": "9a44c70d-972a-437f-ce72-bb2afb9bd582",
        "colab": {
          "base_uri": "https://localhost:8080/",
          "height": 34
        }
      },
      "source": [
        "L[2][0]"
      ],
      "execution_count": 0,
      "outputs": [
        {
          "output_type": "execute_result",
          "data": {
            "text/plain": [
              "'c'"
            ]
          },
          "metadata": {
            "tags": []
          },
          "execution_count": 22
        }
      ]
    },
    {
      "cell_type": "markdown",
      "metadata": {
        "id": "jsA3HPQ0_11t",
        "colab_type": "text"
      },
      "source": [
        "***.incert(0)***"
      ]
    },
    {
      "cell_type": "code",
      "metadata": {
        "id": "ZBAX6FB2_8F-",
        "colab_type": "code",
        "colab": {}
      },
      "source": [
        ""
      ],
      "execution_count": 0,
      "outputs": []
    },
    {
      "cell_type": "markdown",
      "metadata": {
        "id": "8GTIUwrtAs0X",
        "colab_type": "text"
      },
      "source": [
        "***Apagar***"
      ]
    },
    {
      "cell_type": "code",
      "metadata": {
        "id": "ZQDvHKPKA1Jc",
        "colab_type": "code",
        "outputId": "3d29bd6c-26e0-4f36-bc2c-f778e405f5b0",
        "colab": {
          "base_uri": "https://localhost:8080/",
          "height": 33
        }
      },
      "source": [
        "del L[2]\n",
        "L"
      ],
      "execution_count": 0,
      "outputs": [
        {
          "output_type": "execute_result",
          "data": {
            "text/plain": [
              "['a', ['b']]"
            ]
          },
          "metadata": {
            "tags": []
          },
          "execution_count": 4
        }
      ]
    },
    {
      "cell_type": "code",
      "metadata": {
        "id": "ccx0FoQBA_Dh",
        "colab_type": "code",
        "outputId": "cb95c200-23be-43da-c486-41d60ba137d3",
        "colab": {
          "base_uri": "https://localhost:8080/",
          "height": 33
        }
      },
      "source": [
        "L.pop(0)\n",
        "L"
      ],
      "execution_count": 0,
      "outputs": [
        {
          "output_type": "execute_result",
          "data": {
            "text/plain": [
              "[['b']]"
            ]
          },
          "metadata": {
            "tags": []
          },
          "execution_count": 6
        }
      ]
    },
    {
      "cell_type": "code",
      "metadata": {
        "id": "34Sb36LSBbg6",
        "colab_type": "code",
        "outputId": "18730104-b34b-4a06-d09a-25016817c3b0",
        "colab": {
          "base_uri": "https://localhost:8080/",
          "height": 33
        }
      },
      "source": [
        "L.remove(['b'])\n",
        "L"
      ],
      "execution_count": 0,
      "outputs": [
        {
          "output_type": "execute_result",
          "data": {
            "text/plain": [
              "[]"
            ]
          },
          "metadata": {
            "tags": []
          },
          "execution_count": 8
        }
      ]
    },
    {
      "cell_type": "markdown",
      "metadata": {
        "id": "tEVNv8woL8v4",
        "colab_type": "text"
      },
      "source": [
        "<h1> Exercícios - Introdução à programação com Python - Adição de elementos <h1>"
      ]
    },
    {
      "cell_type": "code",
      "metadata": {
        "id": "ZiWQ7q-ML7NT",
        "colab_type": "code",
        "outputId": "a111e9b7-0bc1-4f82-f80c-2a138f6f653f",
        "colab": {
          "base_uri": "https://localhost:8080/",
          "height": 34
        }
      },
      "source": [
        "# Exercício 6.2\n",
        "\n",
        "L1 = [1, 2, 3]\n",
        "L2 = [4, 5, 6]\n",
        "\n",
        "print(L1 + L2)"
      ],
      "execution_count": 0,
      "outputs": [
        {
          "output_type": "stream",
          "text": [
            "[1, 2, 3, 4, 5, 6]\n"
          ],
          "name": "stdout"
        }
      ]
    },
    {
      "cell_type": "code",
      "metadata": {
        "id": "AuGVH9PANoJh",
        "colab_type": "code",
        "outputId": "14986b9d-92be-4e5f-89de-27127e418e63",
        "colab": {
          "base_uri": "https://localhost:8080/",
          "height": 33
        }
      },
      "source": [
        "# Exercício 6.3\n",
        "\n",
        "L1 = [1, 2, 3]\n",
        "L2 = [3, 4, 5]\n",
        "L3 = []\n",
        "\n",
        "for x in range(0, len(L2)):\n",
        "  if L1[x] == L2[x]:\n",
        "    print(f'O número {L1[x]} na posição {x} é repetido!')\n",
        "    del L2[x]\n",
        "    L3.append(L1(x)).append(L2(x))\n",
        "\n",
        "print('Os valores na lista são:', L3)"
      ],
      "execution_count": 0,
      "outputs": [
        {
          "output_type": "stream",
          "text": [
            "Os valores na lista são: []\n"
          ],
          "name": "stdout"
        }
      ]
    },
    {
      "cell_type": "markdown",
      "metadata": {
        "id": "r1bLUHReYVFX",
        "colab_type": "text"
      },
      "source": [
        "<hr>\n",
        "<hr>"
      ]
    },
    {
      "cell_type": "markdown",
      "metadata": {
        "id": "ETQ8z49T-E85",
        "colab_type": "text"
      },
      "source": [
        "<h3>Remoção de elementos da lista<h3>\n",
        "\n",
        "*Pode-se retirar alguns elementos da lista, ou mesmo todos eles. Para\n",
        "isso, utiliza-se a instrução **del**:*"
      ]
    },
    {
      "cell_type": "code",
      "metadata": {
        "id": "4Omo-AAe-MIq",
        "colab_type": "code",
        "outputId": "7d5eb5c4-8bba-4eed-899f-776e0426feee",
        "colab": {
          "base_uri": "https://localhost:8080/",
          "height": 33
        }
      },
      "source": [
        "L = ['a', 'b', 'c']\n",
        "del L[1]\n",
        "L"
      ],
      "execution_count": 0,
      "outputs": [
        {
          "output_type": "execute_result",
          "data": {
            "text/plain": [
              "['a', 'c']"
            ]
          },
          "metadata": {
            "tags": []
          },
          "execution_count": 2
        }
      ]
    },
    {
      "cell_type": "code",
      "metadata": {
        "id": "ZmMb00kW-4GF",
        "colab_type": "code",
        "outputId": "f7a411fd-ef20-47ac-a80f-b86c5ee518a1",
        "colab": {
          "base_uri": "https://localhost:8080/",
          "height": 33
        }
      },
      "source": [
        "del L[0]\n",
        "L"
      ],
      "execution_count": 0,
      "outputs": [
        {
          "output_type": "execute_result",
          "data": {
            "text/plain": [
              "['c']"
            ]
          },
          "metadata": {
            "tags": []
          },
          "execution_count": 3
        }
      ]
    },
    {
      "cell_type": "markdown",
      "metadata": {
        "id": "5nzEcA_9-_1j",
        "colab_type": "text"
      },
      "source": [
        "*Pode-se também apagar fatias inteiras de uma só vez:*"
      ]
    },
    {
      "cell_type": "code",
      "metadata": {
        "id": "ZgK3xAot-_ff",
        "colab_type": "code",
        "outputId": "4d16b9a6-900c-4564-af48-928acc7bdc98",
        "colab": {
          "base_uri": "https://localhost:8080/",
          "height": 33
        }
      },
      "source": [
        "L = list(range(101))\n",
        "del L[1:99]\n",
        "L"
      ],
      "execution_count": 0,
      "outputs": [
        {
          "output_type": "execute_result",
          "data": {
            "text/plain": [
              "[0, 99, 100]"
            ]
          },
          "metadata": {
            "tags": []
          },
          "execution_count": 4
        }
      ]
    },
    {
      "cell_type": "markdown",
      "metadata": {
        "id": "YxcfaFC7BVDs",
        "colab_type": "text"
      },
      "source": [
        "***range*** → *Gera uma sequência de elementos, mas um a cada chamada, \"generator\".*<br>\n",
        "***list*** → *Transforma o resultado da função em lista*"
      ]
    },
    {
      "cell_type": "markdown",
      "metadata": {
        "id": "3t6ZGyAhYc9G",
        "colab_type": "text"
      },
      "source": [
        "<hr>\n",
        "<hr>\n"
      ]
    },
    {
      "cell_type": "markdown",
      "metadata": {
        "id": "07XwE0GoHCLo",
        "colab_type": "text"
      },
      "source": [
        "<h3>Usando listas com filas</h3>\n",
        "\n",
        "*Em uma fila, a inclusão é sempre realizada no fim, e as remoções são feitas no início.* ***FIFO - First In First Out***<br>\n",
        "*Para inserir um elemento à lista usa-se o método <code>(fila.***append***(último))</code>. Dessa forma esse elemento será adicionado ao final da lista. Já o primeiro precisa ser retirado, o que pode ser feito com o método <code>***del*** fila[0]</code>, porém ao fazer isso o elemento seria apagado. Para retirá-lo da fila sem apagá-lo, ou seja, obtê-lo, usa-se o método <code>fila.***pop***(0)</code>* <br>\n",
        "\n"
      ]
    },
    {
      "cell_type": "code",
      "metadata": {
        "id": "sh93LtM4Nmid",
        "colab_type": "code",
        "outputId": "b10956be-be00-4451-9ce6-24ff9ec77be1",
        "colab": {
          "base_uri": "https://localhost:8080/",
          "height": 116
        }
      },
      "source": [
        "# Programa 6.7 - Simulção de uma fila de banco\n",
        "\n",
        "ultimo = 10\n",
        "fila = list(range(1, ultimo + 1))\n",
        "\n",
        "while True:\n",
        "  print(f'\\nExistem {len(fila)} clientes na fila')\n",
        "  print(f'Fila atual: {fila}')\n",
        "  print('Digite F para adicionar um cliente a fila')\n",
        "  print('Ou A para realizar o atendimento. S para sair.')\n",
        "  operacao = input('Operação (F, A ou S): ').strip().upper()[0]\n",
        "  if operacao == 'A':\n",
        "    if len(fila) > 0:\n",
        "      atendido = fila.pop(0)\n",
        "      print(f'Cliente {atendido} atendido')\n",
        "    else:\n",
        "      print('Não há mais quem atender')\n",
        "  elif operacao == 'F':\n",
        "    ultimo += 1 # Incrementa o ticket do novo cliente\n",
        "    fila.append(ultimo)\n",
        "  elif operacao == 'S':\n",
        "    break\n",
        "  else:\n",
        "    print('Operacao inválida! Digite apenas F, A ou S!')"
      ],
      "execution_count": 0,
      "outputs": [
        {
          "output_type": "stream",
          "text": [
            "\n",
            "Existem 10 clientes na fila\n",
            "Fila atual: [1, 2, 3, 4, 5, 6, 7, 8, 9, 10]\n",
            "Digite F para adicionar um cliente a fila\n",
            "Ou A para realizar o atendimento. S para sair.\n",
            "Operação (F, A ou S): s\n"
          ],
          "name": "stdout"
        }
      ]
    },
    {
      "cell_type": "markdown",
      "metadata": {
        "id": "TC4bmD1EjhDM",
        "colab_type": "text"
      },
      "source": [
        "<h1>Exercícios - Introdução à programação com Python - Adição de elementos</h1>"
      ]
    },
    {
      "cell_type": "code",
      "metadata": {
        "id": "tUiL5wfjjiMC",
        "colab_type": "code",
        "colab": {}
      },
      "source": [
        "# Exercício 6.4\n",
        "\n",
        "ultimo = 10\n",
        "fila = list(range(1, ultimo + 1))\n",
        "\n",
        "while True:\n",
        "  print(f'\\nExistem {len(fila)} clientes na fila')\n",
        "  print(f'Fila atual: {fila}')\n",
        "  print('Digite F para adicionar um cliente a fila')\n",
        "  print('Ou A para realizar o atendimento. S para sair.')\n",
        "  operacao = input('Operação (F, A ou S): ').strip().upper()[0]\n",
        "  if operacao == 'A':\n",
        "    atendido = fila.pop(0)\n",
        "    print(f'Cliente {atendido} atendido')\n",
        "  elif operacao == 'F':\n",
        "    ultimo += 1 # Incrementa o ticket do novo cliente\n",
        "    fila.append(ultimo)\n",
        "  elif operacao == 'S':\n",
        "    break\n",
        "  else:\n",
        "    print('Operacao inválida! Digite apenas F, A ou S!')\n",
        "\n",
        "## IndexError: pop from empty list"
      ],
      "execution_count": 0,
      "outputs": []
    },
    {
      "cell_type": "code",
      "metadata": {
        "id": "lL_UYE0mkgsN",
        "colab_type": "code",
        "outputId": "5faf796f-0a7b-4bef-fced-390b5a6610ab",
        "colab": {
          "base_uri": "https://localhost:8080/",
          "height": 116
        }
      },
      "source": [
        "# Exercício 6.5\n",
        "\n",
        "parar = 0\n",
        "ultimo = 10\n",
        "fila = list(range(1, ultimo + 1))\n",
        "\n",
        "while True:\n",
        "  print(f'\\nExistem {len(fila)} clientes na fila')\n",
        "  print(f'Fila atual: {fila}')\n",
        "  print('Digite F para adicionar um cliente a fila')\n",
        "  print('Ou A para realizar o atendimento. S para sair.')\n",
        "  operacao = list(input('Operação (F, A ou S): '))\n",
        "\n",
        "  while len(operacao) > 0:\n",
        "    if operacao[0] == 'A':\n",
        "      if len(fila) > 0:\n",
        "        atendido = fila.pop(0)\n",
        "        print(f'Cliente {atendido} atendido')\n",
        "      else:\n",
        "        print('Não há mais quem atender')\n",
        "    elif operacao[0] == 'F':\n",
        "      ultimo += 1 # Incrementa o ticket do novo cliente\n",
        "      fila.append(ultimo)\n",
        "    elif operacao[0] == 'S':\n",
        "      parar = 1\n",
        "      break\n",
        "    else:\n",
        "      print('Operacao inválida! Digite apenas F, A ou S!')\n",
        "    del operacao[0]\n",
        "\n",
        "  if parar == 1:\n",
        "    break"
      ],
      "execution_count": 0,
      "outputs": [
        {
          "output_type": "stream",
          "text": [
            "\n",
            "Existem 10 clientes na fila\n",
            "Fila atual: [1, 2, 3, 4, 5, 6, 7, 8, 9, 10]\n",
            "Digite F para adicionar um cliente a fila\n",
            "Ou A para realizar o atendimento. S para sair.\n",
            "Operação (F, A ou S): S\n"
          ],
          "name": "stdout"
        }
      ]
    },
    {
      "cell_type": "code",
      "metadata": {
        "id": "03Yg2AEbxfw9",
        "colab_type": "code",
        "outputId": "bc860239-be5c-469e-be43-3c3bfe8a7c89",
        "colab": {
          "base_uri": "https://localhost:8080/",
          "height": 416
        }
      },
      "source": [
        "# Exercício 6.6\n",
        "\n",
        "parar = 0\n",
        "ultimo1 = 10\n",
        "ultimo2 = 10\n",
        "fila1 = list(range(1, ultimo1 + 1))\n",
        "fila2 = list(range(1, ultimo2 + 1))\n",
        "\n",
        "while True:\n",
        "  print(f'\\nExistem {len(fila1)} clientes na fila 1')\n",
        "  print(f'Existem {len(fila2)} clientes na fila 2')\n",
        "\n",
        "  print(f'Fila atual: {fila1}')\n",
        "  print(f'Fila atual: {fila2}')\n",
        "\n",
        "  print('Digite F para adicionar um cliente a fila 1')\n",
        "  print('Digite G para adicionar um cliente a fila 2')\n",
        "\n",
        "  print('Ou A para realizar o atendimento na fila 1.')\n",
        "  print('Ou B para realizar o atendimento na fila 2. S para sair.')\n",
        "\n",
        "  operacao = list(input('Operação (F, G, A, B ou S): '))\n",
        "\n",
        "  while len(operacao) > 0:\n",
        "    if operacao[0] == 'A':\n",
        "      if len(fila1) > 0:\n",
        "        atendido1 = fila1.pop(0)\n",
        "        print(f'Cliente {atendido1} atendido1')\n",
        "      else:\n",
        "        print('Não há mais quem atender da fila 1')\n",
        "    elif operacao[0] == 'B':\n",
        "      if len(fila2) > 0:\n",
        "        atendido2 = fila2.pop(0)\n",
        "        print(f'Cliente {atendido2} atendido2')\n",
        "      else:\n",
        "        print('Não há mais quem atender da fila 2')\n",
        "\n",
        "    elif operacao[0] == 'F':\n",
        "      ultimo1 += 1 # Incrementa o ticket do novo cliente\n",
        "      fila1.append(ultimo1)\n",
        "    elif operacao[0] == 'G':\n",
        "      ultimo2 += 1 # Incrementa o ticket do novo cliente\n",
        "      fila2.append(ultimo2)\n",
        "\n",
        "    elif operacao[0] == 'S':\n",
        "      parar = 1\n",
        "      break\n",
        "    else:\n",
        "      print('Operacao inválida! Digite apenas F, G, A, B ou S!')\n",
        "      print(operacao[0])\n",
        "    del operacao[0]\n",
        "\n",
        "  if parar == 1:\n",
        "    break"
      ],
      "execution_count": 0,
      "outputs": [
        {
          "output_type": "stream",
          "text": [
            "\n",
            "Existem 10 clientes na fila 1\n",
            "Existem 10 clientes na fila 2\n",
            "Fila atual: [1, 2, 3, 4, 5, 6, 7, 8, 9, 10]\n",
            "Fila atual: [1, 2, 3, 4, 5, 6, 7, 8, 9, 10]\n",
            "Digite F para adicionar um cliente a fila 1\n",
            "Digite G para adicionar um cliente a fila 2\n",
            "Ou A para realizar o atendimento na fila 1.\n",
            "Ou B para realizar o atendimento na fila 2. S para sair.\n",
            "Operação (F, G, A, B ou S): FFGGAABB\n",
            "Cliente 1 atendido1\n",
            "Cliente 2 atendido1\n",
            "Cliente 1 atendido2\n",
            "Cliente 2 atendido2\n",
            "\n",
            "Existem 10 clientes na fila 1\n",
            "Existem 10 clientes na fila 2\n",
            "Fila atual: [3, 4, 5, 6, 7, 8, 9, 10, 11, 12]\n",
            "Fila atual: [3, 4, 5, 6, 7, 8, 9, 10, 11, 12]\n",
            "Digite F para adicionar um cliente a fila 1\n",
            "Digite G para adicionar um cliente a fila 2\n",
            "Ou A para realizar o atendimento na fila 1.\n",
            "Ou B para realizar o atendimento na fila 2. S para sair.\n",
            "Operação (F, G, A, B ou S): S\n"
          ],
          "name": "stdout"
        }
      ]
    },
    {
      "cell_type": "markdown",
      "metadata": {
        "id": "K1QBWz52Ytp9",
        "colab_type": "text"
      },
      "source": [
        "<hr>\n",
        "<hr>\n"
      ]
    },
    {
      "cell_type": "markdown",
      "metadata": {
        "id": "yqzi1tnucPP7",
        "colab_type": "text"
      },
      "source": [
        "<h3>Usando listas como pilhas</h3>\n",
        "\n",
        "*Novos elementos são adicionados ao topo, a retirada de elementos também é feita pelo topo, como uma pilha de pratos. Ou seja, o elemento que for adicionado por último, será o primeiro a ser retirado.* ***LIFO - Last in First Out***."
      ]
    },
    {
      "cell_type": "code",
      "metadata": {
        "id": "dedLAme-cOq2",
        "colab_type": "code",
        "outputId": "7b690450-6a47-4624-e47c-d1241aceed49",
        "colab": {
          "base_uri": "https://localhost:8080/",
          "height": 333
        }
      },
      "source": [
        "# Programa 6.8 - Pilha de pratos\n",
        "\n",
        "prato = 5\n",
        "pilha = list(range(1, prato + 1))\n",
        "\n",
        "while True:\n",
        "  print(f'\\nExistem {len(pilha)} pratos na pilha')\n",
        "  print(f'Pilha atual: {pilha}')\n",
        "  print('Digite E para empilhar um novo prato,')\n",
        "  print('ou D para desempilhar. S para sair.')\n",
        "  operacao = input('Operação (E, D ou S): ')\n",
        "  if operacao == 'D':\n",
        "    if len(pilha) > 0:\n",
        "      lavado = pilha.pop(-1)\n",
        "      print(f'Prato {lavado} lavado')\n",
        "    else:\n",
        "      print('Pilha vazia! Nada para lavar')\n",
        "  elif operacao == 'E':\n",
        "    prato += 1 # Novo prato\n",
        "    pilha.append(prato)\n",
        "  elif operacao == 'S':\n",
        "    break\n",
        "  else:\n",
        "    print('Operação inválida! Digite apenas E, D ou S!')"
      ],
      "execution_count": 0,
      "outputs": [
        {
          "output_type": "stream",
          "text": [
            "\n",
            "Existem 5 pratos na pilha\n",
            "Pilha atual: [1, 2, 3, 4, 5]\n",
            "Digite E para empilhar um novo prato,\n",
            "ou D para desempilhar. S para sair.\n",
            "Operação (E, D ou S): E\n",
            "\n",
            "Existem 6 pratos na pilha\n",
            "Pilha atual: [1, 2, 3, 4, 5, 6]\n",
            "Digite E para empilhar um novo prato,\n",
            "ou D para desempilhar. S para sair.\n",
            "Operação (E, D ou S): D\n",
            "Prato 6 lavado\n",
            "\n",
            "Existem 5 pratos na pilha\n",
            "Pilha atual: [1, 2, 3, 4, 5]\n",
            "Digite E para empilhar um novo prato,\n",
            "ou D para desempilhar. S para sair.\n",
            "Operação (E, D ou S): S\n"
          ],
          "name": "stdout"
        }
      ]
    },
    {
      "cell_type": "markdown",
      "metadata": {
        "id": "FBU3AgeOibAi",
        "colab_type": "text"
      },
      "source": [
        "<h1>Exercícios - Introdução à programação com Python - Usando listas como pilhas</h1>"
      ]
    },
    {
      "cell_type": "code",
      "metadata": {
        "id": "hFYeMEggiiYH",
        "colab_type": "code",
        "colab": {}
      },
      "source": [
        "# Exercício 6.7\n",
        "\n",
        "expr = input('Informe a expressão: ')\n",
        "pilha = list()\n",
        "\n",
        "for x in expr:\n",
        "  if x == '(':\n",
        "    pilha.append('(')\n",
        "  elif x == ')':\n",
        "    if len(pilha) > 0:\n",
        "      pilha.pop()\n",
        "    else:\n",
        "      pilha.append(')')\n",
        "      break\n",
        "\n",
        "if len(pilha) == 0:\n",
        "  print('Expressão válida')\n",
        "else:\n",
        "  print('Falhou')"
      ],
      "execution_count": 0,
      "outputs": []
    },
    {
      "cell_type": "markdown",
      "metadata": {
        "id": "ZrC7HALoY9oH",
        "colab_type": "text"
      },
      "source": [
        "<hr>\n",
        "<hr>\n"
      ]
    },
    {
      "cell_type": "markdown",
      "metadata": {
        "id": "LqZ0blP-kQrP",
        "colab_type": "text"
      },
      "source": [
        "<h3> Pesquisa </h3:"
      ]
    },
    {
      "cell_type": "code",
      "metadata": {
        "id": "CwTJ1A_wkQBe",
        "colab_type": "code",
        "outputId": "ee1898ca-20b2-46d1-990c-6b2dcd3c0ae2",
        "colab": {
          "base_uri": "https://localhost:8080/",
          "height": 50
        }
      },
      "source": [
        "# Programa 6.9 - Pesquisa sequêncial\n",
        "\n",
        "L = [15, 7, 27, 39]\n",
        "p = int(input('Digite o valor a procurar: '))\n",
        "achou = False\n",
        "x = 0\n",
        "\n",
        "while x < len(L):\n",
        "  if L[x] == p:\n",
        "    achou = True\n",
        "    break\n",
        "  x += 1\n",
        "if achou:\n",
        "  print(f'{p} achado na posição {x}')\n",
        "else:\n",
        "  print(f'{p} não encontrado')"
      ],
      "execution_count": 0,
      "outputs": [
        {
          "output_type": "stream",
          "text": [
            "Digite o valor a procurar: 4\n",
            "4 não encontrado\n"
          ],
          "name": "stdout"
        }
      ]
    },
    {
      "cell_type": "markdown",
      "metadata": {
        "id": "sSI2jLcBuk22",
        "colab_type": "text"
      },
      "source": [
        "<h3>Exercícios"
      ]
    },
    {
      "cell_type": "code",
      "metadata": {
        "id": "6Do6w9O-uxwk",
        "colab_type": "code",
        "outputId": "7dc981e9-324e-459d-ad35-671b783f6065",
        "colab": {
          "base_uri": "https://localhost:8080/",
          "height": 50
        }
      },
      "source": [
        "# Exercício 6.8\n",
        "\n",
        "L = [15, 7, 27, 39]\n",
        "p = int(input('Digite o valor a procurar: '))\n",
        "x = 0\n",
        "\n",
        "while x < len(L):\n",
        "  if L[x] == p:\n",
        "    print(f'{p} achado na posição {x}')\n",
        "    break\n",
        "  x += 1\n",
        "\n",
        "if p not in L:\n",
        "  print(f'{p} não encontrado')\n",
        "  "
      ],
      "execution_count": 0,
      "outputs": [
        {
          "output_type": "stream",
          "text": [
            "Digite o valor a procurar: 20\n",
            "20 não encontrado\n"
          ],
          "name": "stdout"
        }
      ]
    },
    {
      "cell_type": "code",
      "metadata": {
        "id": "5Hf7kOe1wHEA",
        "colab_type": "code",
        "outputId": "cafe8155-948a-483a-c47a-2ae912a241e9",
        "colab": {
          "base_uri": "https://localhost:8080/",
          "height": 83
        }
      },
      "source": [
        "# Exercício 6.9 e 6.10\n",
        "\n",
        "L = [15, 7, 27, 34, 16, 13, 23]\n",
        "p = int(input('Digite o primeiro valor a procurar: '))\n",
        "mensag1 = 'Quem foi encontrado primeiro foi o valor de p'\n",
        "v = int(input('Digite o segundo valor a procurar: '))\n",
        "mensag2 = 'Quem foi encontrado primeiro foi o valor de v'\n",
        "x = 0\n",
        "pirmeiro = 0\n",
        "\n",
        "while x < len(L):\n",
        "  if L[x] == p:\n",
        "    print(f'{p} achado na posição {x} da lista p')\n",
        "    print(mensag1)\n",
        "    del mensag2\n",
        "  elif L[x] == v:\n",
        "    print(f'{v} achado na posição {x} da lista v')\n",
        "    print(mensag2)\n",
        "    del mensag1\n",
        "  x += 1"
      ],
      "execution_count": 0,
      "outputs": [
        {
          "output_type": "stream",
          "text": [
            "Digite o primeiro valor a procurar: 12\n",
            "Digite o segundo valor a procurar: 13\n",
            "13 achado na posição 5 da lista v\n",
            "Quem foi encontrado primeiro foi o valor de v\n"
          ],
          "name": "stdout"
        }
      ]
    },
    {
      "cell_type": "markdown",
      "metadata": {
        "id": "dL22o3cU3R8p",
        "colab_type": "text"
      },
      "source": [
        "<hr><hr>"
      ]
    },
    {
      "cell_type": "markdown",
      "metadata": {
        "id": "-f1D1-2edxYv",
        "colab_type": "text"
      },
      "source": [
        "# *for*\n",
        "<hr>\n",
        "\n",
        "→ *Estrutura de repetição especialmente projetada para percorrer listas.*\n",
        "\n",
        "*A instrução <code>for</code> funciona de forma parecida a <code>while</code>, mas a cada repetição utiliza um elemento diferente da lista.*"
      ]
    },
    {
      "cell_type": "code",
      "metadata": {
        "id": "15556kUxhd_f",
        "colab_type": "code",
        "outputId": "7f07b752-bf4d-4508-9e26-af5397333f74",
        "colab": {
          "base_uri": "https://localhost:8080/",
          "height": 68
        }
      },
      "source": [
        "L = [8, 9, 15]\n",
        "\n",
        "for e in L: #Quando começa a executar o **for** aqui, tem-se *e* igual ao primeiro elemento da lista...\n",
        "            #... no caso, 8, ou seja, L[0]. \n",
        "  print(e) #Aqui imprime-se 8, e a execução do programa volta para a linha anterior em que e passa a valer 9, ou seja, L[l].\n",
        "           #Na próxima repetição *e* valerá 15, ou seja, L[2].\n",
        "#  Depois de imprimir o último número, a repetição é concluída, pois não tem-se mais elementos a substituir. "
      ],
      "execution_count": 0,
      "outputs": [
        {
          "output_type": "stream",
          "text": [
            "8\n",
            "9\n",
            "15\n"
          ],
          "name": "stdout"
        }
      ]
    },
    {
      "cell_type": "code",
      "metadata": {
        "id": "FETz7N5iqSbP",
        "colab_type": "code",
        "outputId": "b3643ead-f26b-4eb6-9b6e-9870320d0f4a",
        "colab": {
          "base_uri": "https://localhost:8080/",
          "height": 66
        }
      },
      "source": [
        "L = [8, 9, 11]\n",
        "x = 0\n",
        "\n",
        "while x < len(L):\n",
        "  print(L[x])\n",
        "  x += 1"
      ],
      "execution_count": 0,
      "outputs": [
        {
          "output_type": "stream",
          "text": [
            "8\n",
            "9\n",
            "11\n"
          ],
          "name": "stdout"
        }
      ]
    },
    {
      "cell_type": "code",
      "metadata": {
        "id": "zTsvdgIxsweq",
        "colab_type": "code",
        "colab": {}
      },
      "source": [
        "L = [7, 9, 10, 12]\n",
        "p = int(input('Digite um número a pesquisar: '))\n",
        "for e in L:\n",
        "  if e == p:\n",
        "    print('Elemento encontrado!')\n",
        "    break\n",
        "else:\n",
        "  print('Elemento não encontrado.')"
      ],
      "execution_count": 0,
      "outputs": []
    },
    {
      "cell_type": "code",
      "metadata": {
        "id": "A2om6k6OeQqv",
        "colab_type": "code",
        "outputId": "eb6db58e-2227-4e21-ccce-04cf12e6068c",
        "colab": {
          "base_uri": "https://localhost:8080/",
          "height": 136
        }
      },
      "source": [
        "for c in range(0, 6):\n",
        "  print('Oi')\n",
        "print('Fim')"
      ],
      "execution_count": 0,
      "outputs": [
        {
          "output_type": "stream",
          "text": [
            "Oi\n",
            "Oi\n",
            "Oi\n",
            "Oi\n",
            "Oi\n",
            "Oi\n",
            "Fim\n"
          ],
          "name": "stdout"
        }
      ]
    },
    {
      "cell_type": "code",
      "metadata": {
        "id": "C4xLHnGnfLUS",
        "colab_type": "code",
        "outputId": "c98736d5-2f07-4f8e-ee9c-6fba53a34424",
        "colab": {
          "base_uri": "https://localhost:8080/",
          "height": 136
        }
      },
      "source": [
        "for c in range(6, 0, -1):\n",
        "  print(c)\n",
        "print('Fim')"
      ],
      "execution_count": 0,
      "outputs": [
        {
          "output_type": "stream",
          "text": [
            "6\n",
            "5\n",
            "4\n",
            "3\n",
            "2\n",
            "1\n",
            "Fim\n"
          ],
          "name": "stdout"
        }
      ]
    },
    {
      "cell_type": "code",
      "metadata": {
        "id": "vPtocqDtedOE",
        "colab_type": "code",
        "outputId": "21237f83-af25-4362-a148-bb0ee2e413a2",
        "colab": {
          "base_uri": "https://localhost:8080/",
          "height": 238
        }
      },
      "source": [
        "i = int(input('Início: '))\n",
        "f = int(input('Fim: '))\n",
        "p = int(input('Passo: '))\n",
        "for c in range(i, f+1, p):\n",
        "  print (c)\n",
        "print(f'O primeiro número foi {i}, o fim foi {f} e o passo foi {p}')\n",
        "print('Fim')"
      ],
      "execution_count": 0,
      "outputs": [
        {
          "output_type": "stream",
          "text": [
            "Início: 1\n",
            "Fim: 200\n",
            "Passo: 25\n",
            "1\n",
            "26\n",
            "51\n",
            "76\n",
            "101\n",
            "126\n",
            "151\n",
            "176\n",
            "O primeiro número foi 1, o fim foi 200 e o passo foi 25\n",
            "Fim\n"
          ],
          "name": "stdout"
        }
      ]
    },
    {
      "cell_type": "code",
      "metadata": {
        "id": "K71itZO93dO2",
        "colab_type": "code",
        "outputId": "9a966a6b-b72f-44b1-a7b6-0c25d2b29cc1",
        "colab": {
          "base_uri": "https://localhost:8080/",
          "height": 187
        }
      },
      "source": [
        "# Exemplo de uso do for com uma túpla:\n",
        "for i in (1,2,3,4,5, 40, 50, 66, 77):\n",
        "  if i % 2 == 0:\n",
        "    print('Par:', i)\n",
        "  else:\n",
        "    print('Ímpar:', i)\n",
        "print('Fim do programa')\n"
      ],
      "execution_count": 0,
      "outputs": [
        {
          "output_type": "stream",
          "text": [
            "Ímpar: 1\n",
            "Par: 2\n",
            "Ímpar: 3\n",
            "Par: 4\n",
            "Ímpar: 5\n",
            "Par: 40\n",
            "Par: 50\n",
            "Par: 66\n",
            "Ímpar: 77\n",
            "Fim do programa\n"
          ],
          "name": "stdout"
        }
      ]
    },
    {
      "cell_type": "code",
      "metadata": {
        "id": "OqoBiSeQg8HA",
        "colab_type": "code",
        "outputId": "c8828013-b8de-4e77-a405-e721251bbc6f",
        "colab": {
          "base_uri": "https://localhost:8080/",
          "height": 102
        }
      },
      "source": [
        "s = 0\n",
        "for c in range(0, 4):\n",
        "  n = int(input('Digite um valor: '))\n",
        "  s += n\n",
        "print(f'O somatório de todos os valores foi {s}')"
      ],
      "execution_count": 0,
      "outputs": [
        {
          "output_type": "stream",
          "text": [
            "Digite um valor: 2\n",
            "Digite um valor: 3\n",
            "Digite um valor: 4\n",
            "Digite um valor: 1000\n",
            "O somatório de todos os valores foi 1009\n"
          ],
          "name": "stdout"
        }
      ]
    },
    {
      "cell_type": "code",
      "metadata": {
        "id": "Z5bGYOsoR0hI",
        "colab_type": "code",
        "outputId": "c01c2589-3e71-4254-c1b1-334dab7f020d",
        "colab": {
          "base_uri": "https://localhost:8080/",
          "height": 33
        }
      },
      "source": [
        "# Esta instrução cria uma sequência de 10 números começando em zero e terminando em 9.\n",
        "seq = range(10)\n",
        "\n",
        "# Utilizando o \"for\" para imprimir a sequência na tela\n",
        "for n in seq:\n",
        "  print(n, end = ' ')\n"
      ],
      "execution_count": 0,
      "outputs": [
        {
          "output_type": "stream",
          "text": [
            "0 1 2 3 4 5 6 7 8 9 "
          ],
          "name": "stdout"
        }
      ]
    },
    {
      "cell_type": "code",
      "metadata": {
        "id": "P-MuTrV24opl",
        "colab_type": "code",
        "outputId": "0dda5f1d-041e-4a5f-d6fa-80f0835c4145",
        "colab": {
          "base_uri": "https://localhost:8080/",
          "height": 53
        }
      },
      "source": [
        "# Criar uma sequência com os números pares entre 0 e 100 usando o range\n",
        "for n in range(0, 100, 2):\n",
        "  print(n, end = ' ')"
      ],
      "execution_count": 0,
      "outputs": [
        {
          "output_type": "stream",
          "text": [
            "0 2 4 6 8 10 12 14 16 18 20 22 24 26 28 30 32 34 36 38 40 42 44 46 48 50 52 54 56 58 60 62 64 66 68 70 72 74 76 78 80 82 84 86 88 90 92 94 96 98 "
          ],
          "name": "stdout"
        }
      ]
    },
    {
      "cell_type": "code",
      "metadata": {
        "id": "nFE37A4M50W3",
        "colab_type": "code",
        "outputId": "1db22fa1-d5a5-4950-b2ad-d2afea3cfffe",
        "colab": {
          "base_uri": "https://localhost:8080/",
          "height": 34
        }
      },
      "source": [
        "# Calculando a soma dos elementos da sequência\n",
        "soma = 0\n",
        "for i in range(0, 5, 1):\n",
        "  soma = soma + i\n",
        "\n",
        "print('A soma é: ', soma)"
      ],
      "execution_count": 0,
      "outputs": [
        {
          "output_type": "stream",
          "text": [
            "A soma é:  10\n"
          ],
          "name": "stdout"
        }
      ]
    },
    {
      "cell_type": "code",
      "metadata": {
        "id": "hQelhpLIqXyK",
        "colab_type": "code",
        "outputId": "b8358e02-ffad-4184-c8f1-ec773520f7e9",
        "colab": {
          "base_uri": "https://localhost:8080/",
          "height": 136
        }
      },
      "source": [
        "# Ler \"n\" números do teclado e calcular a soma\n",
        "n = int(input('Quer ler quantos números? '))\n",
        "soma = 0\n",
        "for a in range(n): #se n=3, range será (0,1,2,3)\n",
        "  x = int(input('Digite o ' + str(a + 1) + ' número: '))\n",
        "  soma = soma + x\n",
        "\n",
        "print('A soma dos números digitados é: ', soma)"
      ],
      "execution_count": 0,
      "outputs": [
        {
          "output_type": "stream",
          "text": [
            "Quer ler quantos números? 5\n",
            "Digite o 1 número: 1\n",
            "Digite o 2 número: 2\n",
            "Digite o 3 número: 3\n",
            "Digite o 4 número: 4\n",
            "Digite o 5 número: 5\n",
            "A soma dos números digitados é:  15\n"
          ],
          "name": "stdout"
        }
      ]
    },
    {
      "cell_type": "code",
      "metadata": {
        "id": "C-rVfKhLkf1M",
        "colab_type": "code",
        "outputId": "7067fb08-abb7-402b-aa3f-6c0c298cfd47",
        "colab": {
          "base_uri": "https://localhost:8080/",
          "height": 52
        }
      },
      "source": [
        "# A instrução break também interrompe o for.\n",
        "\n",
        "L = [7, 9, 10, 12]\n",
        "p = int(input('Digite um número a pesquisar: '))\n",
        "for e in L:\n",
        "  if e == p:\n",
        "    print('Elemento encontrado!')\n",
        "    break\n",
        "else:\n",
        "  print('Elemento não encontrado')"
      ],
      "execution_count": 0,
      "outputs": [
        {
          "output_type": "stream",
          "text": [
            "Digite um número a pesquisar: 8\n",
            "Elemento não encontrado\n"
          ],
          "name": "stdout"
        }
      ]
    },
    {
      "cell_type": "code",
      "metadata": {
        "id": "DfY8VZLzYBhd",
        "colab_type": "code",
        "outputId": "5a438142-9f88-4446-81e7-a9ca3023fc5a",
        "colab": {
          "base_uri": "https://localhost:8080/",
          "height": 51
        }
      },
      "source": [
        "# Procurar um número na sequência e encerrar o loop quando o encontrar.\n",
        "\n",
        "n = int(input('Digite um número: '))\n",
        "ok = False\n",
        "for i in range(200):\n",
        "  if i == n:\n",
        "    print('O número procurado foi encontrado na iteração:', i)\n",
        "    ok = True\n",
        "    break\n",
        "\n",
        "if not ok:\n",
        "  print('Esse número não foi encontrado!')"
      ],
      "execution_count": 0,
      "outputs": [
        {
          "output_type": "stream",
          "text": [
            "Digite um número: 6\n",
            "O número procurado foi encontrado na iteração: 6\n"
          ],
          "name": "stdout"
        }
      ]
    },
    {
      "cell_type": "code",
      "metadata": {
        "id": "3XCgEgFVr9mS",
        "colab_type": "code",
        "outputId": "36851ca2-d1fc-4cda-ebd6-8e029859895a",
        "colab": {
          "base_uri": "https://localhost:8080/",
          "height": 87
        }
      },
      "source": [
        "# Neste exemplo, o laço é interrompido quando o limite do contador é alcançado.\n",
        "limite = 100\n",
        "conta = 1000\n",
        "valor = 0\n",
        "iteracoes = 0\n",
        "for i in range(50000):\n",
        "  iteracoes += 1\n",
        "  if valor >= (conta + limite):\n",
        "    break\n",
        "  else:\n",
        "    valor += 1\n",
        "\n",
        "print('Valor =', valor)\n",
        "print('Conta = ', conta)\n",
        "print('Limite = ', limite)\n",
        "print('Iterações: ', iteracoes)"
      ],
      "execution_count": 0,
      "outputs": [
        {
          "output_type": "stream",
          "text": [
            "Valor = 1100\n",
            "Conta =  1000\n",
            "Limite =  100\n",
            "Iterações:  1101\n"
          ],
          "name": "stdout"
        }
      ]
    },
    {
      "cell_type": "markdown",
      "metadata": {
        "id": "MeEW9WT1tje3",
        "colab_type": "text"
      },
      "source": [
        "<h3>Exercícios"
      ]
    },
    {
      "cell_type": "code",
      "metadata": {
        "id": "NKlH-PH_uFQs",
        "colab_type": "code",
        "colab": {}
      },
      "source": [
        "# Exercício 6.11 \n",
        "# Modifique o Programa 6.6 usando for. Explique por que nem todos os while podem ser transformados em for . \n",
        "\n",
        "L = []\n",
        "\n",
        "while True: # Nesse caso a lista precisa já ter sido criada para ser percorrida pelo for\n",
        "  n = int(input('Digite um número (0 sai): '))\n",
        "  if n == 0:\n",
        "    break\n",
        "  L.append(n)\n",
        "\n",
        "for x in L:\n",
        "  print(L[x])"
      ],
      "execution_count": 0,
      "outputs": []
    },
    {
      "cell_type": "markdown",
      "metadata": {
        "id": "5G4kx_ecwWYu",
        "colab_type": "text"
      },
      "source": [
        "<hr>\n",
        "<hr>"
      ]
    },
    {
      "cell_type": "markdown",
      "metadata": {
        "id": "VO6ok6Ma2O39",
        "colab_type": "text"
      },
      "source": [
        "<h3>Range</h3>\n",
        "<hr>\n",
        "\n",
        "→ *Gerar listas simples*.\n",
        "<br>\n",
        "*Não retorna uma lista propriamente dita, mas um <u>generator</u>.*"
      ]
    },
    {
      "cell_type": "code",
      "metadata": {
        "id": "sFX3Eqrs3QMr",
        "colab_type": "code",
        "colab": {}
      },
      "source": [
        "for x in range(10): # Ao definir o valor 10, especifi-se apenas a onde parar. 10 elementos inicados em 0.\n",
        "  print(x)"
      ],
      "execution_count": 0,
      "outputs": []
    },
    {
      "cell_type": "code",
      "metadata": {
        "id": "DiTPFxA38RfG",
        "colab_type": "code",
        "colab": {}
      },
      "source": [
        "for x in range(5, 8): # Inicio e fim definidos\n",
        "  print(x)"
      ],
      "execution_count": 0,
      "outputs": []
    },
    {
      "cell_type": "markdown",
      "metadata": {
        "id": "oaTV2MxiC_I9",
        "colab_type": "text"
      },
      "source": [
        "***OBSERVAÇÃO***\n",
        "<br>\n",
        "*Usando 5 como início e 8 como fim, será impresso os números 5, 6 e 7. A notação aqui para o fim é a mesma utilizada com fatias, ou seja, *o fim é um intervalo aberto, isto é, não incluso na faixa de valores.**"
      ]
    },
    {
      "cell_type": "code",
      "metadata": {
        "id": "INInS1O1_l1K",
        "colab_type": "code",
        "outputId": "0fec7391-617d-4449-8907-102b9c4a5d64",
        "colab": {
          "base_uri": "https://localhost:8080/",
          "height": 33
        }
      },
      "source": [
        "for x in range(3, 33, 3):\n",
        "  print(x, end = ' ') # end é um PARÂMETRO opcinal da função print\n",
        "print()"
      ],
      "execution_count": 0,
      "outputs": [
        {
          "output_type": "stream",
          "text": [
            "3 6 9 12 15 18 21 24 27 30 \n"
          ],
          "name": "stdout"
        }
      ]
    },
    {
      "cell_type": "markdown",
      "metadata": {
        "id": "tqFQU4zlBzyk",
        "colab_type": "text"
      },
      "source": [
        "*O gerador como o retornado pela função <code>range</code> não é exatamente uma lista. Embora seja usado de forma parecida, é, na realidade, um objeto de outro tipo. Para transformar um gerador em lista, utiliz-se a função <code>list</code>.*"
      ]
    },
    {
      "cell_type": "code",
      "metadata": {
        "id": "oIjq7fXYChnO",
        "colab_type": "code",
        "outputId": "a9fb7fdc-c43b-420f-9a19-af1344e6e1c1",
        "colab": {
          "base_uri": "https://localhost:8080/",
          "height": 33
        }
      },
      "source": [
        "# Programa 6.10 - Transformação de range em uma lista\n",
        "\n",
        "L = list(range(100,1100,50))\n",
        "print(L)"
      ],
      "execution_count": 0,
      "outputs": [
        {
          "output_type": "stream",
          "text": [
            "[100, 150, 200, 250, 300, 350, 400, 450, 500, 550, 600, 650, 700, 750, 800, 850, 900, 950, 1000, 1050]\n"
          ],
          "name": "stdout"
        }
      ]
    },
    {
      "cell_type": "markdown",
      "metadata": {
        "id": "pzQ_JOt8wg5W",
        "colab_type": "text"
      },
      "source": [
        "<hr>\n",
        "<hr>"
      ]
    },
    {
      "cell_type": "markdown",
      "metadata": {
        "id": "Bw2_algggx4r",
        "colab_type": "text"
      },
      "source": [
        "*Criando uma lista de tamanho aleatório usando <code>randint</code> e verificando se os valores inseridos são iguais aos já adicionados.*"
      ]
    },
    {
      "cell_type": "code",
      "metadata": {
        "id": "G8kS-qDk5cc5",
        "colab_type": "code",
        "outputId": "1503c52e-0f14-4978-ef96-3f4051327499",
        "colab": {
          "base_uri": "https://localhost:8080/",
          "height": 33
        }
      },
      "source": [
        "from random import randint\n",
        "\n",
        "num = randint(1, 10)\n",
        "temp = 0\n",
        "lista = []\n",
        "\n",
        "for x in range(0, num):\n",
        "  temp = randint(1,10)\n",
        "  lista.append(temp)\n",
        "  for z in lista:\n",
        "    if len(lista) != 1 and temp == z:\n",
        "      del z      \n",
        "    else:\n",
        "      break  \n",
        "\n",
        "print(lista)"
      ],
      "execution_count": 0,
      "outputs": [
        {
          "output_type": "stream",
          "text": [
            "[5, 7, 5, 4, 1, 8, 6, 6, 7, 4]\n"
          ],
          "name": "stdout"
        }
      ]
    },
    {
      "cell_type": "markdown",
      "metadata": {
        "id": "wO7ZfYtSd2LP",
        "colab_type": "text"
      },
      "source": [
        "<h3>Enumerate</h3>\n",
        "<hr>\n",
        "\n",
        "*→ O <u>gerador</u> <code>enumerate</code> retorna, a cada vez, uma **tupla**, em que o primeiro valor é o índice e o segundo é o elemento da lista sendo enumerado.*<br>\n",
        "*O Python permite desempacotar valores de uma **tupla**, atribuindo um <u>elemento</u> da mesma a cada variável em <code>for</code>.*<br>\n"
      ]
    },
    {
      "cell_type": "code",
      "metadata": {
        "id": "uyHZpcGFfX-C",
        "colab_type": "code",
        "outputId": "4dec58f8-3d39-46a0-c347-f169375c4d78",
        "colab": {
          "base_uri": "https://localhost:8080/",
          "height": 66
        }
      },
      "source": [
        "L = [5, 9, 13]\n",
        "x = 0\n",
        "\n",
        "for e in L:\n",
        "  print(f'[{x}] {e}')\n",
        "  x += 1"
      ],
      "execution_count": 0,
      "outputs": [
        {
          "output_type": "stream",
          "text": [
            "[0] 5\n",
            "[1] 9\n",
            "[2] 13\n"
          ],
          "name": "stdout"
        }
      ]
    },
    {
      "cell_type": "code",
      "metadata": {
        "id": "BmFex0KfiYvh",
        "colab_type": "code",
        "outputId": "3ccd20f2-ca5b-40b2-ef8d-3476e70298f7",
        "colab": {
          "base_uri": "https://localhost:8080/",
          "height": 66
        }
      },
      "source": [
        "L = [5, 9, 13]\n",
        "\n",
        "for x, e in enumerate(L): # O primeiro valor da tupla deve ser colocado em \"x\", e o segundo em \"e\"\n",
        "  print(f'[{x}] {e}')"
      ],
      "execution_count": 0,
      "outputs": [
        {
          "output_type": "stream",
          "text": [
            "[0] 5\n",
            "[1] 9\n",
            "[2] 13\n"
          ],
          "name": "stdout"
        }
      ]
    },
    {
      "cell_type": "markdown",
      "metadata": {
        "id": "Pz5OSI6AlgxV",
        "colab_type": "text"
      },
      "source": [
        "*A cada iteração de <code>for</code> o <u>gerador</u> <code>enumerate</code> retorna uma nova tupla.*"
      ]
    },
    {
      "cell_type": "code",
      "metadata": {
        "id": "JdcurV-CsmYF",
        "colab_type": "code",
        "outputId": "3be31935-9506-4eca-f634-881cf485205b",
        "colab": {
          "base_uri": "https://localhost:8080/",
          "height": 116
        }
      },
      "source": [
        "L = [5, 9, 13]\n",
        "\n",
        "for z in enumerate(L): # x, e substituídos por z\n",
        "  x, e = z \n",
        "  print(f'[{x}] {e}')\n",
        "  print(z) # Tupla"
      ],
      "execution_count": 0,
      "outputs": [
        {
          "output_type": "stream",
          "text": [
            "[0] 5\n",
            "(0, 5)\n",
            "[1] 9\n",
            "(1, 9)\n",
            "[2] 13\n",
            "(2, 13)\n"
          ],
          "name": "stdout"
        }
      ]
    },
    {
      "cell_type": "markdown",
      "metadata": {
        "id": "r8T1kh3ZxIRi",
        "colab_type": "text"
      },
      "source": [
        "<hr>\n",
        "<hr>"
      ]
    },
    {
      "cell_type": "markdown",
      "metadata": {
        "id": "vEMgn0lftNhf",
        "colab_type": "text"
      },
      "source": [
        "<h3>Operando com listas</h3>\n",
        "<hr>\n",
        "\n",
        "*Percorre lista, verificando o menor e maior valor:*"
      ]
    },
    {
      "cell_type": "code",
      "metadata": {
        "id": "Yj5cQlPQvI1N",
        "colab_type": "code",
        "outputId": "eda12a28-0e1f-4ef6-f111-387a0c10b8b2",
        "colab": {
          "base_uri": "https://localhost:8080/",
          "height": 33
        }
      },
      "source": [
        "# Programe 6.11 - VErificação do maior valor\n",
        "\n",
        "L = [1, 7, 2, 4]\n",
        "m = L[0] # Precisa-se de um valor para \"m\" antes de usá-lo na comparação com \"if\"\n",
        "\n",
        "for e in L:\n",
        "  if e > m:\n",
        "    m = e\n",
        "print(m)"
      ],
      "execution_count": 0,
      "outputs": [
        {
          "output_type": "stream",
          "text": [
            "7\n"
          ],
          "name": "stdout"
        }
      ]
    },
    {
      "cell_type": "markdown",
      "metadata": {
        "id": "nOUNfdt_xM9p",
        "colab_type": "text"
      },
      "source": [
        "<h3>Exercícios"
      ]
    },
    {
      "cell_type": "code",
      "metadata": {
        "id": "F6bJzG5jxL5w",
        "colab_type": "code",
        "outputId": "71d97d0e-6809-498a-eaf3-3472ee0f50fd",
        "colab": {
          "base_uri": "https://localhost:8080/",
          "height": 33
        }
      },
      "source": [
        "# Exercício 6.12\n",
        "\n",
        "L = [2, 3, 4, 5]\n",
        "m = L[0]\n",
        "\n",
        "for x in L:\n",
        "  if x < m:\n",
        "    m = x\n",
        "print(m)  "
      ],
      "execution_count": 0,
      "outputs": [
        {
          "output_type": "stream",
          "text": [
            "2\n"
          ],
          "name": "stdout"
        }
      ]
    },
    {
      "cell_type": "code",
      "metadata": {
        "id": "jqEX4G9OyH3X",
        "colab_type": "code",
        "outputId": "c8cdd911-0741-4c4c-84fe-f7d35d2c303f",
        "colab": {
          "base_uri": "https://localhost:8080/",
          "height": 50
        }
      },
      "source": [
        "# Exercício 6.13\n",
        "\n",
        "T = [-10, -8, 0, 1, 2, 5, -2, -4]\n",
        "maior = menor = T[0]\n",
        "media = 0\n",
        "\n",
        "for x in T:\n",
        "  if x > maior:\n",
        "    maior = x\n",
        "  if x < menor:\n",
        "    menor = x\n",
        "  \n",
        "  media += x\n",
        "\n",
        "print(media)\n",
        "print(f'O M é {maior} e o m é {menor} a média é {media / len(T)}')"
      ],
      "execution_count": 0,
      "outputs": [
        {
          "output_type": "stream",
          "text": [
            "-16\n",
            "O M é 5 e o m é -10 a média é -2.0\n"
          ],
          "name": "stdout"
        }
      ]
    },
    {
      "cell_type": "markdown",
      "metadata": {
        "id": "oHK0dqEQ6o2E",
        "colab_type": "text"
      },
      "source": [
        "<hr><hr>"
      ]
    },
    {
      "cell_type": "markdown",
      "metadata": {
        "id": "pu60VKqc6d2i",
        "colab_type": "text"
      },
      "source": [
        "<h3>Aplicações</h3>\n",
        "<hr>"
      ]
    },
    {
      "cell_type": "code",
      "metadata": {
        "id": "wRIS69bj6q55",
        "colab_type": "code",
        "outputId": "b7e1de95-86f3-49da-9134-19998ae64dfa",
        "colab": {
          "base_uri": "https://localhost:8080/",
          "height": 50
        }
      },
      "source": [
        "# Programa 6.12 - Cópia de elementos para outras listas\n",
        "\n",
        "v = [1, 2, 3, 4, 5, 6]\n",
        "p = list()\n",
        "i = list()\n",
        "\n",
        "for x in v:\n",
        "  if x % 2 == 0:\n",
        "    p.append(x)\n",
        "  if x % 2 != 0:\n",
        "    i.append(x)\n",
        "\n",
        "print(p)\n",
        "print(i)"
      ],
      "execution_count": 0,
      "outputs": [
        {
          "output_type": "stream",
          "text": [
            "[2, 4, 6]\n",
            "[1, 3, 5]\n"
          ],
          "name": "stdout"
        }
      ]
    },
    {
      "cell_type": "code",
      "metadata": {
        "id": "U8pOj7hh8qMV",
        "colab_type": "code",
        "outputId": "6bbc1115-fdaa-455c-da65-a8c7210e0878",
        "colab": {
          "base_uri": "https://localhost:8080/",
          "height": 233
        }
      },
      "source": [
        "# Programa 6.13 - Controle da utilização de salas de um cinema\n",
        "\n",
        "LV = [10, 2, 1, 3, 0]\n",
        "\n",
        "\n",
        "\n",
        "while True:\n",
        "  sala = int(input('Informe o número da sala (0 sai): '))\n",
        "  \n",
        "  if sala == 0:\n",
        "    print('Fim')\n",
        "    break\n",
        "  if sala > len(LV) or sala < 1:\n",
        "    print('Sala inválida!')\n",
        "  elif LV[sala - 1] == 0:\n",
        "    print('Desculpe, sala lotada!')\n",
        "  else:\n",
        "    lugar = int(input(f'Quantos lugares você deseja ({LV[sala - 1]} vagos:)'))\n",
        "    if lugar > LV[sala -1]:\n",
        "      print('Esse número de lugares não está disponível.')\n",
        "    elif lugar < 0:\n",
        "      print('Número inválido')\n",
        "    else:\n",
        "      LV[sala - 1] -= lugar\n",
        "      print(f'{lugar} lugares vendidos')\n",
        "\n",
        "print('Utilização das salas')\n",
        "for x, l in enumerate(LV):\n",
        "  print(f'A sala {x + 1} - {l} lugar(es) vazio(s)')"
      ],
      "execution_count": 0,
      "outputs": [
        {
          "output_type": "stream",
          "text": [
            "Informe o número da sala (0 sai): 5\n",
            "Desculpe, sala lotada!\n",
            "Informe o número da sala (0 sai): 4\n",
            "Quantos lugares você deseja (3 vagos:)3\n",
            "3 lugares vendidos\n",
            "Informe o número da sala (0 sai): 0\n",
            "Fim\n",
            "Utilização das salas\n",
            "A sala 1 - 10 lugar(es) vazio(s)\n",
            "A sala 2 - 2 lugar(es) vazio(s)\n",
            "A sala 3 - 1 lugar(es) vazio(s)\n",
            "A sala 4 - 0 lugar(es) vazio(s)\n",
            "A sala 5 - 0 lugar(es) vazio(s)\n"
          ],
          "name": "stdout"
        }
      ]
    },
    {
      "cell_type": "markdown",
      "metadata": {
        "id": "uFOfe4v9qq3G",
        "colab_type": "text"
      },
      "source": [
        "<hr><hr>"
      ]
    },
    {
      "cell_type": "markdown",
      "metadata": {
        "id": "Qc97McYZoHqC",
        "colab_type": "text"
      },
      "source": [
        "<h3>Listas com strings</h3>\n",
        "<hr>\n",
        "\n",
        "*Strings podem ser acessadas ou indexadas letra por letra. Listas em Python funcionam da mesma forma, permitindo o acesso a vários valores.*"
      ]
    },
    {
      "cell_type": "code",
      "metadata": {
        "id": "BCKIMi7bow8u",
        "colab_type": "code",
        "outputId": "c293f6cf-2336-4459-bbaa-fee1ebf1700e",
        "colab": {
          "base_uri": "https://localhost:8080/",
          "height": 33
        }
      },
      "source": [
        "S = ['maçãs', 'peras', 'kiwis']\n",
        "len(S)"
      ],
      "execution_count": 0,
      "outputs": [
        {
          "output_type": "execute_result",
          "data": {
            "text/plain": [
              "3"
            ]
          },
          "metadata": {
            "tags": []
          },
          "execution_count": 1
        }
      ]
    },
    {
      "cell_type": "code",
      "metadata": {
        "id": "rtlBPH44poNs",
        "colab_type": "code",
        "outputId": "d662bb35-5f3d-4a25-9ffe-73889c095179",
        "colab": {
          "base_uri": "https://localhost:8080/",
          "height": 33
        }
      },
      "source": [
        "S[0]"
      ],
      "execution_count": 0,
      "outputs": [
        {
          "output_type": "execute_result",
          "data": {
            "text/plain": [
              "'maçãs'"
            ]
          },
          "metadata": {
            "tags": []
          },
          "execution_count": 2
        }
      ]
    },
    {
      "cell_type": "code",
      "metadata": {
        "id": "6tQ6f7xPpuKf",
        "colab_type": "code",
        "colab": {}
      },
      "source": [
        "# Programa 6.14 - Lendo e imprimindo uma lista de compras\n",
        "\n",
        "comras = []\n",
        "\n",
        "while True:\n",
        "  produto = input('Produto: ')\n",
        "  if produto == 'fim':\n",
        "    break\n",
        "  compras.append(produto)\n",
        "\n",
        "for p in compras:\n",
        "  print(p)"
      ],
      "execution_count": 0,
      "outputs": []
    },
    {
      "cell_type": "markdown",
      "metadata": {
        "id": "LEzWJgsyqvZF",
        "colab_type": "text"
      },
      "source": [
        "<hr><hr>"
      ]
    },
    {
      "cell_type": "markdown",
      "metadata": {
        "id": "1SEhc45CqUDE",
        "colab_type": "text"
      },
      "source": [
        "<h3>Listas dentro de listas</h3>\n",
        "<hr>\n",
        "\n",
        "*É possível acessar strings dentro de listas, letra por letra, usando um segundo índice:*"
      ]
    },
    {
      "cell_type": "code",
      "metadata": {
        "colab_type": "code",
        "id": "eXVsimwrrCRw",
        "colab": {}
      },
      "source": [
        "S = ['maçãs', 'peras', 'kiwis']"
      ],
      "execution_count": 0,
      "outputs": []
    },
    {
      "cell_type": "code",
      "metadata": {
        "id": "crzIqXMCqzlb",
        "colab_type": "code",
        "outputId": "4c941a29-a505-455f-dd97-1ebb621b1b58",
        "colab": {
          "base_uri": "https://localhost:8080/",
          "height": 33
        }
      },
      "source": [
        "print(S[0][0])"
      ],
      "execution_count": 0,
      "outputs": [
        {
          "output_type": "stream",
          "text": [
            "m\n"
          ],
          "name": "stdout"
        }
      ]
    },
    {
      "cell_type": "code",
      "metadata": {
        "id": "6m37_mFmrMG9",
        "colab_type": "code",
        "outputId": "4d8b7847-2e05-4181-cd4a-ddb6fcfaec6b",
        "colab": {
          "base_uri": "https://localhost:8080/",
          "height": 33
        }
      },
      "source": [
        "print(S[0][1])"
      ],
      "execution_count": 0,
      "outputs": [
        {
          "output_type": "stream",
          "text": [
            "a\n"
          ],
          "name": "stdout"
        }
      ]
    },
    {
      "cell_type": "code",
      "metadata": {
        "id": "U2FcHiu9rRKj",
        "colab_type": "code",
        "outputId": "1a3077e3-cc72-42eb-e069-5dc137baae97",
        "colab": {
          "base_uri": "https://localhost:8080/",
          "height": 33
        }
      },
      "source": [
        "print(S[0][2])"
      ],
      "execution_count": 0,
      "outputs": [
        {
          "output_type": "stream",
          "text": [
            "ç\n"
          ],
          "name": "stdout"
        }
      ]
    },
    {
      "cell_type": "code",
      "metadata": {
        "id": "LpjawsVFrVVz",
        "colab_type": "code",
        "outputId": "fd60bd72-ea8d-497e-acab-c04e01e75fff",
        "colab": {
          "base_uri": "https://localhost:8080/",
          "height": 33
        }
      },
      "source": [
        "print(S[0][3])"
      ],
      "execution_count": 0,
      "outputs": [
        {
          "output_type": "stream",
          "text": [
            "ã\n"
          ],
          "name": "stdout"
        }
      ]
    },
    {
      "cell_type": "code",
      "metadata": {
        "id": "zVOsJ_CcrZvp",
        "colab_type": "code",
        "outputId": "2294ffba-a103-4e44-cfda-1f4c2f04d04d",
        "colab": {
          "base_uri": "https://localhost:8080/",
          "height": 33
        }
      },
      "source": [
        "# Programa 6.15 - Impressão de uma lista de strings, letra a letra\n",
        "\n",
        "L = ['maçãs', 'peras', 'kiwis']\n",
        "\n",
        "for s in L:\n",
        "  for letra in s:\n",
        "    print(letra, end = ' ')"
      ],
      "execution_count": 0,
      "outputs": [
        {
          "output_type": "stream",
          "text": [
            "m a ç ã s p e r a s k i w i s "
          ],
          "name": "stdout"
        }
      ]
    },
    {
      "cell_type": "code",
      "metadata": {
        "id": "rLZIkV1936oV",
        "colab_type": "code",
        "outputId": "30087bca-4021-4225-ae48-f91c2eb6bc2b",
        "colab": {
          "base_uri": "https://localhost:8080/",
          "height": 33
        }
      },
      "source": [
        "dados = ['Pedro', 25]\n",
        "pessoas = list()\n",
        "\n",
        "pessoas.append(dados[:])\n",
        "print(pessoas)"
      ],
      "execution_count": 0,
      "outputs": [
        {
          "output_type": "stream",
          "text": [
            "[['Pedro', 25]]\n"
          ],
          "name": "stdout"
        }
      ]
    },
    {
      "cell_type": "markdown",
      "metadata": {
        "id": "eCVhALqGsvvH",
        "colab_type": "text"
      },
      "source": [
        "*Os elementos de uma lista não precisam ser do mesmo tipo.*"
      ]
    },
    {
      "cell_type": "code",
      "metadata": {
        "id": "qwfriod6r87-",
        "colab_type": "code",
        "colab": {}
      },
      "source": [
        "# Programa 6.16 - Listas com elementos de tipos diferentes\n",
        "\n",
        "produto1 = ['maça', 10, 0.30] # 1º elemento é do tipo string, o 2º, inteiro e o 3º, ponto flutuante.\n",
        "produto2 = ['pera', 5, 0.75]\n",
        "produto3 = ['kiwi', 4, 0.98]"
      ],
      "execution_count": 0,
      "outputs": []
    },
    {
      "cell_type": "code",
      "metadata": {
        "id": "UDPvr4EdscxP",
        "colab_type": "code",
        "outputId": "a6a9be42-f796-40a3-eb12-0a243d3eba1e",
        "colab": {
          "base_uri": "https://localhost:8080/",
          "height": 33
        }
      },
      "source": [
        "# Programa 6.17 - Listas de listas\n",
        "\n",
        "produto1 = ['maça', 10, 0.30] \n",
        "produto2 = ['pera', 5, 0.75]\n",
        "produto3 = ['kiwi', 4, 0.98]\n",
        "\n",
        "compras = [produto1, produto2, produto3]\n",
        "print(compras)"
      ],
      "execution_count": 0,
      "outputs": [
        {
          "output_type": "stream",
          "text": [
            "[['maça', 10, 0.3], ['pera', 5, 0.75], ['kiwi', 4, 0.98]]\n"
          ],
          "name": "stdout"
        }
      ]
    },
    {
      "cell_type": "code",
      "metadata": {
        "id": "kDZmULKCwLU7",
        "colab_type": "code",
        "outputId": "c71db33b-dc98-4eba-c89e-7b75a43cb571",
        "colab": {
          "base_uri": "https://localhost:8080/",
          "height": 166
        }
      },
      "source": [
        "# Programa 6.18 - Impressão das compras\n",
        "\n",
        "produto1 = ['maça', 10, 0.30] \n",
        "produto2 = ['pera', 5, 0.75]\n",
        "produto3 = ['kiwi', 4, 0.98]\n",
        "\n",
        "compras = [produto1, produto2, produto3]\n",
        "\n",
        "for e in compras:\n",
        "  print(f'Produto: {e[0]}')\n",
        "  print(f'Quantidade: {e[1]}')\n",
        "  print(f'Preço: {e[2]:5.2f}')"
      ],
      "execution_count": 0,
      "outputs": [
        {
          "output_type": "stream",
          "text": [
            "Produto: maça\n",
            "Quantidade: 10\n",
            "Preço:  0.30\n",
            "Produto: pera\n",
            "Quantidade: 5\n",
            "Preço:  0.75\n",
            "Produto: kiwi\n",
            "Quantidade: 4\n",
            "Preço:  0.98\n"
          ],
          "name": "stdout"
        }
      ]
    },
    {
      "cell_type": "code",
      "metadata": {
        "id": "VQVvF_5cCSKb",
        "colab_type": "code",
        "outputId": "18246d36-8c35-4fa7-bed8-f8574f6ffeb9",
        "colab": {
          "base_uri": "https://localhost:8080/",
          "height": 250
        }
      },
      "source": [
        "# Programa 6.19 - Criação e impressão de lista de compras\n",
        "\n",
        "compras = []\n",
        "\n",
        "while True:\n",
        "  produto = input('Produto: ')\n",
        "  if produto == 'fim':\n",
        "    break\n",
        "\n",
        "  quantidade = int(input('Informe a quantidade: '))\n",
        "  preco = float(input('Informe o valor: R$'))\n",
        "  compras.append([produto, quantidade, preco])\n",
        "  \n",
        "soma = 0.0  \n",
        "for e in compras:\n",
        "  print(f'{e[0]:20s} x {e[1]:5d} {e[2]:5.2f} {e[1] * e[2]:6.2f}')\n",
        "  soma += e[1] * e[2]\n",
        "print(f'Total: {soma:7.2f}')"
      ],
      "execution_count": 0,
      "outputs": [
        {
          "output_type": "stream",
          "text": [
            "Produto: maca\n",
            "Informe a quantidade: 5\n",
            "Informe o valor: R$12.30\n",
            "Produto: kiwi\n",
            "Informe a quantidade: 5\n",
            "Informe o valor: R$14\n",
            "Produto: ovo\n",
            "Informe a quantidade: 7\n",
            "Informe o valor: R$16\n",
            "Produto: fim\n",
            "maca                 x     5 12.30  61.50\n",
            "kiwi                 x     5 14.00  70.00\n",
            "ovo                  x     7 16.00 112.00\n",
            "Total:  243.50\n"
          ],
          "name": "stdout"
        }
      ]
    },
    {
      "cell_type": "code",
      "metadata": {
        "id": "q3rkk9_Yw2Bi",
        "colab_type": "code",
        "colab": {}
      },
      "source": [
        "compras = []\n",
        "\n",
        "while True:\n",
        "  compras.append(input('Informe o nome do produto: '))\n",
        "  compras.append(int(input('Informe a quantidade: ')))\n",
        "  compras.append(float(input('Informe o valor: R$')))\n",
        "  \n",
        "  resp = ' '\n",
        "  while resp not in 'SsNn':\n",
        "    resp = input('Deseja continuar: [S/N] ').strip()[0]\n",
        "  if resp in 'Nn':\n",
        "    break\n",
        "\n",
        "      \n",
        "for x in compras:\n",
        "  print(x)"
      ],
      "execution_count": 0,
      "outputs": []
    },
    {
      "cell_type": "markdown",
      "metadata": {
        "id": "8sEMtIbL3wQ8",
        "colab_type": "text"
      },
      "source": [
        "<hr>\n",
        "<hr>"
      ]
    },
    {
      "cell_type": "markdown",
      "metadata": {
        "id": "5XLCs4RZ30B4",
        "colab_type": "text"
      },
      "source": [
        "<h3>Ordenação</h3>\n",
        "<hr>\n",
        "\n",
        "*→ Bubble Sort*<br>\n",
        "*A ordenação pelo método de bolhas consiste em comparar dois elementos a cada vez. Se o valor do primeiro elemento foi maior que o do segundo, eles trocarão de posição. Essa operação é então repetida para o próximo elemento até o fim da lista.*<br>\n",
        "*O método bolha exige que se percorra a lista várias vezes. Por isso, utiliza-se um marcador para saber se chegou ao fim da lista trocando ou não algum elemento.*<br>\n",
        "*Outra propriedade desse método é posicionar o maior elemento na última posição da lista. Isso permite eliminar um elemento do fim da lista a cada passagem completa.*"
      ]
    },
    {
      "cell_type": "code",
      "metadata": {
        "id": "2lwX9ot656u4",
        "colab_type": "code",
        "outputId": "88c7dc43-833c-4ce5-89d0-593f1e04d880",
        "colab": {
          "base_uri": "https://localhost:8080/",
          "height": 100
        }
      },
      "source": [
        "# Programa 6.20 - Ordenação pelo método de bolhas\n",
        "\n",
        "L = [7, 4, 3, 12, 8]\n",
        "\n",
        "fim = 5 # (1) A variável \"fim\" marca o fim ou a posição do último elemento porque no Bubble Sort não se precisa\n",
        "        # verificar o último elemento após uma passagem completa.\n",
        "\n",
        "while fim > 1: # (2) Verifica-se se fim > 1, pois, como se compara o elemento atual (L[x]) com o seguinte (L[x + 1]),\n",
        "               # precisa-se de, no mínimo, dois elementos.\n",
        "\n",
        "  trocou = False # Serve para indicar que não houve nenhuma troca.\n",
        "\n",
        "  x = 0 # Índice, começando na posição 0.\n",
        "  \n",
        "  while x < (fim - 1): # Garantia de um próximo elemento para comparação com e o atual.\n",
        "                       # A condição de saída desse while é x < (fim - 1), ou melhor, x é anterior ao último elemento.\n",
        "    \n",
        "    if L[x] > L[x + 1]: # Comparação em si, em que x é a posição atual, e o próximo elemento é x + 1.\n",
        "                        # Como está se ordenando em ordem crescente, deseja-se que o próximo elemento sempre seja\n",
        "                        # maior que o atual, garantindo a ordenação da lista.\n",
        "      trocou = True\n",
        "      temp = L[x]\n",
        "      L[x] = L[x + 1]\n",
        "      L[x + 1] = temp\n",
        "    x += 1\n",
        "  if not trocou:\n",
        "    break\n",
        "  fim -= 1\n",
        "for e in L:\n",
        "  print(e)"
      ],
      "execution_count": 0,
      "outputs": [
        {
          "output_type": "stream",
          "text": [
            "3\n",
            "4\n",
            "7\n",
            "8\n",
            "12\n"
          ],
          "name": "stdout"
        }
      ]
    },
    {
      "cell_type": "markdown",
      "metadata": {
        "id": "dFxEyO5LQsWt",
        "colab_type": "text"
      },
      "source": [
        "<hr>\n",
        "<hr>"
      ]
    },
    {
      "cell_type": "markdown",
      "metadata": {
        "id": "LcFzbiwjQut-",
        "colab_type": "text"
      },
      "source": [
        "# *Dicionários*\n",
        "<hr>\n",
        "\n",
        "*→ É composto por um conjunto chave-valor. A chave se vincula com um valor em específico (array associativo).*<br>\n",
        "*Consiste numa estrutua de dados similar às listas, mas com propriedade de acesso diferentes.*\n",
        "\n"
      ]
    },
    {
      "cell_type": "code",
      "metadata": {
        "id": "qAnol18WhvrF",
        "colab_type": "code",
        "colab": {}
      },
      "source": [
        "dicionario = {}"
      ],
      "execution_count": 0,
      "outputs": []
    },
    {
      "cell_type": "code",
      "metadata": {
        "id": "tK-q80AlNp9q",
        "colab_type": "code",
        "outputId": "add4e315-d838-4d28-b40f-444fff237709",
        "colab": {
          "base_uri": "https://localhost:8080/",
          "height": 33
        }
      },
      "source": [
        "#↓var↓    ↓chave↓  ↓valor↓\n",
        "tabela = {'Alface': 0.45, \n",
        "          'Batata': 1.20,\n",
        "          'Tomate': 2.30, \n",
        "          'Feijão': 1.50}\n",
        "\n",
        "print(tabela['Alface'])"
      ],
      "execution_count": 0,
      "outputs": [
        {
          "output_type": "stream",
          "text": [
            "0.45\n"
          ],
          "name": "stdout"
        }
      ]
    },
    {
      "cell_type": "markdown",
      "metadata": {
        "id": "RXiI5VygPmcf",
        "colab_type": "text"
      },
      "source": [
        "*Quando um valor é atribuído a uma chave, duas coisas podem ocorre:*\n",
        "\n",
        "\n",
        "1.   *Se a chave JÁ EXISTE:* ***O valor associado é alterado para o novo valor.***\n",
        "2.  *Se a chave NÃO EXISTE:* ***A nova chave será adicionada ao dicionário.***\n",
        "\n"
      ]
    },
    {
      "cell_type": "code",
      "metadata": {
        "id": "ordblGgyQsTO",
        "colab_type": "code",
        "outputId": "1ef85e3d-1ab0-4286-ea8e-dc35a68257fc",
        "colab": {
          "base_uri": "https://localhost:8080/",
          "height": 33
        }
      },
      "source": [
        "print(tabela['Tomate'])"
      ],
      "execution_count": 0,
      "outputs": [
        {
          "output_type": "stream",
          "text": [
            "2.3\n"
          ],
          "name": "stdout"
        }
      ]
    },
    {
      "cell_type": "code",
      "metadata": {
        "id": "Led8Kxp9RMjq",
        "colab_type": "code",
        "outputId": "1fac4d6d-ab9a-43ab-acfa-9533095b64a9",
        "colab": {
          "base_uri": "https://localhost:8080/",
          "height": 33
        }
      },
      "source": [
        "print(tabela)"
      ],
      "execution_count": 0,
      "outputs": [
        {
          "output_type": "stream",
          "text": [
            "{'Alface': 0.45, 'Batata': 1.2, 'Tomate': 2.3, 'Feijão': 1.5}\n"
          ],
          "name": "stdout"
        }
      ]
    },
    {
      "cell_type": "code",
      "metadata": {
        "id": "FPNJ3rd-RVw3",
        "colab_type": "code",
        "outputId": "cacad3e3-38c8-4a0f-c435-e6ad79b9fde0",
        "colab": {
          "base_uri": "https://localhost:8080/",
          "height": 33
        }
      },
      "source": [
        "tabela['Tomate'] = 2.5\n",
        "print(tabela['Tomate'])"
      ],
      "execution_count": 0,
      "outputs": [
        {
          "output_type": "stream",
          "text": [
            "2.5\n"
          ],
          "name": "stdout"
        }
      ]
    },
    {
      "cell_type": "code",
      "metadata": {
        "id": "r4WPyuXeRjWd",
        "colab_type": "code",
        "outputId": "5f8130a2-d8d5-453c-c45d-c6539527f572",
        "colab": {
          "base_uri": "https://localhost:8080/",
          "height": 33
        }
      },
      "source": [
        "tabela['Cebola'] = 1.20\n",
        "print(tabela)"
      ],
      "execution_count": 0,
      "outputs": [
        {
          "output_type": "stream",
          "text": [
            "{'Alface': 0.45, 'Batata': 1.2, 'Tomate': 2.5, 'Feijão': 1.5, 'Cebola': 1.2}\n"
          ],
          "name": "stdout"
        }
      ]
    },
    {
      "cell_type": "code",
      "metadata": {
        "id": "7kjX3lxCS0RY",
        "colab_type": "code",
        "outputId": "2f4a0800-e849-457b-e658-7ee4a13abcf2",
        "colab": {
          "base_uri": "https://localhost:8080/",
          "height": 50
        }
      },
      "source": [
        "print('Manga' in tabela)\n",
        "print('Feijão' in tabela)"
      ],
      "execution_count": 0,
      "outputs": [
        {
          "output_type": "stream",
          "text": [
            "False\n",
            "True\n"
          ],
          "name": "stdout"
        }
      ]
    },
    {
      "cell_type": "markdown",
      "metadata": {
        "id": "TaAuYP4waDws",
        "colab_type": "text"
      },
      "source": [
        "*Geradores:*\n",
        "\n",
        "*   <code>keys()</code>\n",
        "*   <code>values()</code>\n",
        "*   <code>items()</code>\n",
        "\n"
      ]
    },
    {
      "cell_type": "code",
      "metadata": {
        "id": "rQe1LEr4dILF",
        "colab_type": "code",
        "outputId": "99c01dbb-36a2-4b72-ab0b-1bc379aa99cd",
        "colab": {
          "base_uri": "https://localhost:8080/",
          "height": 116
        }
      },
      "source": [
        "filme = {'titulo': 'Star Wars',\n",
        "         'ano': 1977,\n",
        "         'diretor': 'George Lucas'}\n",
        "\n",
        "print(filme.values())\n",
        "print(filme.keys())\n",
        "print(filme.items())\n",
        "\n",
        "for x, y in filme.items():\n",
        "  print(f'O {x} é {y}')"
      ],
      "execution_count": 0,
      "outputs": [
        {
          "output_type": "stream",
          "text": [
            "dict_values(['Star Wars', 1977, 'George Lucas'])\n",
            "dict_keys(['titulo', 'ano', 'diretor'])\n",
            "dict_items([('titulo', 'Star Wars'), ('ano', 1977), ('diretor', 'George Lucas')])\n",
            "O titulo é Star Wars\n",
            "O ano é 1977\n",
            "O diretor é George Lucas\n"
          ],
          "name": "stdout"
        }
      ]
    },
    {
      "cell_type": "code",
      "metadata": {
        "id": "DeCdSN3LatGm",
        "colab_type": "code",
        "outputId": "1fad2928-b246-458d-ab00-43e397eec62f",
        "colab": {
          "base_uri": "https://localhost:8080/",
          "height": 66
        }
      },
      "source": [
        "# Programa 6.21 - Obtenção do preço com um dicionário\n",
        "\n",
        "tabela = {'Alface': 0.45, \n",
        "          'Batata': 1.20,\n",
        "          'Tomate': 2.30, \n",
        "          'Feijão': 1.50}\n",
        "\n",
        "while True:\n",
        "  produto = input('Digite o nome do produto, \"fim\" para terminar: ')\n",
        "  if produto == 'fim':\n",
        "    break\n",
        "  if produto in tabela:\n",
        "    print(f'Preço {tabela[produto]:5.2f}')\n",
        "  else:\n",
        "    print('Produto não encontrado!')"
      ],
      "execution_count": 0,
      "outputs": [
        {
          "output_type": "stream",
          "text": [
            "Digite o nome do produto, \"fim\" para terminar: Alface\n",
            "Preço  0.45\n",
            "Digite o nome do produto, \"fim\" para terminar: fim\n"
          ],
          "name": "stdout"
        }
      ]
    },
    {
      "cell_type": "markdown",
      "metadata": {
        "id": "cgRBVGS02qCu",
        "colab_type": "text"
      },
      "source": [
        "*Pesquisa de valores dentro de um dicionário utilizando atributo <code>values()</code>.*"
      ]
    },
    {
      "cell_type": "code",
      "metadata": {
        "id": "fQNCiJQZyn5s",
        "colab_type": "code",
        "outputId": "c4d442f5-a28c-45c8-9bd3-acde0d90960f",
        "colab": {
          "base_uri": "https://localhost:8080/",
          "height": 50
        }
      },
      "source": [
        "dic = {'casa': 100,\n",
        "         'apartamento': 1000,\n",
        "         'mansão': 10000}\n",
        "\n",
        "num = int(input('Número: '))\n",
        "\n",
        "for x in dic.values():\n",
        "  if num in dic.values():\n",
        "    print(f'{num} encontrado!')\n",
        "    break\n",
        "  else:\n",
        "    print(f'{num} não encontrado!')\n",
        "    break"
      ],
      "execution_count": 0,
      "outputs": [
        {
          "output_type": "stream",
          "text": [
            "Número: 10\n",
            "10 não encontrado!\n"
          ],
          "name": "stdout"
        }
      ]
    },
    {
      "cell_type": "markdown",
      "metadata": {
        "id": "S6oLlqRUm7t-",
        "colab_type": "text"
      },
      "source": [
        "*Para apagar uma chave, utiliza-se a instrução <code>del</code>.*"
      ]
    },
    {
      "cell_type": "code",
      "metadata": {
        "id": "C16A64Rhm5t-",
        "colab_type": "code",
        "outputId": "a1027fee-8025-443c-bcdb-a8b24fc7d180",
        "colab": {
          "base_uri": "https://localhost:8080/",
          "height": 33
        }
      },
      "source": [
        "tabela = {'Alface': 0.45, \n",
        "          'Batata': 1.20,\n",
        "          'Tomate': 2.30, \n",
        "          'Feijão': 1.50}\n",
        "\n",
        "del tabela['Tomate']\n",
        "print(tabela)"
      ],
      "execution_count": 0,
      "outputs": [
        {
          "output_type": "stream",
          "text": [
            "{'Alface': 0.45, 'Batata': 1.2, 'Feijão': 1.5}\n"
          ],
          "name": "stdout"
        }
      ]
    },
    {
      "cell_type": "code",
      "metadata": {
        "id": "vj1uvBMFgaZc",
        "colab_type": "code",
        "outputId": "3bb4572a-b055-4769-f8e6-0c3b5e5b3314",
        "colab": {
          "base_uri": "https://localhost:8080/",
          "height": 50
        }
      },
      "source": [
        "locadora = [{'título': 'Star Wars',\n",
        "             'ano': 1977,\n",
        "             'diretor': 'George Lucas'},\n",
        "            {'título': 'Avengers',\n",
        "             'ano': 2012,\n",
        "             'diretor': 'Joss Whedon'},\n",
        "            {'título': 'Matrix',\n",
        "             'ano': 1999,\n",
        "             'diretor': 'Wachowki'}]\n",
        "\n",
        "print(locadora[0]['ano'])\n",
        "print(locadora[2]['título'])"
      ],
      "execution_count": 0,
      "outputs": [
        {
          "output_type": "stream",
          "text": [
            "1977\n",
            "Matrix\n"
          ],
          "name": "stdout"
        }
      ]
    },
    {
      "cell_type": "code",
      "metadata": {
        "id": "O4R2sY9LoJBA",
        "colab_type": "code",
        "outputId": "90853880-a2b3-4ad6-94f8-b22020223fa3",
        "colab": {
          "base_uri": "https://localhost:8080/",
          "height": 33
        }
      },
      "source": [
        "d = {'banana': 2.00, 'maçã': 5.00}\n",
        "f\"Banana: R${d['banana']:5.2f} Maçã: R${d['maçã']:5.2f}\""
      ],
      "execution_count": 0,
      "outputs": [
        {
          "output_type": "execute_result",
          "data": {
            "text/plain": [
              "'Banana: R$ 2.00 Maçã: R$ 5.00'"
            ]
          },
          "metadata": {
            "tags": []
          },
          "execution_count": 2
        }
      ]
    },
    {
      "cell_type": "markdown",
      "metadata": {
        "id": "e9yJo7VKkiev",
        "colab_type": "text"
      },
      "source": [
        "***Dicionário dentro de listas***"
      ]
    },
    {
      "cell_type": "code",
      "metadata": {
        "id": "w4qdJcwMf6ou",
        "colab_type": "code",
        "outputId": "e074ada7-6015-47c7-cd5e-57263d39d014",
        "colab": {
          "base_uri": "https://localhost:8080/",
          "height": 33
        }
      },
      "source": [
        "brasil = []\n",
        "estado1 = {f'UF': 'Rio de Janeiro', 'Sigla': 'RJ'}\n",
        "estado2 = {f'UF': 'Natal', 'Sigla': 'RN'}\n",
        "brasil.append(estado1)\n",
        "brasil.append(estado2)\n",
        "\n",
        "print(brasil[1]['Sigla'])"
      ],
      "execution_count": 0,
      "outputs": [
        {
          "output_type": "stream",
          "text": [
            "RN\n"
          ],
          "name": "stdout"
        }
      ]
    },
    {
      "cell_type": "code",
      "metadata": {
        "id": "q74yf4FvhsPg",
        "colab_type": "code",
        "outputId": "8eab4bad-3ac7-416d-f928-97b2f770cbf9",
        "colab": {
          "base_uri": "https://localhost:8080/",
          "height": 416
        }
      },
      "source": [
        "estado = dict()\n",
        "brasil = list()\n",
        "\n",
        "for c in range(0, 3):\n",
        "  estado['UF'] = input('Unidade Federativa: ')\n",
        "  estado['Sigla'] = input('Sigla do Estado: ')\n",
        "  brasil.append(estado.copy())\n",
        "print('♣' * 31)\n",
        "\n",
        "for e in brasil:\n",
        "  print()\n",
        "  print(e)\n",
        "  for x, y in e.items():\n",
        "    print(f'O campo {x} tem valor {y}.')\n",
        "    \n",
        "print()\n",
        "print('♣' * 31)\n",
        "print(brasil)\n",
        "print(type(brasil))\n",
        "print(type(estado))"
      ],
      "execution_count": 0,
      "outputs": [
        {
          "output_type": "stream",
          "text": [
            "Unidade Federativa: Pará\n",
            "Sigla do Estado: PA\n",
            "Unidade Federativa: Rio\n",
            "Sigla do Estado: RJ\n",
            "Unidade Federativa: Acre\n",
            "Sigla do Estado: AC\n",
            "♣♣♣♣♣♣♣♣♣♣♣♣♣♣♣♣♣♣♣♣♣♣♣♣♣♣♣♣♣♣♣\n",
            "\n",
            "{'UF': 'Pará', 'Sigla': 'PA'}\n",
            "O campo UF tem valor Pará.\n",
            "O campo Sigla tem valor PA.\n",
            "\n",
            "{'UF': 'Rio', 'Sigla': 'RJ'}\n",
            "O campo UF tem valor Rio.\n",
            "O campo Sigla tem valor RJ.\n",
            "\n",
            "{'UF': 'Acre', 'Sigla': 'AC'}\n",
            "O campo UF tem valor Acre.\n",
            "O campo Sigla tem valor AC.\n",
            "\n",
            "♣♣♣♣♣♣♣♣♣♣♣♣♣♣♣♣♣♣♣♣♣♣♣♣♣♣♣♣♣♣♣\n",
            "[{'UF': 'Pará', 'Sigla': 'PA'}, {'UF': 'Rio', 'Sigla': 'RJ'}, {'UF': 'Acre', 'Sigla': 'AC'}]\n",
            "<class 'list'>\n",
            "<class 'dict'>\n"
          ],
          "name": "stdout"
        }
      ]
    },
    {
      "cell_type": "markdown",
      "metadata": {
        "id": "pYQEW-R5k1Dh",
        "colab_type": "text"
      },
      "source": [
        "<hr>"
      ]
    },
    {
      "cell_type": "markdown",
      "metadata": {
        "id": "JeYIGXpeJXBb",
        "colab_type": "text"
      },
      "source": [
        "<h3>Dicionários com listas</h3>\n",
        "\n",
        "*Em Python, pode-se ter dicionários nos quais as chaves são associadas a listas ou mesmo a outros dicionários.*"
      ]
    },
    {
      "cell_type": "code",
      "metadata": {
        "id": "hFjVXGzCQ-Bb",
        "colab_type": "code",
        "colab": {}
      },
      "source": [
        "           # nome do produto == chave\n",
        "estoque = {'tomate': [1000, 2.30], # ← A lista consiste nos valores associados, uma lista por chave.\n",
        "           'alface': [ 500, 0.45], # O primeiro elemento da lista é a quantidade disponível; e o segundo, o preço.\n",
        "           'batata': [2001, 1.20],\n",
        "           'feijão': [ 100, 1.50]}"
      ],
      "execution_count": 0,
      "outputs": []
    },
    {
      "cell_type": "markdown",
      "metadata": {
        "id": "n6XKAixjTv8A",
        "colab_type": "text"
      },
      "source": [
        "*Uma aplicação seria processar uma lista de operações e calcular o preço total de venda, atualizando também a quantidade em estoque.*"
      ]
    },
    {
      "cell_type": "code",
      "metadata": {
        "id": "M29J7ETuT-S4",
        "colab_type": "code",
        "outputId": "66fad6df-4b9c-41f7-e26e-fc1db14a0c39",
        "colab": {
          "base_uri": "https://localhost:8080/",
          "height": 433
        }
      },
      "source": [
        "# Programa 6.22 - Exemplo de dicionário com estoque e operações de venda\n",
        "\n",
        "estoque = {'tomate': [1000, 2.30], \n",
        "           'alface': [ 500, 0.45], \n",
        "           'batata': [2001, 1.20],\n",
        "           'feijão': [ 100, 1.50]}\n",
        "\n",
        "venda = [['tomate', 5], ['batata', 10], ['alface', 5]]\n",
        "total = 0\n",
        "print('Vendas:\\n')\n",
        "\n",
        "for operacao in venda:\n",
        "  produto, quantidade = operacao\n",
        "  preco = estoque[produto][1]\n",
        "  custo = preco * quantidade\n",
        "  print(f'{produto:12s}: {quantidade:3d} x {preco:6.2f} = {custo:6.2f}')\n",
        "  estoque[produto][0] -= quantidade\n",
        "  total += custo\n",
        "\n",
        "print(f'Custo total: {total:22.2f}\\n')\n",
        "print('Estoque:\\n')\n",
        "\n",
        "for chave, dados in estoque.items():\n",
        "  print('Descrição: ', chave)\n",
        "  print('Quantidade: ', dados[0])\n",
        "  print(f'Preço: {dados[1]:6.2f}\\n')"
      ],
      "execution_count": 0,
      "outputs": [
        {
          "output_type": "stream",
          "text": [
            "Vendas:\n",
            "\n",
            "tomate      :   5 x   2.30 =  11.50\n",
            "batata      :  10 x   1.20 =  12.00\n",
            "alface      :   5 x   0.45 =   2.25\n",
            "Custo total:                  25.75\n",
            "\n",
            "Estoque:\n",
            "\n",
            "Descrição:  tomate\n",
            "Quantidade:  995\n",
            "Preço:   2.30\n",
            "\n",
            "Descrição:  alface\n",
            "Quantidade:  495\n",
            "Preço:   0.45\n",
            "\n",
            "Descrição:  batata\n",
            "Quantidade:  1991\n",
            "Preço:   1.20\n",
            "\n",
            "Descrição:  feijão\n",
            "Quantidade:  100\n",
            "Preço:   1.50\n",
            "\n"
          ],
          "name": "stdout"
        }
      ]
    },
    {
      "cell_type": "markdown",
      "metadata": {
        "id": "Jjn6s_Yh9py9",
        "colab_type": "text"
      },
      "source": [
        "\n",
        "# ***TUPLAS***"
      ]
    },
    {
      "cell_type": "code",
      "metadata": {
        "id": "K_JqTIpPhswT",
        "colab_type": "code",
        "colab": {}
      },
      "source": [
        "tupla = ()"
      ],
      "execution_count": 0,
      "outputs": []
    },
    {
      "cell_type": "code",
      "metadata": {
        "id": "CtGqUICi25Zm",
        "colab_type": "code",
        "outputId": "c635a0e5-358c-483d-aed7-751bc7f41a7a",
        "colab": {
          "base_uri": "https://localhost:8080/",
          "height": 33
        }
      },
      "source": [
        "lanche = 'hambúrguer', 'suco', 'pizza', 'pudim'\n",
        "print(lanche)"
      ],
      "execution_count": 0,
      "outputs": [
        {
          "output_type": "stream",
          "text": [
            "('hambúrguer', 'suco', 'pizza', 'pudim')\n"
          ],
          "name": "stdout"
        }
      ]
    },
    {
      "cell_type": "code",
      "metadata": {
        "id": "c6Ccd8yW3O0y",
        "colab_type": "code",
        "outputId": "2456b14e-1b58-4479-ead4-4955b9fc74f0",
        "colab": {
          "base_uri": "https://localhost:8080/",
          "height": 34
        }
      },
      "source": [
        "print(lanche[2])"
      ],
      "execution_count": 0,
      "outputs": [
        {
          "output_type": "stream",
          "text": [
            "pizza\n"
          ],
          "name": "stdout"
        }
      ]
    },
    {
      "cell_type": "code",
      "metadata": {
        "id": "Wzqp9JgU3T0i",
        "colab_type": "code",
        "outputId": "d35b13a0-7280-4bee-a0a5-16e5f3585e4e",
        "colab": {
          "base_uri": "https://localhost:8080/",
          "height": 34
        }
      },
      "source": [
        "print(lanche[0:2])"
      ],
      "execution_count": 0,
      "outputs": [
        {
          "output_type": "stream",
          "text": [
            "['hamburguer', 'suco']\n"
          ],
          "name": "stdout"
        }
      ]
    },
    {
      "cell_type": "code",
      "metadata": {
        "id": "1f4ojEtp3YtE",
        "colab_type": "code",
        "outputId": "d921e4f1-c777-4f50-fbaf-6f7e5a146118",
        "colab": {
          "base_uri": "https://localhost:8080/",
          "height": 34
        }
      },
      "source": [
        "print(lanche[1:])"
      ],
      "execution_count": 0,
      "outputs": [
        {
          "output_type": "stream",
          "text": [
            "['suco', 'pizza', 'pudim']\n"
          ],
          "name": "stdout"
        }
      ]
    },
    {
      "cell_type": "code",
      "metadata": {
        "id": "GBiAQjJf3dUd",
        "colab_type": "code",
        "outputId": "ac97eb7f-d4b7-41f5-c537-9673fe79b882",
        "colab": {
          "base_uri": "https://localhost:8080/",
          "height": 34
        }
      },
      "source": [
        "print(lanche[-1])"
      ],
      "execution_count": 0,
      "outputs": [
        {
          "output_type": "stream",
          "text": [
            "pudim\n"
          ],
          "name": "stdout"
        }
      ]
    },
    {
      "cell_type": "code",
      "metadata": {
        "id": "Y96E34Kc3pDX",
        "colab_type": "code",
        "outputId": "2cecc1fa-009d-4878-a179-a32d25c6eaa8",
        "colab": {
          "base_uri": "https://localhost:8080/",
          "height": 34
        }
      },
      "source": [
        "len(lanche)"
      ],
      "execution_count": 0,
      "outputs": [
        {
          "output_type": "execute_result",
          "data": {
            "text/plain": [
              "4"
            ]
          },
          "metadata": {
            "tags": []
          },
          "execution_count": 11
        }
      ]
    },
    {
      "cell_type": "code",
      "metadata": {
        "id": "ITmqB7xJPYsd",
        "colab_type": "code",
        "outputId": "e647fa09-a610-4d65-b715-b25e14464496",
        "colab": {
          "base_uri": "https://localhost:8080/",
          "height": 87
        }
      },
      "source": [
        "for x in lanche:\n",
        "  print(x)"
      ],
      "execution_count": 0,
      "outputs": [
        {
          "output_type": "stream",
          "text": [
            "hambÚrguer\n",
            "suco\n",
            "pizza\n",
            "pudim\n"
          ],
          "name": "stdout"
        }
      ]
    },
    {
      "cell_type": "code",
      "metadata": {
        "id": "N4sKvoes3tOS",
        "colab_type": "code",
        "outputId": "1ab47e5f-bf9d-4768-9b15-b0bbde719aa8",
        "colab": {
          "base_uri": "https://localhost:8080/",
          "height": 87
        }
      },
      "source": [
        "for x in range(0, len(lanche)):\n",
        "  print(x)"
      ],
      "execution_count": 0,
      "outputs": [
        {
          "output_type": "stream",
          "text": [
            "0\n",
            "1\n",
            "2\n",
            "3\n"
          ],
          "name": "stdout"
        }
      ]
    },
    {
      "cell_type": "code",
      "metadata": {
        "id": "pIqNhDo5ORXo",
        "colab_type": "code",
        "outputId": "8ceafa32-f0cd-44b9-9d29-6dd027a516af",
        "colab": {
          "base_uri": "https://localhost:8080/",
          "height": 87
        }
      },
      "source": [
        "for x in range(0, len(lanche)):\n",
        "  print(lanche[x])"
      ],
      "execution_count": 0,
      "outputs": [
        {
          "output_type": "stream",
          "text": [
            "hambÚrguer\n",
            "suco\n",
            "pizza\n",
            "pudim\n"
          ],
          "name": "stdout"
        }
      ]
    },
    {
      "cell_type": "code",
      "metadata": {
        "id": "6DzYKCxJsv-0",
        "colab_type": "code",
        "colab": {}
      },
      "source": [
        ""
      ],
      "execution_count": 0,
      "outputs": []
    },
    {
      "cell_type": "code",
      "metadata": {
        "id": "HoOzHmbYP7Ri",
        "colab_type": "code",
        "outputId": "3a50b615-06a2-4cc8-95c1-8db25f08e00f",
        "colab": {
          "base_uri": "https://localhost:8080/",
          "height": 87
        }
      },
      "source": [
        "for pos, comida in enumerate(lanche):\n",
        "  print(f'Eu vou comer {comida} na posição {pos}')"
      ],
      "execution_count": 0,
      "outputs": [
        {
          "output_type": "stream",
          "text": [
            "Eu vou comer hambÚrguer na posição 0\n",
            "Eu vou comer suco na posição 1\n",
            "Eu vou comer pizza na posição 2\n",
            "Eu vou comer pudim na posição 3\n"
          ],
          "name": "stdout"
        }
      ]
    },
    {
      "cell_type": "code",
      "metadata": {
        "id": "apuhfpBsTXZ4",
        "colab_type": "code",
        "outputId": "93b5d6d1-aa44-4e67-e37d-e9c0b908930a",
        "colab": {
          "base_uri": "https://localhost:8080/",
          "height": 34
        }
      },
      "source": [
        "print(sorted(lanche))"
      ],
      "execution_count": 0,
      "outputs": [
        {
          "output_type": "stream",
          "text": [
            "['hambúrguer', 'pizza', 'pudim', 'suco']\n"
          ],
          "name": "stdout"
        }
      ]
    },
    {
      "cell_type": "markdown",
      "metadata": {
        "id": "mfPJ7rOzqjs3",
        "colab_type": "text"
      },
      "source": [
        "quantidade → 2, 5, 4 == 3\\\n",
        "     índice   →→→   0º 1º 2º"
      ]
    },
    {
      "cell_type": "code",
      "metadata": {
        "id": "QlU5jNZ1o3B_",
        "colab_type": "code",
        "outputId": "4651b310-34ba-4564-f5e2-126b32facbd7",
        "colab": {
          "base_uri": "https://localhost:8080/",
          "height": 141
        }
      },
      "source": [
        "a = (2, 5, 4, 8)\n",
        "b = (5, 8, 1, 2)\n",
        "count = 0\n",
        "\n",
        "for x in range(0, len(b)):\n",
        "  print(f'{a[count]} x {b[count]} = {a[count] * b[count]}')\n",
        "  count += 1\n",
        "\n",
        "print('~' * 30)\n",
        "\n",
        "c = b + a\n",
        "print(c)\n",
        "print(c.index(8, 2)) # ← DESLOCAMENTO\n",
        "\n",
        "#while index(len(c)) not in index(8):\n",
        "#  print('', end = ' ')"
      ],
      "execution_count": 0,
      "outputs": [
        {
          "output_type": "stream",
          "text": [
            "2 x 5 = 10\n",
            "5 x 8 = 40\n",
            "4 x 1 = 4\n",
            "8 x 2 = 16\n",
            "~~~~~~~~~~~~~~~~~~~~~~~~~~~~~~\n",
            "(5, 8, 1, 2, 2, 5, 4, 8)\n",
            "7\n"
          ],
          "name": "stdout"
        }
      ]
    },
    {
      "cell_type": "code",
      "metadata": {
        "id": "ITr8PyKBzX2J",
        "colab_type": "code",
        "colab": {}
      },
      "source": [
        ""
      ],
      "execution_count": 0,
      "outputs": []
    },
    {
      "cell_type": "markdown",
      "metadata": {
        "id": "H2P1Mlklp8uE",
        "colab_type": "text"
      },
      "source": [
        "<hr>\n",
        "<hr>\n",
        "<hr>"
      ]
    },
    {
      "cell_type": "markdown",
      "metadata": {
        "id": "IWRm2xXL46iP",
        "colab_type": "text"
      },
      "source": [
        "<hr>\n",
        "<hr>\n",
        "\n",
        "# ***Funções***\n",
        "<hr>\n",
        "<hr>\n",
        "<br>\n",
        "\n",
        "*São especialmente interessantes para isolar uam tarefa específica em um trecho do programa. Isso permite que a solução de um programa seja reutilizada em outras partes do programa, sem precisar repetir as mesmas linhas.*\n",
        "\n",
        "*→ Características:*\n",
        "\n",
        "* *Para definir uma nova função, utiliza-se a instrução <code>def</code>.*<br>\n",
        "* *Funções são identificadas por <code>()</code> no final do nome.*<br>\n",
        "* *Uma função deve resolver apenas um problema.*<br>\n",
        "* *Quanto mais genérica, melhor, a longo prazo.*"
      ]
    },
    {
      "cell_type": "code",
      "metadata": {
        "id": "ii9YfqQ8gbnG",
        "colab_type": "code",
        "outputId": "9863c052-36c8-476b-b879-432abfea4e7f",
        "colab": {
          "base_uri": "https://localhost:8080/",
          "height": 166
        }
      },
      "source": [
        "def mostraLinha():\n",
        "  print('-' * 29)\n",
        "\n",
        "mostraLinha()\n",
        "print('     SISTEMAS DE ALUNOS')\n",
        "mostraLinha()\n",
        "mostraLinha()\n",
        "print('   CADASTRO DE FUNCIONÁRIO')\n",
        "mostraLinha()\n",
        "mostraLinha()\n",
        "print('       ERRO DO SISTEMA ')\n",
        "mostraLinha()"
      ],
      "execution_count": 0,
      "outputs": [
        {
          "output_type": "stream",
          "text": [
            "-----------------------------\n",
            "     SISTEMAS DE ALUNOS\n",
            "-----------------------------\n",
            "-----------------------------\n",
            "   CADASTRO DE FUNCIONÁRIO\n",
            "-----------------------------\n",
            "-----------------------------\n",
            "       ERRO DO SISTEMA \n",
            "-----------------------------\n"
          ],
          "name": "stdout"
        }
      ]
    },
    {
      "cell_type": "code",
      "metadata": {
        "id": "flnDBuC-jAUb",
        "colab_type": "code",
        "outputId": "47b936aa-6d07-41d2-a81e-9e7a808e6b87",
        "colab": {
          "base_uri": "https://localhost:8080/",
          "height": 166
        }
      },
      "source": [
        "def mensagem(msg):\n",
        "  print('-' * 30)\n",
        "  print(msg)\n",
        "  print('-' * 30)\n",
        "\n",
        "mensagem('     SISTEMAS DE ALUNOS')\n",
        "mensagem('   CADASTRO DE FUNCIONÁRIO')\n",
        "mensagem('       ERRO DO SISTEMA ')"
      ],
      "execution_count": 0,
      "outputs": [
        {
          "output_type": "stream",
          "text": [
            "------------------------------\n",
            "     SISTEMAS DE ALUNOS\n",
            "------------------------------\n",
            "------------------------------\n",
            "   CADASTRO DE FUNCIONÁRIO\n",
            "------------------------------\n",
            "------------------------------\n",
            "       ERRO DO SISTEMA \n",
            "------------------------------\n"
          ],
          "name": "stdout"
        }
      ]
    },
    {
      "cell_type": "code",
      "metadata": {
        "id": "ISs3m3AZnute",
        "colab_type": "code",
        "outputId": "7580b7a5-8fa7-4970-a1a2-cd438054f977",
        "colab": {
          "base_uri": "https://localhost:8080/",
          "height": 116
        }
      },
      "source": [
        "def contador(* num): # DESEMPACOTAMENTO\n",
        "  print(len(num))\n",
        "  for x in num:\n",
        "    print(x, end = ' ')\n",
        "  print('FIM!')\n",
        "\n",
        "contador(2, 1, 7)\n",
        "contador(8, 0)\n",
        "contador(4, 4, 7, 6, 2)"
      ],
      "execution_count": 0,
      "outputs": [
        {
          "output_type": "stream",
          "text": [
            "3\n",
            "2 1 7 FIM!\n",
            "2\n",
            "8 0 FIM!\n",
            "5\n",
            "4 4 7 6 2 FIM!\n"
          ],
          "name": "stdout"
        }
      ]
    },
    {
      "cell_type": "code",
      "metadata": {
        "id": "sDh89cIlo8Yt",
        "colab_type": "code",
        "outputId": "39a9925d-836c-4de0-88ba-499d75f70d55",
        "colab": {
          "base_uri": "https://localhost:8080/",
          "height": 33
        }
      },
      "source": [
        "def dobra(lst):\n",
        "  pos = 0\n",
        "  while pos < len(lst):\n",
        "    lst[pos] *= 2\n",
        "    pos += 1\n",
        "\n",
        "valores = [7, 2, 5, 0, 4]\n",
        "dobra(valores)\n",
        "print(valores)"
      ],
      "execution_count": 0,
      "outputs": [
        {
          "output_type": "stream",
          "text": [
            "[14, 4, 10, 0, 8]\n"
          ],
          "name": "stdout"
        }
      ]
    },
    {
      "cell_type": "code",
      "metadata": {
        "id": "-wsPgyM545Ag",
        "colab_type": "code",
        "outputId": "77cf0b6a-a091-44bb-da7c-40d085cef925",
        "colab": {
          "base_uri": "https://localhost:8080/",
          "height": 166
        }
      },
      "source": [
        "# Como declarar uma função de soma que recebe dois números como parâmetros e os imprime na tela:\n",
        "\n",
        "def soma(a, b): # parâmetro (a + b)\n",
        "  print(f'A = {a} e B = {b}')\n",
        "  s = a + b\n",
        "  print(f'A soma A + B = {s}')\n",
        "  print()\n",
        "soma(b=2, a=9) \n",
        "soma(7, 8)      # Os parâmetros são substituídos na mesma ordem em que foram definidos, \n",
        "soma(10, 15)    # ou seja, o 1º valor como a e o 2º como b."
      ],
      "execution_count": 0,
      "outputs": [
        {
          "output_type": "stream",
          "text": [
            "A = 9 e B = 2\n",
            "A soma A + B = 11\n",
            "\n",
            "A = 7 e B = 8\n",
            "A soma A + B = 15\n",
            "\n",
            "A = 10 e B = 15\n",
            "A soma A + B = 25\n",
            "\n"
          ],
          "name": "stdout"
        }
      ]
    },
    {
      "cell_type": "markdown",
      "metadata": {
        "id": "EsAyd9ytkNz0",
        "colab_type": "text"
      },
      "source": [
        "**<h4>return</h4>**\n",
        "\n",
        "*Essa instrução é importante pois permite que os parâmetros declados sejam tratados dentro da função, e, dessa forma, o resultado, seja maipulado dentro do programa.*"
      ]
    },
    {
      "cell_type": "code",
      "metadata": {
        "id": "tHScHKfjFA7K",
        "colab_type": "code",
        "outputId": "7b96f843-ff4a-41fd-e948-6e936d51755a",
        "colab": {
          "base_uri": "https://localhost:8080/",
          "height": 33
        }
      },
      "source": [
        "def soma(a, b):\n",
        "  return a + b\n",
        "print(soma(2, 9))"
      ],
      "execution_count": 0,
      "outputs": [
        {
          "output_type": "stream",
          "text": [
            "11\n"
          ],
          "name": "stdout"
        }
      ]
    },
    {
      "cell_type": "code",
      "metadata": {
        "id": "BbJY0VKQbm4W",
        "colab_type": "code",
        "outputId": "66c05b63-b73b-4c12-d947-06da1d210052",
        "colab": {
          "base_uri": "https://localhost:8080/",
          "height": 66
        }
      },
      "source": [
        "def par(x):\n",
        "  return x % 2 == 0\n",
        "print(par(2))\n",
        "print(par(3))\n",
        "print(par(10))"
      ],
      "execution_count": 0,
      "outputs": [
        {
          "output_type": "stream",
          "text": [
            "True\n",
            "False\n",
            "True\n"
          ],
          "name": "stdout"
        }
      ]
    },
    {
      "cell_type": "code",
      "metadata": {
        "id": "H5Povso9cSfe",
        "colab_type": "code",
        "outputId": "e3c6b647-373e-4fbd-c8b3-65bec22c8fe2",
        "colab": {
          "base_uri": "https://localhost:8080/",
          "height": 50
        }
      },
      "source": [
        "def par(x):         # Definindo função \"par\"\n",
        "  return x % 2 == 0 # Verificação de igualdade. Retorna True ou False   \n",
        "def poui(x):        \n",
        "  if par(x):        # Reutilizando a função \"par\" na função \"poui\"\n",
        "    return 'par'    # Se a função \"par\" retorna True, essa linha de if é executada\n",
        "  else:\n",
        "    return 'ímpar'  # Se a função \"par\" retorna False, essa linha de else é executada\n",
        "print(poui(4))\n",
        "print(poui(5))"
      ],
      "execution_count": 0,
      "outputs": [
        {
          "output_type": "stream",
          "text": [
            "par\n",
            "ímpar\n"
          ],
          "name": "stdout"
        }
      ]
    },
    {
      "cell_type": "code",
      "metadata": {
        "id": "cW39jDBAobMD",
        "colab_type": "code",
        "outputId": "89d84101-a73c-4a78-bb10-496a5b899528",
        "colab": {
          "base_uri": "https://localhost:8080/",
          "height": 33
        }
      },
      "source": [
        "def somar(a=0, b=0, c=0):\n",
        "  s = a + b + c\n",
        "  return s\n",
        "\n",
        "r1 = somar(3, 2, 5)\n",
        "r2 = somar(1, 7)\n",
        "r3 = somar(4)\n",
        "\n",
        "print(f'Meus cálculos deram {r1}, {r2}, {r3}.')"
      ],
      "execution_count": 0,
      "outputs": [
        {
          "output_type": "stream",
          "text": [
            "Meus cálculos deram 10, 8, 4.\n"
          ],
          "name": "stdout"
        }
      ]
    },
    {
      "cell_type": "markdown",
      "metadata": {
        "id": "WbQbh7bidp8w",
        "colab_type": "text"
      },
      "source": [
        "*A função <code>return</code> faz com que a função pare de executar e que o valor seja retornado imediatamente ao programa ou à função que a chamou. Assim, pode-se entender que a instrução <code>return</code> como uma interrupção da execução da função, seguida do retorno do valor. As linhas da função após a instrução <code>return</code> são ignoradas de forma similar à instrução <code>break</code> dentro de um <code>while</code> ou <code>for</code>.*"
      ]
    },
    {
      "cell_type": "markdown",
      "metadata": {
        "id": "gw1BEmRZj7fI",
        "colab_type": "text"
      },
      "source": [
        "<h3>Exercício"
      ]
    },
    {
      "cell_type": "code",
      "metadata": {
        "id": "fH7ShVOOj_TY",
        "colab_type": "code",
        "outputId": "86b5a3b6-13e9-4250-88b1-a00e1c204643",
        "colab": {
          "base_uri": "https://localhost:8080/",
          "height": 66
        }
      },
      "source": [
        "# Exercício 8.1\n",
        "\n",
        "def num(n1, n2):\n",
        "  if n1 >= n2:\n",
        "    maior = n1\n",
        "  else:\n",
        "    maior = n2\n",
        "  return maior\n",
        "\n",
        "print(num(5, 6))\n",
        "print(num(2, 1))\n",
        "print(num(7, 7))"
      ],
      "execution_count": 0,
      "outputs": [
        {
          "output_type": "stream",
          "text": [
            "6\n",
            "2\n",
            "7\n"
          ],
          "name": "stdout"
        }
      ]
    },
    {
      "cell_type": "code",
      "metadata": {
        "id": "o7JSeqniK-p5",
        "colab_type": "code",
        "outputId": "aa69addc-f015-4ea5-c87e-36648b183388",
        "colab": {
          "base_uri": "https://localhost:8080/",
          "height": 66
        }
      },
      "source": [
        "# Exercício 8.2\n",
        "\n",
        "def mult(a, b):\n",
        "  return a % b == 0\n",
        "  \n",
        "print(mult(8, 4))\n",
        "print(mult(7, 3))\n",
        "print(mult(5, 5))"
      ],
      "execution_count": 0,
      "outputs": [
        {
          "output_type": "stream",
          "text": [
            "True\n",
            "False\n",
            "True\n"
          ],
          "name": "stdout"
        }
      ]
    },
    {
      "cell_type": "code",
      "metadata": {
        "id": "vbZTzhDpLkDx",
        "colab_type": "code",
        "outputId": "02405003-4472-4b70-dba0-3ec09fe81836",
        "colab": {
          "base_uri": "https://localhost:8080/",
          "height": 50
        }
      },
      "source": [
        "# Exercício 8.3\n",
        "\n",
        "def area(a):\n",
        "  return a ** 2\n",
        "\n",
        "print(area(4))\n",
        "print(area(9))"
      ],
      "execution_count": 0,
      "outputs": [
        {
          "output_type": "stream",
          "text": [
            "16\n",
            "81\n"
          ],
          "name": "stdout"
        }
      ]
    },
    {
      "cell_type": "code",
      "metadata": {
        "id": "rGShdg8tL6qh",
        "colab_type": "code",
        "outputId": "c2130d47-99be-4bc9-ce2d-9506087763ed",
        "colab": {
          "base_uri": "https://localhost:8080/",
          "height": 50
        }
      },
      "source": [
        "# Exercício 8.4\n",
        "\n",
        "def area(b, a):\n",
        "  return (b * a) / 2\n",
        "\n",
        "print(area(6, 9))\n",
        "print(area(5, 8))"
      ],
      "execution_count": 0,
      "outputs": [
        {
          "output_type": "stream",
          "text": [
            "27.0\n",
            "20.0\n"
          ],
          "name": "stdout"
        }
      ]
    },
    {
      "cell_type": "markdown",
      "metadata": {
        "colab_type": "text",
        "id": "G8vY1txxrYte"
      },
      "source": [
        "<hr>"
      ]
    },
    {
      "cell_type": "code",
      "metadata": {
        "id": "Ohj-vjCC2CEy",
        "colab_type": "code",
        "outputId": "6927dc6d-0f17-4ce3-94ab-80274fcb281a",
        "colab": {
          "base_uri": "https://localhost:8080/",
          "height": 50
        }
      },
      "source": [
        "# Programa 8.1 - Pesquisa em uma lista\n",
        "\n",
        "def pesquise(lista, valor):\n",
        "  for x, e in enumerate(lista):\n",
        "    if e == valor:\n",
        "      return x\n",
        "  return None\n",
        "  \n",
        "L = [10, 20, 25, 30]\n",
        "print(pesquise(L, 25))\n",
        "print(pesquise(L, 30))"
      ],
      "execution_count": 0,
      "outputs": [
        {
          "output_type": "stream",
          "text": [
            "2\n",
            "3\n"
          ],
          "name": "stdout"
        }
      ]
    },
    {
      "cell_type": "code",
      "metadata": {
        "id": "cSZdCpx8-Lbn",
        "colab_type": "code",
        "outputId": "5c8563f3-8058-4b49-e0d1-742225836e36",
        "colab": {
          "base_uri": "https://localhost:8080/",
          "height": 50
        }
      },
      "source": [
        "# Calculando a média dos valores de uma lista\n",
        "\n",
        "def soma(L):\n",
        "  total = 0\n",
        "  for e in L:\n",
        "    total += e\n",
        "  return total\n",
        "def media(L):\n",
        "  return soma(L) / len(L)\n",
        "\n",
        "L = [1, 2, 3, 4, 5]\n",
        "print(soma(L))\n",
        "print(media(L))"
      ],
      "execution_count": 0,
      "outputs": [
        {
          "output_type": "stream",
          "text": [
            "15\n",
            "3.0\n"
          ],
          "name": "stdout"
        }
      ]
    },
    {
      "cell_type": "code",
      "metadata": {
        "id": "BzVhQS4_sGLw",
        "colab_type": "code",
        "outputId": "352ce911-76eb-40df-aaef-925a38b70840",
        "colab": {
          "base_uri": "https://localhost:8080/",
          "height": 33
        }
      },
      "source": [
        "# Definindo a função media de outra forma\n",
        "\n",
        "def media(L):\n",
        "  total = 0\n",
        "  for e in L:\n",
        "    total += e\n",
        "  return total / len(L)\n",
        "\n",
        "L = [1, 2, 3, 4, 5]\n",
        "print(media(L))"
      ],
      "execution_count": 0,
      "outputs": [
        {
          "output_type": "stream",
          "text": [
            "3.0\n"
          ],
          "name": "stdout"
        }
      ]
    },
    {
      "cell_type": "markdown",
      "metadata": {
        "id": "1wOf6GpWtokB",
        "colab_type": "text"
      },
      "source": [
        "*As duas formas são válidas. A primeira é mais interessante a longo prazo porque em algum momento do programa o resultado da soma pode ser requerido.*"
      ]
    },
    {
      "cell_type": "markdown",
      "metadata": {
        "id": "o83lYyf6uF6J",
        "colab_type": "text"
      },
      "source": [
        "**<h4>O que não fazer:</h4>**"
      ]
    },
    {
      "cell_type": "code",
      "metadata": {
        "id": "5yE2obFOwd9T",
        "colab_type": "code",
        "outputId": "c4fc3df1-ab19-4204-9da8-a26d57e1a5d0",
        "colab": {
          "base_uri": "https://localhost:8080/",
          "height": 50
        }
      },
      "source": [
        "# Programa 8.2 - Como não escrever uma função\n",
        "\n",
        "def soma(L):\n",
        "  total = 0\n",
        "  x = 0\n",
        "  while x < 5:\n",
        "    total += L[x]\n",
        "    x += 1\n",
        "  return total\n",
        "  \n",
        "L = [1, 7, 2, 9, 15]\n",
        "print(soma(L))\n",
        "print(soma([7, 9, 12, 3, 100, 20, 4])) # Seleciona apenas o 5 primeiros valores pois a iteração em x percorre \n",
        "                                       # até o 5 índice da lista."
      ],
      "execution_count": 0,
      "outputs": [
        {
          "output_type": "stream",
          "text": [
            "34\n",
            "131\n"
          ],
          "name": "stdout"
        }
      ]
    },
    {
      "cell_type": "markdown",
      "metadata": {
        "id": "iYlebqLPugzP",
        "colab_type": "text"
      },
      "source": [
        "*A forma que a função <code>soma</code> foi definida não é de uma maneira genérica, ou melhor, só funciona em casos em que se deve somar listas com cinco elementos. A função deve somar qualquer lista, já que o que se presume é que listas de diferentes tamanhos são repassadas.*"
      ]
    },
    {
      "cell_type": "markdown",
      "metadata": {
        "id": "Xie6fepAyaDA",
        "colab_type": "text"
      },
      "source": [
        "*Função que calcula o fatoria de um número:*<br>\n",
        "*Para calcular o fatorial, multiplica-se o número por todos os números que o precedem até chegar em 1.*\n",
        "* *fatorial de 3: 3 x 2 x 1 = 6*\n",
        "* *fatorial de 5: 5 x 4 x 3 x 2 x 1 = 120*"
      ]
    },
    {
      "cell_type": "code",
      "metadata": {
        "id": "3qydPQv-z2Af",
        "colab_type": "code",
        "colab": {}
      },
      "source": [
        "# Programa 8.3 - Cálculo do fatoral\n",
        "def fatorial(n):\n",
        "  fat = 1\n",
        "  while n > 1:\n",
        "    fat *= n\n",
        "    n -= 1\n",
        "  return fat"
      ],
      "execution_count": 0,
      "outputs": []
    },
    {
      "cell_type": "code",
      "metadata": {
        "id": "JyKZW7Qh168x",
        "colab_type": "code",
        "colab": {}
      },
      "source": [
        "# Programa 8.4 - Outra forma de calcular o fatorial\n",
        "def fatoria(n):\n",
        "  fat = 1\n",
        "  x = 1\n",
        "  while x <= n:\n",
        "    fat *= x\n",
        "    x += 1\n",
        "  return fat"
      ],
      "execution_count": 0,
      "outputs": []
    },
    {
      "cell_type": "markdown",
      "metadata": {
        "id": "zjlBdnlBx8Q1",
        "colab_type": "text"
      },
      "source": [
        "<h3>Exercício"
      ]
    },
    {
      "cell_type": "code",
      "metadata": {
        "id": "vSkpBGyHyB7E",
        "colab_type": "code",
        "colab": {}
      },
      "source": [
        "# Exercício 8.5"
      ],
      "execution_count": 0,
      "outputs": []
    },
    {
      "cell_type": "code",
      "metadata": {
        "id": "0qFjqn8YyGAl",
        "colab_type": "code",
        "outputId": "42c8e35c-4132-4c28-83d2-275c7293aa8b",
        "colab": {
          "base_uri": "https://localhost:8080/",
          "height": 50
        }
      },
      "source": [
        "# Exercício 8.6\n",
        "\n",
        "def soma(L):\n",
        "  total = 0\n",
        "  for x in range(0, len(L)):\n",
        "    total += L[x]\n",
        "  return total\n",
        "\n",
        "L = [1, 2, 3, 4, 5]\n",
        "print(soma(L))\n",
        "print(soma([7, 9, 12, 3, 100, 20, 4]))"
      ],
      "execution_count": 0,
      "outputs": [
        {
          "output_type": "stream",
          "text": [
            "15\n",
            "155\n"
          ],
          "name": "stdout"
        }
      ]
    },
    {
      "cell_type": "markdown",
      "metadata": {
        "id": "TYrgnBl1_ADu",
        "colab_type": "text"
      },
      "source": [
        "<hr>\n",
        "<h3>Variáveis locais e globais</h3>\n",
        "<hr>\n",
        "\n",
        "*→ Variáveis internas ou locais e variáveis externas ou globais:*<br>\n",
        "* *Variável local a uma função existe apenas dentro dela, sendo normalmente inicializada a cada chamada. Assim, não sendo possível ser acessada fora do escopo da função a que está sendo declarada.* \n",
        "* *Variável global é aquela que é declarada fora do escopo da função, assim, sendo possível de ser acessada por todo o módulo e por todos os módulos que importam o módulo que a definiu.*"
      ]
    },
    {
      "cell_type": "code",
      "metadata": {
        "id": "DPH37XiBCwPL",
        "colab_type": "code",
        "outputId": "cacc5121-2508-47b8-e719-815762bec3d4",
        "colab": {
          "base_uri": "https://localhost:8080/",
          "height": 50
        }
      },
      "source": [
        "# Exemplo dos dois casos:\n",
        "\n",
        "EMPRESA = 'Unidos Venceremos Ltda' # ← VARIÁVEL GLOBAL\n",
        "def imprime_cabeçalho():\n",
        "  print(EMPRESA)\n",
        "  print('-' * len(EMPRESA))\n",
        "\n",
        "imprime_cabeçalho()"
      ],
      "execution_count": 0,
      "outputs": [
        {
          "output_type": "stream",
          "text": [
            "Unidos Venceremos Ltda\n",
            "----------------------\n"
          ],
          "name": "stdout"
        }
      ]
    },
    {
      "cell_type": "markdown",
      "metadata": {
        "id": "Ly44DOTtJx9n",
        "colab_type": "text"
      },
      "source": [
        "*Variáveis globais devem ser utilizadas o mínimo possível, pois dificultam a leitura e violam o encapsulamento da função.*<br>\n",
        "* *ENCAPSULAMENTO → O fato de uma função conter ou esconder os detalhes de sua operação, de forma que seu funcionamento seja entendido analisando-se apenas **os parâmetros de entrada e o código da própria função**.*<br>\n",
        "\n",
        "*A dificuldade da leitura gerada pela utilização excessiva de variáveis globais é:*<br>\n",
        "* *Ter de procurar pela definição e conteúdos fora da função em si, que podem mudar entre diferentes chamadas;*<br>\n",
        "* *Pode ter seu valor alterado por qualquer função;*<br>\n",
        "* *Comprometer o encapsulamento porque a função depende de uma variável externa.*"
      ]
    },
    {
      "cell_type": "code",
      "metadata": {
        "id": "WJTRdSUuUR4M",
        "colab_type": "code",
        "colab": {}
      },
      "source": [
        "╔═══════════════════════════════════╗\n",
        "║ ╔═══════════════════════════════╗ ║\n",
        "║ ║def teste(b):                  ╨ ╨              a = 8\n",
        "║ ║  a = 8                     ●------→ escopo     b = 5 + 4\n",
        "║ ║  b += 4                       ╥ ╥   local      c = 2\n",
        "║ ║  c = 2                        ║ ║\n",
        "║ ║  print(f'A dentro vale {a}')  ║ ║\n",
        "║ ║  print(f'B dentro vale {b}')  ║ ║\n",
        "║ ║  print(f'C dentro vale {c}')  ║ ║\n",
        "║ ╚═══════════════════════════════╝ ║   \n",
        "║  a = 5                            ╨\n",
        "║  teste(a)                      ●-----→ escopo    a = 5    \n",
        "║  print(f'A fora vale {a}')        ╥    global\n",
        "║  print(f'B fora vale {b}') ┌erro┐ ╨\n",
        "║  print(f'C fora vale {c}') └erro┴────► Devido às variáveis que estão no escopo local⁯                \n",
        "╚═══════════════════════════════════╛"
      ],
      "execution_count": 0,
      "outputs": []
    },
    {
      "cell_type": "code",
      "metadata": {
        "id": "qtjwptvAFBWu",
        "colab_type": "code",
        "outputId": "22b7c3d4-4a32-4b17-bf39-2ab7e3e4ffeb",
        "colab": {
          "base_uri": "https://localhost:8080/",
          "height": 66
        }
      },
      "source": [
        "# Cuidados ao alterar uma variável global dentro de uma função:\n",
        "\n",
        "a = 5\n",
        "def muda_e_imprime():\n",
        "  a = 7\n",
        "  print(f'A dentro da função: {a}')\n",
        "  \n",
        "print(f'a antes de mudar: {a}')\n",
        "muda_e_imprime()\n",
        "print(f'a depois de mudar: {a}')"
      ],
      "execution_count": 0,
      "outputs": [
        {
          "output_type": "stream",
          "text": [
            "a antes de mudar: 5\n",
            "A dentro da função: 7\n",
            "a depois de mudar: 5\n"
          ],
          "name": "stdout"
        }
      ]
    },
    {
      "cell_type": "markdown",
      "metadata": {
        "id": "8uIToTJMVkTO",
        "colab_type": "text"
      },
      "source": [
        "*Para modificar uma variável global dentro de uma função, deve-se informar que está usando uma variável global antes de inicializá-la, na primeira linha da função. Essa definição é feita com a **instrução** <code>global</code>.*"
      ]
    },
    {
      "cell_type": "code",
      "metadata": {
        "id": "QAE4HnqwWCXf",
        "colab_type": "code",
        "outputId": "0739b19e-d007-4fc4-eedd-046a9674f7ed",
        "colab": {
          "base_uri": "https://localhost:8080/",
          "height": 66
        }
      },
      "source": [
        "a = 5 # Esta variável perde seu valor quando a instrução global é executada.\n",
        "def muda_e_imprime():\n",
        "  global a\n",
        "  a = 7 # Após a execução da instrução \"global\", a variável \"a\" recebe o valor \"7\" globalmente.\n",
        "  print(f'A dentro da função: {a}')\n",
        "  \n",
        "print(f'a antes de mudar: {a}')\n",
        "muda_e_imprime()\n",
        "print(f'a depois de mudar: {a}')"
      ],
      "execution_count": 0,
      "outputs": [
        {
          "output_type": "stream",
          "text": [
            "a antes de mudar: 5\n",
            "A dentro da função: 7\n",
            "a depois de mudar: 7\n"
          ],
          "name": "stdout"
        }
      ]
    },
    {
      "cell_type": "markdown",
      "metadata": {
        "id": "PWWaviI0qMtk",
        "colab_type": "text"
      },
      "source": [
        "<hr>\n",
        "<h3>Funções recursivas</h3>\n",
        "<hr>\n",
        "\n",
        "*→ Quando a função chama a si mesma.*<br>\n",
        "*O problema do fatorial é interessante para mostrar o conceito de recursividade. Pode-se definir o fatorial de um número como sendo esse número multiplicado pelo fatorial de seu antecessor.*<br>\n",
        "*Em Python, definiríamos a função recursiva para calculo do fatorial como:*"
      ]
    },
    {
      "cell_type": "code",
      "metadata": {
        "id": "ti0os-gQu9sQ",
        "colab_type": "code",
        "outputId": "9e20273b-63e0-4ae2-e401-87282837c3e3",
        "colab": {
          "base_uri": "https://localhost:8080/",
          "height": 33
        }
      },
      "source": [
        "# Programa 8.5 - Função recursiva do fatorial\n",
        "\n",
        "def fatorial(n):\n",
        "  if n == 0 or n == 1:\n",
        "    return 1\n",
        "  else:\n",
        "    return n * fatorial(n-1)\n",
        "\n",
        "print(fatorial(5))"
      ],
      "execution_count": 0,
      "outputs": [
        {
          "output_type": "stream",
          "text": [
            "120\n"
          ],
          "name": "stdout"
        }
      ]
    },
    {
      "cell_type": "code",
      "metadata": {
        "id": "rzcdwhqSvr1c",
        "colab_type": "code",
        "outputId": "9228174d-4c4d-4bcf-8bfc-693c7af08632",
        "colab": {
          "base_uri": "https://localhost:8080/",
          "height": 200
        }
      },
      "source": [
        "# Programa 8.6 - Função modificada para facilitar o rastreamento\n",
        "\n",
        "def fatorial(n):\n",
        "  print(f'Calculando o fatorial de {n}')\n",
        "  if n == 0 or n == 1:\n",
        "    print(f'Fatorial de {n} = 1')\n",
        "    return 1\n",
        "  else:\n",
        "    fat = n * fatorial(n-1)\n",
        "    print(f'fatorial de {n} = {fat}')\n",
        "  return fat\n",
        "\n",
        "fatorial(5)"
      ],
      "execution_count": 0,
      "outputs": [
        {
          "output_type": "stream",
          "text": [
            "Calculando o fatorial de 5\n",
            "Calculando o fatorial de 4\n",
            "Calculando o fatorial de 3\n",
            "Calculando o fatorial de 2\n",
            "Calculando o fatorial de 1\n",
            "Fatorial de 1 = 1\n",
            "fatorial de 2 = 2\n",
            "fatorial de 3 = 6\n",
            "fatorial de 4 = 24\n",
            "fatorial de 5 = 120\n"
          ],
          "name": "stdout"
        },
        {
          "output_type": "execute_result",
          "data": {
            "text/plain": [
              "120"
            ]
          },
          "metadata": {
            "tags": []
          },
          "execution_count": 3
        }
      ]
    },
    {
      "cell_type": "markdown",
      "metadata": {
        "id": "QSZMUti2xS1V",
        "colab_type": "text"
      },
      "source": [
        "*A sequência de Fibonnaci é outro problema clássico no qual se pode aplicar funções recursivas. A sequência pode ser entedida como o número de casais de coelhos que se teria após cada ciclo de reprodução, considerando que cada ciclo dá origem a um casal.*<br>\n",
        "*Sendo implementada em Python como:*"
      ]
    },
    {
      "cell_type": "code",
      "metadata": {
        "id": "ZTrK3yu0yFme",
        "colab_type": "code",
        "colab": {}
      },
      "source": [
        "# Programa 8.7 - Função recuriva de Fibonacci\n",
        "\n",
        "def fibonacci(n):\n",
        "  if n <= 1:\n",
        "    return n\n",
        "  else:\n",
        "    return fibonacci(n - 1) + fibonacci(n - 2)"
      ],
      "execution_count": 0,
      "outputs": []
    },
    {
      "cell_type": "markdown",
      "metadata": {
        "id": "2eCz8gz0z28P",
        "colab_type": "text"
      },
      "source": [
        "<h4>Exercício"
      ]
    },
    {
      "cell_type": "code",
      "metadata": {
        "id": "2FlDpd-6z8Br",
        "colab_type": "code",
        "colab": {}
      },
      "source": [
        "# Exercício 8.7"
      ],
      "execution_count": 0,
      "outputs": []
    },
    {
      "cell_type": "code",
      "metadata": {
        "id": "KOurwHBqz_K4",
        "colab_type": "code",
        "colab": {}
      },
      "source": [
        "# Exercício 8.8"
      ],
      "execution_count": 0,
      "outputs": []
    },
    {
      "cell_type": "code",
      "metadata": {
        "id": "ZG2kc86J0Ciq",
        "colab_type": "code",
        "colab": {}
      },
      "source": [
        "# Exercício 8.9"
      ],
      "execution_count": 0,
      "outputs": []
    },
    {
      "cell_type": "code",
      "metadata": {
        "id": "PjY5sKqM0FWs",
        "colab_type": "code",
        "colab": {}
      },
      "source": [
        "# Exercício 8.10"
      ],
      "execution_count": 0,
      "outputs": []
    },
    {
      "cell_type": "markdown",
      "metadata": {
        "id": "5wh03Okez6MB",
        "colab_type": "text"
      },
      "source": [
        "<hr>\n",
        "<h3>Validação</h3>\n",
        "<hr>\n",
        "\n",
        "*→ Validar entrada de dados.*<br>\n",
        "*Código para ler um valor inteiro, limitado por um valor de mínimo e máximo. Esse trecho repete a entrada de dados até ter um valor válido:*<br>"
      ]
    },
    {
      "cell_type": "code",
      "metadata": {
        "id": "mIbgpmex06kk",
        "colab_type": "code",
        "outputId": "328257fe-ba0c-4784-f3c9-898421f833d1",
        "colab": {
          "base_uri": "https://localhost:8080/",
          "height": 133
        }
      },
      "source": [
        "# Programa 8.8 - Exemplo de validação sem usar uma função\n",
        "\n",
        "while True:\n",
        "  v = int(input('Digite um valor entre 0 e 5: '))\n",
        "  if 0 < v < 5:\n",
        "    break\n",
        "  else:\n",
        "    print('Valor inválido!')"
      ],
      "execution_count": 0,
      "outputs": [
        {
          "output_type": "stream",
          "text": [
            "Digite um valor entre 0 e 5: 8\n",
            "Valor inválido!\n",
            "Digite um valor entre 0 e 5: 6\n",
            "Valor inválido!\n",
            "Digite um valor entre 0 e 5: 5\n",
            "Valor inválido!\n",
            "Digite um valor entre 0 e 5: 4\n"
          ],
          "name": "stdout"
        }
      ]
    },
    {
      "cell_type": "markdown",
      "metadata": {
        "id": "uvnBQCUD36bn",
        "colab_type": "text"
      },
      "source": [
        "*Pode ser tranformado em uma função que receba a pergunta e os valores de mínimo e máximo.*"
      ]
    },
    {
      "cell_type": "code",
      "metadata": {
        "id": "31IQpDFb4I-R",
        "colab_type": "code",
        "outputId": "8944c0dc-5a4f-4ed8-ecd8-0e97b9127a26",
        "colab": {
          "base_uri": "https://localhost:8080/",
          "height": 50
        }
      },
      "source": [
        "# Programa 8.9 - Validação de inteiro usando função\n",
        "\n",
        "def faixa_int(perg, mi, ma):\n",
        "  while True:\n",
        "    v = int(input(perg))\n",
        "    if v < mi or v > ma:\n",
        "      print(f'Valor inválido. Digite um valor entre {mi} e {ma}')\n",
        "    else:\n",
        "      return v\n",
        "\n",
        "perg = 'Informe um valor: '\n",
        "faixa_int(perg, 1, 10)"
      ],
      "execution_count": 0,
      "outputs": [
        {
          "output_type": "stream",
          "text": [
            "Informe um valor: 2\n"
          ],
          "name": "stdout"
        },
        {
          "output_type": "execute_result",
          "data": {
            "text/plain": [
              "2"
            ]
          },
          "metadata": {
            "tags": []
          },
          "execution_count": 17
        }
      ]
    },
    {
      "cell_type": "markdown",
      "metadata": {
        "id": "pBIdbTcM51Ak",
        "colab_type": "text"
      },
      "source": [
        "<h4>Exercício</h4>"
      ]
    },
    {
      "cell_type": "code",
      "metadata": {
        "id": "-C4D8rlV4Ips",
        "colab_type": "code",
        "outputId": "5419cd9c-4bb8-43e7-fa2e-b2ba90ae7761",
        "colab": {
          "base_uri": "https://localhost:8080/",
          "height": 83
        }
      },
      "source": [
        "# Exercício 8.11\n",
        "\n",
        "def faixa_str(perg, mi, ma):\n",
        "  while True:\n",
        "    v = input(perg)\n",
        "    if len(v) < mi or len(v) > ma:\n",
        "      print(f'String inválida. Digite uma string com tamanho entre {mi} e {ma} caracteres.')\n",
        "    else:\n",
        "      return v\n",
        "\n",
        "perg = 'Informe uma string: '\n",
        "faixa_str(perg, 5, 10)"
      ],
      "execution_count": 0,
      "outputs": [
        {
          "output_type": "stream",
          "text": [
            "Informe uma string: abcdefghijk\n",
            "String inválida. Digite uma string com tamanho entre 7 e 10 caracteres.\n",
            "Informe uma string: Ewerton\n"
          ],
          "name": "stdout"
        },
        {
          "output_type": "execute_result",
          "data": {
            "text/plain": [
              "'Ewerton'"
            ]
          },
          "metadata": {
            "tags": []
          },
          "execution_count": 20
        }
      ]
    },
    {
      "cell_type": "code",
      "metadata": {
        "id": "9f_TN0y87eYg",
        "colab_type": "code",
        "outputId": "8f1ac1a6-2cbe-4df2-9ea3-ee84aedbe2ec",
        "colab": {
          "base_uri": "https://localhost:8080/",
          "height": 327
        }
      },
      "source": [
        "# Exercício 8.12\n",
        "\n",
        "def pesq(pal, L):\n",
        "  while True:\n",
        "    p = input(pal)\n",
        "    for x in L:\n",
        "      if pal == L[x]:\n",
        "        return p\n",
        "      else:\n",
        "        print(f'A palavra {p} não foi encontrada!')\n",
        "\n",
        "pal = 'Informe uma palavra: '\n",
        "L = ['n1', 'n2', 'n3']\n",
        "pesq(pal, L)"
      ],
      "execution_count": 0,
      "outputs": [
        {
          "output_type": "stream",
          "text": [
            "Informe uma palavra: n1\n"
          ],
          "name": "stdout"
        },
        {
          "output_type": "error",
          "ename": "TypeError",
          "evalue": "ignored",
          "traceback": [
            "\u001b[0;31m---------------------------------------------------------------------------\u001b[0m",
            "\u001b[0;31mTypeError\u001b[0m                                 Traceback (most recent call last)",
            "\u001b[0;32m<ipython-input-22-3f9e0e2d535e>\u001b[0m in \u001b[0;36m<module>\u001b[0;34m()\u001b[0m\n\u001b[1;32m     11\u001b[0m \u001b[0mpal\u001b[0m \u001b[0;34m=\u001b[0m \u001b[0;34m'Informe uma palavra: '\u001b[0m\u001b[0;34m\u001b[0m\u001b[0;34m\u001b[0m\u001b[0m\n\u001b[1;32m     12\u001b[0m \u001b[0mL\u001b[0m \u001b[0;34m=\u001b[0m \u001b[0;34m[\u001b[0m\u001b[0;34m'n1'\u001b[0m\u001b[0;34m,\u001b[0m \u001b[0;34m'n2'\u001b[0m\u001b[0;34m,\u001b[0m \u001b[0;34m'n3'\u001b[0m\u001b[0;34m]\u001b[0m\u001b[0;34m\u001b[0m\u001b[0;34m\u001b[0m\u001b[0m\n\u001b[0;32m---> 13\u001b[0;31m \u001b[0mpesq\u001b[0m\u001b[0;34m(\u001b[0m\u001b[0mpal\u001b[0m\u001b[0;34m,\u001b[0m \u001b[0mL\u001b[0m\u001b[0;34m)\u001b[0m\u001b[0;34m\u001b[0m\u001b[0;34m\u001b[0m\u001b[0m\n\u001b[0m",
            "\u001b[0;32m<ipython-input-22-3f9e0e2d535e>\u001b[0m in \u001b[0;36mpesq\u001b[0;34m(pal, L)\u001b[0m\n\u001b[1;32m      4\u001b[0m     \u001b[0mp\u001b[0m \u001b[0;34m=\u001b[0m \u001b[0minput\u001b[0m\u001b[0;34m(\u001b[0m\u001b[0mpal\u001b[0m\u001b[0;34m)\u001b[0m\u001b[0;34m\u001b[0m\u001b[0;34m\u001b[0m\u001b[0m\n\u001b[1;32m      5\u001b[0m     \u001b[0;32mfor\u001b[0m \u001b[0mx\u001b[0m \u001b[0;32min\u001b[0m \u001b[0mL\u001b[0m\u001b[0;34m:\u001b[0m\u001b[0;34m\u001b[0m\u001b[0;34m\u001b[0m\u001b[0m\n\u001b[0;32m----> 6\u001b[0;31m       \u001b[0;32mif\u001b[0m \u001b[0mpal\u001b[0m \u001b[0;34m==\u001b[0m \u001b[0mL\u001b[0m\u001b[0;34m[\u001b[0m\u001b[0mx\u001b[0m\u001b[0;34m]\u001b[0m\u001b[0;34m:\u001b[0m\u001b[0;34m\u001b[0m\u001b[0;34m\u001b[0m\u001b[0m\n\u001b[0m\u001b[1;32m      7\u001b[0m         \u001b[0;32mreturn\u001b[0m \u001b[0mp\u001b[0m\u001b[0;34m\u001b[0m\u001b[0;34m\u001b[0m\u001b[0m\n\u001b[1;32m      8\u001b[0m       \u001b[0;32melse\u001b[0m\u001b[0;34m:\u001b[0m\u001b[0;34m\u001b[0m\u001b[0;34m\u001b[0m\u001b[0m\n",
            "\u001b[0;31mTypeError\u001b[0m: list indices must be integers or slices, not str"
          ]
        }
      ]
    },
    {
      "cell_type": "markdown",
      "metadata": {
        "id": "rNXhyspbvMfk",
        "colab_type": "text"
      },
      "source": [
        "# ***Módulos***\n",
        "\n",
        "Precisa-se armazenar as funções em outros arquivos e de alguma forma usá-las sem precisar reescrevê-las. \n",
        "\n",
        "Python resolve o problema com módulos. Todo arquivo .py é uma módulo podendo sem importado com o comando ***import***."
      ]
    },
    {
      "cell_type": "code",
      "metadata": {
        "id": "Jq6A1Y_yy-Ux",
        "colab_type": "code",
        "colab": {}
      },
      "source": [
        "import math\n",
        "\n",
        "from math import sqrt, ceil"
      ],
      "execution_count": 0,
      "outputs": []
    },
    {
      "cell_type": "code",
      "metadata": {
        "id": "sx53JQNi5H-y",
        "colab_type": "code",
        "outputId": "4720ee15-3194-410e-cfe7-3f4e03185e08",
        "colab": {
          "base_uri": "https://localhost:8080/",
          "height": 34
        }
      },
      "source": [
        "math.factorial(5)"
      ],
      "execution_count": 0,
      "outputs": [
        {
          "output_type": "execute_result",
          "data": {
            "text/plain": [
              "120"
            ]
          },
          "metadata": {
            "tags": []
          },
          "execution_count": 10
        }
      ]
    },
    {
      "cell_type": "code",
      "metadata": {
        "id": "M6MWf8-s6JFO",
        "colab_type": "code",
        "outputId": "89d93057-c859-45fb-e012-9863828d6651",
        "colab": {
          "base_uri": "https://localhost:8080/",
          "height": 34
        }
      },
      "source": [
        "math.fabs(10)"
      ],
      "execution_count": 0,
      "outputs": [
        {
          "output_type": "execute_result",
          "data": {
            "text/plain": [
              "10.0"
            ]
          },
          "metadata": {
            "tags": []
          },
          "execution_count": 9
        }
      ]
    },
    {
      "cell_type": "code",
      "metadata": {
        "id": "5qqkxyQO9C15",
        "colab_type": "code",
        "outputId": "9a9a398f-20f6-47db-9690-5f91a0300d76",
        "colab": {
          "base_uri": "https://localhost:8080/",
          "height": 51
        }
      },
      "source": [
        "import math\n",
        "num = int(input('Digite um númeroo: '))\n",
        "raiz = math.sqrt(num)\n",
        "print(f'A raiz de {num} é igual a {math.ceil(raiz)}.')"
      ],
      "execution_count": 0,
      "outputs": [
        {
          "output_type": "stream",
          "text": [
            "Digite um númeroo: 25\n",
            "A raiz de 25 é igual a 5.\n"
          ],
          "name": "stdout"
        }
      ]
    },
    {
      "cell_type": "code",
      "metadata": {
        "id": "D8EyJXBP2963",
        "colab_type": "code",
        "outputId": "0c69279b-d3e2-4c53-e29e-d0188bc0f47a",
        "colab": {
          "base_uri": "https://localhost:8080/",
          "height": 34
        }
      },
      "source": [
        "import random\n",
        "num = random.randint(1, 10)\n",
        "print(num)"
      ],
      "execution_count": 0,
      "outputs": [
        {
          "output_type": "stream",
          "text": [
            "7\n"
          ],
          "name": "stdout"
        }
      ]
    },
    {
      "cell_type": "code",
      "metadata": {
        "id": "ROln5fvhA0Z9",
        "colab_type": "code",
        "outputId": "9f4b4084-775c-42e8-fd46-9321ce01f564",
        "colab": {
          "base_uri": "https://localhost:8080/",
          "height": 51
        }
      },
      "source": [
        "!pip install -q emoji"
      ],
      "execution_count": 0,
      "outputs": [
        {
          "output_type": "stream",
          "text": [
            "\u001b[?25l\r\u001b[K     |███████▌                        | 10kB 17.2MB/s eta 0:00:01\r\u001b[K     |███████████████                 | 20kB 1.8MB/s eta 0:00:01\r\u001b[K     |██████████████████████▋         | 30kB 2.6MB/s eta 0:00:01\r\u001b[K     |██████████████████████████████▏ | 40kB 1.7MB/s eta 0:00:01\r\u001b[K     |████████████████████████████████| 51kB 1.6MB/s \n",
            "\u001b[?25h  Building wheel for emoji (setup.py) ... \u001b[?25l\u001b[?25hdone\n"
          ],
          "name": "stdout"
        }
      ]
    },
    {
      "cell_type": "code",
      "metadata": {
        "id": "BjNTm75e_aLH",
        "colab_type": "code",
        "outputId": "42a725af-1ba6-48a6-f36e-7bb0287c2cf2",
        "colab": {
          "base_uri": "https://localhost:8080/",
          "height": 34
        }
      },
      "source": [
        "import emoji\n",
        "print(emoji.emojize('Olá, Mundo! :earth_americas:', use_aliases=True))"
      ],
      "execution_count": 0,
      "outputs": [
        {
          "output_type": "stream",
          "text": [
            "Olá, Mundo! 🌎\n"
          ],
          "name": "stdout"
        }
      ]
    },
    {
      "cell_type": "code",
      "metadata": {
        "id": "zj6l13I5vWN6",
        "colab_type": "code",
        "colab": {}
      },
      "source": [
        "# Programa 8.18 - Módulo entrada (entrada.py)\n",
        "\n",
        "def valida_inteiro(mensagem, minimo, maximo):\n",
        "  while True:\n",
        "    try:\n",
        "      v = int(input('mensagem'))\n",
        "      if v >= minimo and v <= maximo:\n",
        "        return v\n",
        "      else:\n",
        "        print(f'Digite um valor entre {mínimo} e {maximo}')\n",
        "    except ValueError:\n",
        "      print('Você deve digitar um número inteiro')"
      ],
      "execution_count": 0,
      "outputs": []
    },
    {
      "cell_type": "code",
      "metadata": {
        "id": "LG5RfOlgvK1l",
        "colab_type": "code",
        "outputId": "f7baa235-4c68-4df0-8972-daeb0b6e4bf9",
        "colab": {
          "base_uri": "https://localhost:8080/",
          "height": 381
        }
      },
      "source": [
        "# Programa 8.19 - Módulo soma (soma.py) que importa entrada\n",
        "\n",
        "import entrada\n",
        "L = []\n",
        "for x in range(10):\n",
        "    L.append(entrada.valida_inteiro('Digite um número:', 0 , 20))\n",
        "print(f'Soma: {sum(L)}')"
      ],
      "execution_count": 0,
      "outputs": [
        {
          "output_type": "error",
          "ename": "ModuleNotFoundError",
          "evalue": "ignored",
          "traceback": [
            "\u001b[0;31m---------------------------------------------------------------------------\u001b[0m",
            "\u001b[0;31mModuleNotFoundError\u001b[0m                       Traceback (most recent call last)",
            "\u001b[0;32m<ipython-input-4-66a9ec55514c>\u001b[0m in \u001b[0;36m<module>\u001b[0;34m()\u001b[0m\n\u001b[1;32m      1\u001b[0m \u001b[0;34m\u001b[0m\u001b[0m\n\u001b[0;32m----> 2\u001b[0;31m \u001b[0;32mimport\u001b[0m \u001b[0mentrada\u001b[0m\u001b[0;34m\u001b[0m\u001b[0;34m\u001b[0m\u001b[0m\n\u001b[0m\u001b[1;32m      3\u001b[0m \u001b[0mL\u001b[0m \u001b[0;34m=\u001b[0m \u001b[0;34m[\u001b[0m\u001b[0;34m]\u001b[0m\u001b[0;34m\u001b[0m\u001b[0;34m\u001b[0m\u001b[0m\n\u001b[1;32m      4\u001b[0m \u001b[0;32mfor\u001b[0m \u001b[0mx\u001b[0m \u001b[0;32min\u001b[0m \u001b[0mrange\u001b[0m\u001b[0;34m(\u001b[0m\u001b[0;36m10\u001b[0m\u001b[0;34m)\u001b[0m\u001b[0;34m:\u001b[0m\u001b[0;34m\u001b[0m\u001b[0;34m\u001b[0m\u001b[0m\n\u001b[1;32m      5\u001b[0m     \u001b[0mL\u001b[0m\u001b[0;34m.\u001b[0m\u001b[0mappend\u001b[0m\u001b[0;34m(\u001b[0m\u001b[0mentrada\u001b[0m\u001b[0;34m.\u001b[0m\u001b[0mvalida_inteiro\u001b[0m\u001b[0;34m(\u001b[0m\u001b[0;34m'Digite um número:'\u001b[0m\u001b[0;34m,\u001b[0m \u001b[0;36m0\u001b[0m \u001b[0;34m,\u001b[0m \u001b[0;36m20\u001b[0m\u001b[0;34m)\u001b[0m\u001b[0;34m)\u001b[0m\u001b[0;34m\u001b[0m\u001b[0;34m\u001b[0m\u001b[0m\n",
            "\u001b[0;31mModuleNotFoundError\u001b[0m: No module named 'entrada'",
            "",
            "\u001b[0;31m---------------------------------------------------------------------------\u001b[0;32m\nNOTE: If your import is failing due to a missing package, you can\nmanually install dependencies using either !pip or !apt.\n\nTo view examples of installing some common dependencies, click the\n\"Open Examples\" button below.\n\u001b[0;31m---------------------------------------------------------------------------\u001b[0m\n"
          ]
        }
      ]
    }
  ]
}